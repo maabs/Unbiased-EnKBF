{
 "cells": [
  {
   "cell_type": "markdown",
   "metadata": {},
   "source": [
    "In this document we develop the necessary functions to apply the *Unbiased EnKBF*. Some of the functions are already computed and are taken from https://github.com/fangyuan-ksgk/Multilevel-Ensemble-Kalman-Bucy-Filter"
   ]
  },
  {
   "cell_type": "markdown",
   "metadata": {},
   "source": [
    "The system that we are concerned with is:\n",
    "\\begin{align}\n",
    "dX_t =& A X_t dt + R_1 dW_t,\\\\\n",
    "dY_t =& H X_t dt + R_2 dV_t\n",
    "\\end{align}\n"
   ]
  },
  {
   "cell_type": "markdown",
   "metadata": {},
   "source": [
    "Model settings: (Conditions that the model needs to satsify)\n",
    "1. Signal of dimension 'dim', and the observtations are in dimension 'dim_o'\n",
    "2. $x_0|y_0 \\sim N(m_0,C_0)$\n",
    "3. $R_1, R_2$ is symmetric\n",
    "4. $R_1$ is commutable with $A$\n",
    "5. $(A+A')$ is invertible\n",
    "6. For convenience purpose the target function is $\\varphi(x)=x^{1}$, where $x=(x^{1},x^{2},...,x^{dim})$\n",
    "\n",
    "In this code, I will include the $A,R_1,R_2,H,m_0,C_0$ as parameter as well, so that it's easily scalable wrt any dimension dim.\n",
    "Note that dim needs to be bigger than 1, as the matrix multiplication sign '@' in python doesn't support '*' in one dimension."
   ]
  },
  {
   "cell_type": "markdown",
   "metadata": {},
   "source": [
    "First the input value for $A,R1,R2,H,m_0,C_0$ need to be folded into one variable.\n",
    "One need to specify the model in the cell below first."
   ]
  },
  {
   "cell_type": "markdown",
   "metadata": {},
   "source": [
    "If we where going to compare with the paper, there would be a difference in the notations of the equations: In the paper we use $C$ instead of $H$(observation matrix?), $R_1$ instead of $R_1^{\\frac{1}{2}}$, and $R_2$ instead of $R_2^{\\frac{1}{2}}$."
   ]
  },
  {
   "cell_type": "code",
   "execution_count": 14,
   "metadata": {},
   "outputs": [],
   "source": [
    "import numpy as np\n",
    "import progressbar\n",
    "from scipy import linalg as la\n",
    "from scipy.sparse import identity\n",
    "from scipy.sparse import rand\n",
    "from scipy.sparse import diags\n",
    "from scipy.sparse import triu\n",
    "amm=2.\n",
    "bmm=2.\n",
    "cmm=50.\n",
    "## dim is dimension value\n",
    "dim=10\n",
    "dim_o=10\n",
    "A1 = -rand(dim,dim,density=0.75).toarray()/5  #rand is a function that generates a random sparce matrix with entries\n",
    "# between 0 and 1.\n",
    "A2 = triu(A1, k=1).toarray()/(10) #Upper triangular matrix \n",
    "A = diags(np.random.normal(-0.5,0,dim),0).toarray()/50 + A2 - A2.T \n",
    "## we denote R1^{1/2},R2^{1/2} as R1,R2 repectively for convenience\n",
    "## Non-Identity covariance matrix\n",
    "R1=(identity(dim).toarray() + np.tri(dim,dim,1) - np.tri(dim,dim,-2))/5#2\n",
    "R2=(identity(dim_o).toarray() + np.tri(dim_o,dim_o,1) - np.tri(dim_o,dim_o,-2))/5#2\n",
    "\n",
    "H=rand(dim_o,dim,density=0.75).toarray()/20\n",
    "m0=np.zeros(dim)+6\n",
    "C0=identity(dim).toarray()\n",
    "## Collection of input \n",
    "collection_input = [dim,dim_o,A,R1,R2,H,m0,C0]\n",
    "#print(A,R1,H,R2,m0,C0)\n"
   ]
  },
  {
   "cell_type": "markdown",
   "metadata": {},
   "source": [
    "Generation of the realization of the process "
   ]
  },
  {
   "cell_type": "code",
   "execution_count": 2,
   "metadata": {},
   "outputs": [],
   "source": [
    "\"\"\"M:We can simulate the UO process exactly as shown in \n",
    "Markov Processes 1st Edition An Introduction for Physical Scientists Eq. E-12.b\n",
    "\"\"\"\n",
    "def gen_data(T,l,collection_input):\n",
    "    \n",
    "    [dim,dim_o,A,R1,R2,H,m0,C0]=collection_input\n",
    "    J=T*(2**l)\n",
    "    I=identity(dim).toarray()\n",
    "    tau=1./2**(l)\n",
    "    L=la.expm(A*tau)\n",
    "    ## We are going to need W to be symmetric! \n",
    "    W=(R1@R1)@(la.inv(A+A.T)@(L@(L.T)-I))\n",
    "    C=tau*H\n",
    "    V=(R2@R2)*tau\n",
    "\n",
    "    v=np.zeros((J+1,dim,1))\n",
    "    z=np.zeros((J+1,dim_o,1))\n",
    "    v[0]=np.random.multivariate_normal(m0,C0,(1)).T\n",
    "    z[0]=np.zeros((dim_o,1))\n",
    "\n",
    "\n",
    "    for j in range(J):\n",
    "        ## truth\n",
    "        #M: how do we know this is the truth? \n",
    "        v[j+1] = L@v[j] + np.random.multivariate_normal(np.zeros(dim),W,(1)).T\n",
    "        ## observation\n",
    "        z[j+1] = z[j] + C@v[j+1] + np.random.multivariate_normal(np.zeros(dim_o),V,(1)).T\n",
    "        \n",
    "    return([z,v])\n",
    "\n",
    "def gen_model(dim):\n",
    "    ## dim is dimension value\n",
    "    dim_o=dim\n",
    "    A1 = -rand(dim,dim,density=0.75).toarray()/1\n",
    "    A2 = triu(A1, k=1).toarray()/(cmm)\n",
    "    A = diags(np.random.normal(-0.5,0,dim),0).toarray()/50 + A2 - A2.T\n",
    "    ## we denote R1^{1/2},R2^{1/2} as R1,R2 repectively for convenience\n",
    "    ## Non-Identity covariance matrix\n",
    "    R1=(identity(dim).toarray() + np.tri(dim,dim,1) - np.tri(dim,dim,-2))/amm\n",
    "    R2=(identity(dim_o).toarray() + np.tri(dim_o,dim_o,1) - np.tri(dim_o,dim_o,-2))/bmm\n",
    "\n",
    "    H=rand(dim_o,dim,density=0.75).toarray()/20\n",
    "    m0=np.zeros(dim)+6\n",
    "    C0=identity(dim).toarray()\n",
    "    ## Collection of input \n",
    "    collection_input = [dim,dim_o,A,R1,R2,H,m0,C0]\n",
    "    return collection_input\n",
    "\n"
   ]
  },
  {
   "cell_type": "code",
   "execution_count": 3,
   "metadata": {},
   "outputs": [],
   "source": [
    "def KBF(T,l,lmax,z,collection_input):\n",
    "    \n",
    "    [dim,dim_o,A,R1,R2,H,m0,C0]=collection_input\n",
    "    J=T*(2**l)\n",
    "    I=identity(dim).toarray()\n",
    "    tau=2**(-l)\n",
    "    L=la.expm(A*tau)\n",
    "    W=(R1@R1)@(la.inv(A+A.T)@(L@(L.T)-I))\n",
    "    ## C: dim_o*dim matrix\n",
    "    C=tau*H\n",
    "    V=(R2@R2)*tau\n",
    "    \n",
    "    z=cut(T,lmax,l,z)\n",
    "    m=np.zeros((J+1,dim,1))\n",
    "    c=np.zeros((J+1,dim,dim))\n",
    "    m[0]=6*np.ones((dim,1))\n",
    "    c[0]=C0\n",
    "    \n",
    "    for j in range(J):\n",
    "        ## prediction mean-dim*1 vector\n",
    "        mhat=L@m[j]\n",
    "        ## prediction covariance-dim*dim matrix\n",
    "        chat=L@c[j]@(L.T)+W\n",
    "        ## innovation-dim_o*1 vector\n",
    "        d=(z[j+1]-z[j])-C@mhat\n",
    "        ## Kalman gain-dim*dim_o vector\n",
    "        K=(chat@(C.T))@la.inv(C@chat@(C.T)+V)\n",
    "        ## update mean-dim*1 vector\n",
    "        m[j+1]=mhat+K@d\n",
    "        ## update covariance-dim*dim matrix\n",
    "        c[j+1]=(I-K@C)@chat\n",
    "        \n",
    "    return([m,c])"
   ]
  },
  {
   "cell_type": "code",
   "execution_count": 4,
   "metadata": {},
   "outputs": [],
   "source": [
    "# Copies the i*2^(lmax-l) positions for i=0,1,...,T*2^l\n",
    "def cut(T,lmax,l,v):\n",
    "    ind = np.arange(T*2**l+1)\n",
    "    rtau = 2**(lmax-l)\n",
    "    w = v[ind*rtau]\n",
    "    return(w)"
   ]
  },
  {
   "cell_type": "markdown",
   "metadata": {},
   "source": [
    "Testing Floor: KBF"
   ]
  },
  {
   "cell_type": "code",
   "execution_count": 5,
   "metadata": {
    "scrolled": false
   },
   "outputs": [
    {
     "data": {
      "image/png": "[encoded data removed]",
      "text/plain": [
       "<Figure size 432x288 with 1 Axes>"
      ]
     },
     "metadata": {
      "needs_background": "light"
     },
     "output_type": "display_data"
    }
   ],
   "source": [
    "## test:good\n",
    "import numpy as np\n",
    "import matplotlib.pyplot as plt \n",
    "from scipy import linalg as la\n",
    "from scipy.sparse import identity\n",
    "T=100\n",
    "lmax=5\n",
    "l=4\n",
    "tau=2**(-l)\n",
    "## The with numpy.errstate argument is used to avoid any stupid warning\n",
    "with np.errstate(divide='ignore'):\n",
    "    [z,v] = gen_data(T,lmax,collection_input)\n",
    "    [m,c] = KBF(T,l,lmax,z,collection_input)\n",
    "v=cut(T,lmax,l,v)\n",
    "J=T*(2**l)\n",
    "x1 = tau*np.arange(J+1)\n",
    "plt.plot(x1,m[:,4],label=\"KBF posterior mean estimate\")\n",
    "plt.plot(x1,v[:,4],label=\"true value\")\n",
    "plt.xlabel('time')\n",
    "plt.ylabel('value')\n",
    "plt.title('Kalman-Bucy Filter')\n",
    "plt.legend()\n",
    "plt.grid()\n",
    "plt.show()"
   ]
  },
  {
   "cell_type": "markdown",
   "metadata": {},
   "source": [
    "Ensemble Kalman Bucy Filter Function ： Euler"
   ]
  },
  {
   "cell_type": "code",
   "execution_count": 15,
   "metadata": {},
   "outputs": [],
   "source": [
    "def DEnKBF(T,l,lz,lmax,z,N,collection_input,w,v):\n",
    "    \n",
    "    [dim,dim_o,A,R1,R2,H,m0,C0]=collection_input\n",
    "    J=T*(2**l)\n",
    "    I=identity(dim).toarray()\n",
    "    I_o=identity(dim_o).toarray()\n",
    "    dt=2**(-l)  \n",
    "    m=np.zeros((J+1,dim,1))\n",
    "    c=np.zeros((J+1,dim,dim))\n",
    "    z_copy=cut(T,lz,l,z)\n",
    "    w_copy=cut(T,lmax,l,w)\n",
    "    dw_copy=w_copy[1:]-w_copy[:-1]\n",
    "    v_copy=cut(T,lmax,l,v)\n",
    "    dv_copy=v_copy[1:]-v_copy[:-1]\n",
    "    #both of these lines use concatenate because the brownian increments are T*2^lmax instead of T*2^lmax+1\n",
    "    #and the cut() function uses arrays of dim T*2^lmax+1.\n",
    "   \n",
    "    ## This gives a dim*N matrix\n",
    "    x = np.random.multivariate_normal(m0,C0,N).T\n",
    "    ## A dim*1 vector\n",
    "    m[0]=(np.mean(x, axis=1)).reshape(dim,1)\n",
    "    ## dim*dim matrix\n",
    "    c[0]=((x-m[0])@((x-m[0]).T)) /(N-1)\n",
    "    inv=la.inv(R2)@la.inv(R2)\n",
    "    for j in range(J):\n",
    "        #dw = np.random.multivariate_normal(np.zeros(dim),dt*I,N).T\n",
    "        #dv = np.random.multivariate_normal(np.zeros(dim_o),dt*I_o,N).T\n",
    "        ## A@x:dim*N R1@dw:dim*N c[j]@(H.T):dim*dim_o z[j+1]-z[j]:dim_o*1 H@x*dt:dim_o*N R2*dv:dim_o*N \n",
    "        ## x-m[j]:dim*N c[j]:dim*dim\n",
    "        \n",
    "        step1=(((x-m[j]).T)@(H.T))\n",
    "        step2=step1@(inv)\n",
    "        step3=step2@( (z_copy[j+1]-z_copy[j]) - (H@(x+m[j])*dt/2.))\n",
    "        step4=(x-m[j])@step3 /(N-1)\n",
    "        \n",
    "        x = x + A@x*dt + R1@(dw_copy[j].T) + step4\n",
    "        m[j+1] = (np.mean(x, axis=1)).reshape(dim,1)\n",
    "        c[j+1]=((x-m[j+1])@((x-m[j+1]).T))\n",
    "    \n",
    "    return([m,c,x])\n",
    "\n",
    "\n",
    "\n",
    "\n",
    "\n",
    "\n",
    "\n"
   ]
  },
  {
   "cell_type": "code",
   "execution_count": 7,
   "metadata": {},
   "outputs": [
    {
     "data": {
      "image/png": "[encoded data removed]",
      "text/plain": [
       "<Figure size 432x288 with 1 Axes>"
      ]
     },
     "metadata": {
      "needs_background": "light"
     },
     "output_type": "display_data"
    }
   ],
   "source": [
    "## test:Good \n",
    "import numpy as np\n",
    "import matplotlib.pyplot as plt \n",
    "from scipy import linalg as la\n",
    "from scipy.sparse import identity\n",
    "\n",
    "\n",
    "T=500\n",
    "lz=4\n",
    "lmax=4\n",
    "l=4\n",
    "tau=2**(-l)\n",
    "N=100\n",
    "dt=2**(-lmax)\n",
    "\n",
    "I=identity(dim).toarray()\n",
    "I_o=identity(dim_o).toarray()\n",
    "dw1=np.random.multivariate_normal(np.zeros(dim),dt*I,(T*2**(lmax),N))\n",
    "dw2=np.random.multivariate_normal(np.zeros(dim_o),dt*I_o,(T*2**(lmax),N))\n",
    "\n",
    "w1=np.cumsum(dw1,axis=0) \n",
    "w2=np.cumsum(dw2,axis=0) \n",
    "w1=np.concatenate(([w1[-1]-w1[-1]],w1),axis=0)\n",
    "w2=np.concatenate(([w2[-1]-w2[-1]],w2),axis=0)\n",
    "\n",
    "## The with numpy.errstate argument is used to avoid any stupid warning\n",
    "with np.errstate(divide='ignore'):\n",
    "    [z,v] = gen_data(T,lz,collection_input)\n",
    "    [m,c] = KBF(T,l,lz,z,collection_input)\n",
    "    [m1,c1,y1] = DEnKBF(T,l,lz,lmax,z,N,collection_input,w1,w2)\n",
    "    #[m2,c2] = DEnKBF(T,l,lmax,z,N,collection_input)\n",
    "v1=cut(T,lmax,l,v)\n",
    "z1=cut(T,lmax,l,z)\n",
    "\n",
    "\n",
    "J=T*(2**l)\n",
    "x1 = tau*np.arange(J+1)\n",
    "#print(m1[:,2].T[0])\n",
    "\n",
    "plt.plot(x1,m[:,1],label=\"KBF posterior mean estimate\")\n",
    "plt.plot(x1,v1[:,1],label=\"true value\")\n",
    "plt.plot(x1,m1[:,1],label=\"EnKBF Euler posterior mean estimate\")\n",
    "#plt.plot(x1,z1[:,1],label=\"Observations \")\n",
    "plt.xlabel('time')\n",
    "plt.ylabel('value')\n",
    "plt.title('Kalman-Bucy Filter')\n",
    "plt.legend()\n",
    "plt.grid()\n",
    "plt.show()"
   ]
  },
  {
   "cell_type": "markdown",
   "metadata": {},
   "source": [
    "Testing of the \"new\" EnKBF function"
   ]
  },
  {
   "cell_type": "markdown",
   "metadata": {},
   "source": [
    "Sequence of samples"
   ]
  },
  {
   "cell_type": "code",
   "execution_count": 16,
   "metadata": {},
   "outputs": [
    {
     "data": {
      "text/plain": [
       "[array([  0,  19,  38,  76, 152, 304]), array([ 19,  19,  38,  76, 152])]"
      ]
     },
     "execution_count": 16,
     "metadata": {},
     "output_type": "execute_result"
    }
   ],
   "source": [
    "#gives a sequence of numbers [N0,N1,...,Np]\n",
    "def nseq(p,N0):\n",
    "    #N0, The base number of particles has to be considerably big(N0>2) to avoid overflow.\n",
    "    seq=np.concatenate(([0],N0*np.array([2**i for i in range(p+1)])))\n",
    "    seq_diff=seq[1:]-seq[:-1]\n",
    "    return [seq,seq_diff]\n",
    "nseq(4,19)"
   ]
  },
  {
   "cell_type": "markdown",
   "metadata": {},
   "source": [
    "The following function computes the (3.2) in the paper, $\\Xi_{l,p}\\mathbb{P}_P(p)$."
   ]
  },
  {
   "cell_type": "markdown",
   "metadata": {},
   "source": [
    "Modified version:\n",
    "Arguments of this function \n",
    "\n",
    "p:  level of number of samples \n",
    "\n",
    "N0:  base number of samples \n",
    "\n",
    "l:  level of time discretization, $l$ $\\in$ ${0,1,...,lmax=lz-l0}$ \n",
    "\n",
    "l0: shift of the levels, i.e. the actual time step for a value of l is $2^{-l0-l}$\n",
    "\n",
    "lz:  level of discretization of the observations \n",
    "\n",
    "phi: function applied to the EnKBF \"particles\"\n",
    "\n",
    "T: time span of the filter\n",
    "\n",
    "z: observations"
   ]
  },
  {
   "cell_type": "code",
   "execution_count": 17,
   "metadata": {
    "scrolled": false
   },
   "outputs": [],
   "source": [
    "def Dplevels(p,N0,l,l0,lz,phi,T,z,collection_input):\n",
    "    [dim,dim_o]=collection_input[0:2]\n",
    "    [seq,seq_diff]=nseq(p,N0)\n",
    "    l_original=l\n",
    "    l+=l0\n",
    "    I=identity(dim).toarray()\n",
    "    I_o=identity(dim_o).toarray()\n",
    "    dt=2**(-l)\n",
    "    N=seq[-1]\n",
    "    \n",
    "    funct_val=np.zeros((dim,p+1))\n",
    "    funct_val2=np.zeros((dim,p+1))\n",
    "    if l_original==0:\n",
    "        if p>0:\n",
    "            \n",
    "            for i in range(p+1):\n",
    "                dw1=np.random.multivariate_normal(np.zeros(dim),dt*I,(T*2**(l),seq_diff[i]))\n",
    "                dw2=np.random.multivariate_normal(np.zeros(dim_o),dt*I_o,(T*2**(l),seq_diff[i]))\n",
    "                w1=np.cumsum(dw1,axis=0) \n",
    "                w2=np.cumsum(dw2,axis=0) \n",
    "                w1=np.concatenate(([w1[-1]-w1[-1]],w1),axis=0)\n",
    "                w2=np.concatenate(([w2[-1]-w2[-1]],w2),axis=0)\n",
    "                [m,c,x]=EnKBF(T,l,lz,l,z,seq_diff[i],collection_input,w1,w2)\n",
    "                funct_val[:,i]=np.sum(phi(x),axis=1)\n",
    "            xi= ((1./seq[-1]-1./seq[-2])*np.sum(funct_val[:,:-1],axis=1)+funct_val[:,-1]/seq[-1]).reshape((dim,1))\n",
    "        else:\n",
    "            dw1=np.random.multivariate_normal(np.zeros(dim),dt*I,(T*2**(l),seq_diff[p]))\n",
    "            dw2=np.random.multivariate_normal(np.zeros(dim_o),dt*I_o,(T*2**(l),seq_diff[p]))\n",
    "            w1=np.cumsum(dw1,axis=0) \n",
    "            w2=np.cumsum(dw2,axis=0) \n",
    "            w1=np.concatenate(([w1[-1]-w1[-1]],w1),axis=0)\n",
    "            w2=np.concatenate(([w2[-1]-w2[-1]],w2),axis=0)\n",
    "            [m,c,x]=EnKBF(T,l,lz,l,z,seq_diff[0],collection_input,w1[:,seq[p]:seq[p+1],:],w2[:,seq[p]:seq[p+1],:])\n",
    "            funct_val[:,0]=np.sum(phi(x),axis=1)\n",
    "            xi= (1./seq[-1])*funct_val    \n",
    "    if l_original>0:\n",
    "        if p==0:\n",
    "            dw1=np.random.multivariate_normal(np.zeros(dim),dt*I,(T*2**(l),seq_diff[p]))\n",
    "            dw2=np.random.multivariate_normal(np.zeros(dim_o),dt*I_o,(T*2**(l),seq_diff[p]))\n",
    "            w1=np.cumsum(dw1,axis=0) \n",
    "            w2=np.cumsum(dw2,axis=0) \n",
    "            w1=np.concatenate(([w1[-1]-w1[-1]],w1),axis=0)\n",
    "            w2=np.concatenate(([w2[-1]-w2[-1]],w2),axis=0)\n",
    "            [m,c,x]=EnKBF(T,l,lz,l,z,seq_diff[0],collection_input,w1[:,seq[p]:seq[p+1],:],w2[:,seq[p]:seq[p+1],:])\n",
    "            funct_val[:,0]=np.sum(phi(x),axis=1).T\n",
    "            xi1= (1./seq[-1])*funct_val\n",
    "            [m,c,x]=EnKBF(T,l-1,lz,l,z,seq_diff[0],collection_input,w1[:,seq[p]:seq[p+1],:],w2[:,seq[p]:seq[p+1],:])\n",
    "            funct_val2[:,0]=np.sum(phi(x),axis=1).T\n",
    "            xi2= (1./seq[-1])*funct_val2\n",
    "            xi=xi1-xi2\n",
    "        \n",
    "        if p>0:\n",
    "            \n",
    "            for i in range(p+1):\n",
    "                dw1=np.random.multivariate_normal(np.zeros(dim),dt*I,(T*2**(l),seq_diff[i]))\n",
    "                dw2=np.random.multivariate_normal(np.zeros(dim_o),dt*I_o,(T*2**(l),seq_diff[i]))\n",
    "                w1=np.cumsum(dw1,axis=0) \n",
    "                w2=np.cumsum(dw2,axis=0) \n",
    "                w1=np.concatenate(([w1[-1]-w1[-1]],w1),axis=0)\n",
    "                w2=np.concatenate(([w2[-1]-w2[-1]],w2),axis=0)\n",
    "                [m,c,x]=EnKBF(T,l,lz,l,z,seq_diff[i],collection_input,w1,w2)\n",
    "                funct_val[:,i]=np.sum(phi(x),axis=1)\n",
    "                [m,c,x]=EnKBF(T,l-1,lz,l,z,seq_diff[i],collection_input,w1,w2)\n",
    "                funct_val2[:,i]=np.sum(phi(x),axis=1)              \n",
    "                \n",
    "            xi1= ((1./seq[-1])-(1./seq[-2]))*np.sum(funct_val[:,:-1],axis=1)+funct_val[:,-1]/seq[-1]\n",
    "            xi2= (1./seq[-1]-1./seq[-2])*np.sum(funct_val2[:,:-1],axis=1)+funct_val2[:,-1]/seq[-1]\n",
    "            xi=(xi1-xi2).reshape((dim,1))\n",
    "    return xi\n",
    "\n",
    "def phi2(x):\n",
    "    return x"
   ]
  },
  {
   "cell_type": "markdown",
   "metadata": {},
   "source": [
    "Sampling function:\n",
    "\n",
    "This functions takes as argument an array representing the cumulative distribution of a random variable,and samples from it. \n",
    "\n",
    "cumulative[0]=F(1)<cumulative[1]=F(2)<...<cumulative[n-1]=cumulative[-1]=F(n)=1."
   ]
  },
  {
   "cell_type": "code",
   "execution_count": 18,
   "metadata": {},
   "outputs": [],
   "source": [
    "def sampling(cumulative):\n",
    "    u=np.random.uniform()\n",
    "    for i in range(len(cumulative)):\n",
    "        if cumulative[i]>u:\n",
    "            p=i\n",
    "            break\n",
    "            \n",
    "    return p"
   ]
  },
  {
   "cell_type": "markdown",
   "metadata": {},
   "source": [
    "Cumulatives"
   ]
  },
  {
   "cell_type": "markdown",
   "metadata": {},
   "source": [
    "Creates a pdf(and its cdf) $P(x)$ $x\\in \\{0,1,2,...,lmax\\}$"
   ]
  },
  {
   "cell_type": "code",
   "execution_count": 19,
   "metadata": {},
   "outputs": [],
   "source": [
    "def DF_l(lmax):\n",
    "    array=np.arange(lmax+1)\n",
    "    pdf=2**(-1.5*array)\n",
    "    pdf=pdf/np.sum(pdf)\n",
    "    cdf= np.cumsum(pdf)\n",
    "    return pdf, cdf\n",
    "\n",
    "\n",
    "\n",
    "def DF_p(lmax,l):\n",
    "    if (lmax-l)<=4:\n",
    "        array=np.arange(lmax-l+1)\n",
    "        pdf=2**(4-array)\n",
    "        pdf=pdf/np.sum(pdf)\n",
    "        cdf= np.cumsum(pdf)\n",
    "    if lmax-l>=5:\n",
    "        array1=np.arange(5)\n",
    "        array2=np.arange(5,lmax-l+1)\n",
    "        pdf1=2**(4-array1)\n",
    "        pdf2=array2*(np.log2(array2))**2/(2**(array2))\n",
    "        pdf=np.concatenate((pdf1,pdf2))\n",
    "        pdf=pdf/np.sum(pdf)\n",
    "        cdf= np.cumsum(pdf)\n",
    "    return [pdf,cdf]"
   ]
  },
  {
   "cell_type": "markdown",
   "metadata": {},
   "source": [
    "Single term estimator \n",
    "B: Number of i.i.d. samples of the unbiased estimator"
   ]
  },
  {
   "cell_type": "code",
   "execution_count": 20,
   "metadata": {},
   "outputs": [],
   "source": [
    "def single_term(B,N0,l0,lz,phi2,T,z,collection_input):\n",
    "    lmax=lz-l0\n",
    "    [dim,dim_o]=collection_input[0:2]\n",
    "    #lz=l0+lmax    \n",
    "    estimators=np.zeros((B,dim))\n",
    "    pls=np.zeros((B,2))\n",
    "    estimators_sum=0\n",
    "    [pdf_l,cdf_l]=DF_l(lmax)\n",
    "    for i in range(B):\n",
    "        l=sampling(cdf_l)\n",
    "        [pdf_p,cdf_p]=DF_p(lmax,l)\n",
    "        #print(lmax,l,pdf_p)\n",
    "        p=sampling(cdf_p)\n",
    "        #print(i,l,p)\n",
    "        xi=plevels(p,N0,l,l0,lz,phi2,T,z,collection_input)/(pdf_p[p]*pdf_l[l])\n",
    "        #print(((xi.T)[0]))\n",
    "        estimators[i]=(xi.T)[0]\n",
    "        pls[i]=[p,l]\n",
    "    \n",
    "    estimators_mean=np.mean(estimators,axis=0)\n",
    "    return [estimators_mean,pls]"
   ]
  },
  {
   "cell_type": "markdown",
   "metadata": {},
   "source": [
    "Primary **test** for the single term estimator "
   ]
  },
  {
   "cell_type": "code",
   "execution_count": 21,
   "metadata": {},
   "outputs": [],
   "source": [
    "dim=5\n",
    "T=5\n",
    "N0=50\n",
    "lz=12\n",
    "l0=5\n",
    "collection_input=gen_model(dim)\n",
    "[z,v]=gen_data(T,lz,collection_input)"
   ]
  },
  {
   "cell_type": "code",
   "execution_count": 22,
   "metadata": {},
   "outputs": [],
   "source": [
    "#B=10\n",
    "#single_term(B,N0,l0,lz,phi2,T,z,collection_input)"
   ]
  },
  {
   "cell_type": "code",
   "execution_count": 23,
   "metadata": {},
   "outputs": [],
   "source": [
    "lmax=lz\n",
    "l=lz\n",
    "tau=2**(-l)\n",
    "dt=2**(-lmax)\n",
    "N=50\n",
    "\n",
    "dim_o=collection_input[1]\n",
    "I=identity(dim).toarray()\n",
    "I_o=identity(dim_o).toarray()\n",
    "dw1=np.random.multivariate_normal(np.zeros(dim),dt*I,(T*2**(lmax),N))\n",
    "dw2=np.random.multivariate_normal(np.zeros(dim_o),dt*I_o,(T*2**(lmax),N))\n",
    "w1=np.cumsum(dw1,axis=0) \n",
    "w2=np.cumsum(dw2,axis=0) \n",
    "w1=np.concatenate(([w1[-1]-w1[-1]],w1),axis=0)\n",
    "w2=np.concatenate(([w2[-1]-w2[-1]],w2),axis=0)\n",
    "\n",
    "#EnKBF(T,l,lz,lmax,z,N,collection_input,w1,w2)[0][-1]"
   ]
  },
  {
   "cell_type": "markdown",
   "metadata": {},
   "source": [
    "Linear regression function:"
   ]
  },
  {
   "cell_type": "code",
   "execution_count": 24,
   "metadata": {},
   "outputs": [],
   "source": [
    "def coef(x, y): \n",
    "    # number of observations/points \n",
    "    n = np.size(x) \n",
    "  \n",
    "    # mean of x and y vector \n",
    "    m_x, m_y = np.mean(x), np.mean(y) \n",
    "  \n",
    "    # calculating cross-deviation and deviation about x \n",
    "    SS_xy = np.sum(y*x) - n*m_y*m_x \n",
    "    SS_xx = np.sum(x*x) - n*m_x*m_x \n",
    "  \n",
    "    # calculating regression coefficients \n",
    "    b_1 = SS_xy / SS_xx \n",
    "    b_0 = m_y - b_1*m_x \n",
    "  \n",
    "    return np.asarray((b_0, b_1)) "
   ]
  },
  {
   "cell_type": "markdown",
   "metadata": {},
   "source": [
    "Control of the bias:\n",
    "\n",
    "Let the bias of the EnKBF be \n",
    "\n",
    "$$\n",
    "\\begin{align}\n",
    "\\operatorname{E}\\left(\\eta^{N,l}_t-\\eta_t\\right)=&\\operatorname{E}\\left(\\eta^{N,l}_t-\\eta^l_t\\right)+\\operatorname{E}\\left(\\eta^{l}_t-\\eta_t\\right),\\\\\n",
    "&=k_1 \\Delta_l+k_2\\left(\\frac{1}{N}\\right),\n",
    "\\end{align}\n",
    "$$"
   ]
  },
  {
   "cell_type": "markdown",
   "metadata": {},
   "source": [
    "We obtain a bias\n",
    "$$\n",
    "\\begin{align}\n",
    "\\operatorname{E}\\left(\\eta^{N,l}_t-\\eta^{l}_t\\right)\n",
    "=k_2 \\frac{1}{N},\n",
    "\\end{align}\n",
    "$$\n",
    "Now, using Richardson extrapolation\n",
    "\n",
    "$$\n",
    "\\begin{align}\n",
    "\\operatorname{E}\\left(\\eta^{N_p,l}_t-\\eta^{N_{p-1},l}_t\\right)\n",
    "=-k_2 \\frac{1}{N_p},\n",
    "\\end{align}\n",
    "$$\n",
    "if $N_p=2^p$, which can be the case.  Taking the log of the absolute value\n",
    "$$\n",
    "\\begin{align}\n",
    "\\operatorname{Ln}|\\operatorname{E}\\left(\\eta^{N_p,l}_t-\\eta^{N_{p-1},l}_t\\right)|\n",
    "=\\operatorname{Ln}|k_2 \\Delta_l|=\\operatorname{Ln}|k_2|-p\\operatorname{Ln}(2)=\\operatorname{Ln}|k_2|+p\\operatorname{Ln}(1/2).\n",
    "\\end{align}\n",
    "$$"
   ]
  },
  {
   "cell_type": "markdown",
   "metadata": {},
   "source": [
    "### New version"
   ]
  },
  {
   "cell_type": "code",
   "execution_count": 17,
   "metadata": {},
   "outputs": [],
   "source": [
    "def fit_k2(seed_val,pmax,T,N0,l,collection_input,z,lz,REP):\n",
    "    np.random.seed(seed_val)\n",
    "    [dim,dim_o]=collection_input[0:2]\n",
    "    I=identity(dim).toarray()\n",
    "    I_o=identity(dim_o).toarray()\n",
    "    abscisas=np.array(range(0,pmax))+1\n",
    "    dim=collection_input[0]\n",
    "    ordenadas=np.zeros((pmax,dim))\n",
    "    rep_array=np.zeros((REP,dim))\n",
    "    lmaxE=l\n",
    "    for i in range(pmax):\n",
    "        p=i+1\n",
    "        dt=2**(-lmaxE)\n",
    "        with progressbar.ProgressBar(max_value=REP) as bar:\n",
    "            print(\"Current level is\",p,\". \",pmax-p,\"remaining.\")\n",
    "            for rep in range(REP):\n",
    "                dw1=np.random.multivariate_normal(np.zeros(dim),dt*I,(T*2**(lmaxE),N0*2**(p)))\n",
    "                dw2=np.random.multivariate_normal(np.zeros(dim_o),dt*I_o,(T*2**(lmaxE),N0*2**(p)))\n",
    "                w1=np.cumsum(dw1,axis=0) \n",
    "                w2=np.cumsum(dw2,axis=0) \n",
    "                w1=np.concatenate(([w1[-1]-w1[-1]],w1),axis=0)\n",
    "                w2=np.concatenate(([w2[-1]-w2[-1]],w2),axis=0)\n",
    "                Enk1=EnKBF(T,l,lz,lmaxE,z,N0*2**(p),collection_input,w1,w2)[0][-1][:,0]\n",
    "                Enk2=EnKBF(T,l,lz,lmaxE,z,N0*2**(p-1),collection_input,w1[:,:N0*2**(p-1),:],w2[:,:N0*2**(p-1),:])[0][-1][:,0]\n",
    "                rep_array[rep]=(Enk1-Enk2)\n",
    "                bar.update(rep)\n",
    "        ordenadas[i]=np.mean(rep_array,axis=0)\n",
    "    bs=np.zeros((dim,2))\n",
    "    for i in range(dim):\n",
    "        bs[i]=coef(abscisas,np.log2(np.abs(ordenadas)).T[i])\n",
    "    ordenadas=np.log2(np.abs(ordenadas))\n",
    "    bs=2**bs\n",
    "    bs[:,0]=N0*bs[:,0]\n",
    "    return [bs,abscisas,ordenadas]"
   ]
  },
  {
   "cell_type": "code",
   "execution_count": 18,
   "metadata": {},
   "outputs": [],
   "source": [
    "dim=2\n",
    "T=80\n",
    "amm=10.\n",
    "bmm=20.\n",
    "cmm=10.\n",
    "lz=11\n",
    "seed_val_col=5\n",
    "seed_val_obs=5\n",
    "np.random.seed(seed_val_col)\n",
    "collection_input=gen_model(dim)\n",
    "np.random.seed(seed_val_obs)\n",
    "[z,v]=gen_data(T,lz,collection_input)\n",
    "\n",
    "pmax=6\n",
    "N0=10\n",
    "l=4\n",
    "REP=2000"
   ]
  },
  {
   "cell_type": "code",
   "execution_count": 190,
   "metadata": {
    "scrolled": false
   },
   "outputs": [
    {
     "name": "stderr",
     "output_type": "stream",
     "text": [
      "\r",
      "  0% (0 of 2000) |                       | Elapsed Time: 0:00:00 ETA:  --:--:--"
     ]
    },
    {
     "name": "stdout",
     "output_type": "stream",
     "text": [
      "Current level is 1 .  5 remaining.\n"
     ]
    },
    {
     "name": "stderr",
     "output_type": "stream",
     "text": [
      "100% (2000 of 2000) |####################| Elapsed Time: 0:05:24 Time:  0:05:24\n",
      "  0% (0 of 2000) |                       | Elapsed Time: 0:00:00 ETA:  --:--:--"
     ]
    },
    {
     "name": "stdout",
     "output_type": "stream",
     "text": [
      "Current level is 2 .  4 remaining.\n"
     ]
    },
    {
     "name": "stderr",
     "output_type": "stream",
     "text": [
      "100% (2000 of 2000) |####################| Elapsed Time: 0:05:35 Time:  0:05:35\n",
      "  0% (0 of 2000) |                       | Elapsed Time: 0:00:00 ETA:  --:--:--"
     ]
    },
    {
     "name": "stdout",
     "output_type": "stream",
     "text": [
      "Current level is 3 .  3 remaining.\n"
     ]
    },
    {
     "name": "stderr",
     "output_type": "stream",
     "text": [
      "100% (2000 of 2000) |####################| Elapsed Time: 0:06:04 Time:  0:06:04\n"
     ]
    },
    {
     "name": "stdout",
     "output_type": "stream",
     "text": [
      "Current level is 4 .  2 remaining.\n"
     ]
    },
    {
     "name": "stderr",
     "output_type": "stream",
     "text": [
      "100% (2000 of 2000) |####################| Elapsed Time: 0:07:21 Time:  0:07:21\n"
     ]
    },
    {
     "name": "stdout",
     "output_type": "stream",
     "text": [
      "Current level is 5 .  1 remaining.\n"
     ]
    },
    {
     "name": "stderr",
     "output_type": "stream",
     "text": [
      "100% (2000 of 2000) |####################| Elapsed Time: 0:11:39 Time:  0:11:39\n"
     ]
    },
    {
     "name": "stdout",
     "output_type": "stream",
     "text": [
      "Current level is 6 .  0 remaining.\n"
     ]
    },
    {
     "name": "stderr",
     "output_type": "stream",
     "text": [
      "100% (2000 of 2000) |####################| Elapsed Time: 0:20:57 Time:  0:20:57\n"
     ]
    }
   ],
   "source": [
    "seed_val=5\n",
    "[b,abscisas,ordenadas]=fit_k2(seed_val,pmax,T,N0,l,collection_input,z,lz,REP)"
   ]
  },
  {
   "cell_type": "code",
   "execution_count": 191,
   "metadata": {},
   "outputs": [
    {
     "data": {
      "text/plain": [
       "[array([[0.03133436, 0.65730479],\n",
       "        [1.29854925, 0.46008071]]),\n",
       " array([1, 2, 3, 4, 5, 6]),\n",
       " array([[-10.42900231,  -4.17222161],\n",
       "        [ -8.30931094,  -5.07336932],\n",
       "        [-11.55658248,  -6.18988001],\n",
       "        [ -8.25832634,  -7.13251629],\n",
       "        [ -9.38972486,  -9.38759159],\n",
       "        [-14.67796432,  -9.23544879]])]"
      ]
     },
     "execution_count": 191,
     "metadata": {},
     "output_type": "execute_result"
    }
   ],
   "source": [
    "[b,abscisas,ordenadas]"
   ]
  },
  {
   "cell_type": "code",
   "execution_count": 194,
   "metadata": {
    "scrolled": true
   },
   "outputs": [
    {
     "data": {
      "text/plain": [
       "Text(0, 0.5, '$\\\\operatorname{Log2}\\\\left(\\\\operatorname{E}\\\\left(\\\\eta^{l}_t-\\\\eta_t\\\\right)\\\\right)$')"
      ]
     },
     "execution_count": 194,
     "metadata": {},
     "output_type": "execute_result"
    },
    {
     "data": {
      "image/png": "[encoded data removed]",
      "text/plain": [
       "<Figure size 432x288 with 1 Axes>"
      ]
     },
     "metadata": {
      "needs_background": "light"
     },
     "output_type": "display_data"
    }
   ],
   "source": [
    "plt.plot(abscisas,ordenadas[:,1],label=\"Numerical bias\")\n",
    "#plt.plot(abscisas,np.log2(b[0])+np.log2(b[1])*abscisas,label=\"Linear regression\")\n",
    "#plt.plot(abscisas,ordenadas[0]-4*np.log2(1/2.)+np.log2(1/2.)*abscisas,label=r\"Reference curve $a+l*Log(1/2)$\")\n",
    "plt.legend()\n",
    "plt.xlabel(\"l\")\n",
    "plt.ylabel(r\"$\\operatorname{Log2}\\left(\\operatorname{E}\\left(\\eta^{l}_t-\\eta_t\\right)\\right)$\")"
   ]
  },
  {
   "cell_type": "code",
   "execution_count": 195,
   "metadata": {},
   "outputs": [
    {
     "data": {
      "text/plain": [
       "1.2989272445661426"
      ]
     },
     "execution_count": 195,
     "metadata": {},
     "output_type": "execute_result"
    }
   ],
   "source": [
    "np.sqrt(np.sum(b[:,0]**2))"
   ]
  },
  {
   "cell_type": "code",
   "execution_count": 28,
   "metadata": {},
   "outputs": [],
   "source": [
    "def cost_function(T,pls,N0):\n",
    "    cost=0\n",
    "    pls=np.sum(pls,axis=1)\n",
    "    for i in range(len(pls)):\n",
    "        cost+=2**(pls[i])\n",
    "    cost=cost*T*N0\n",
    "    return cost"
   ]
  },
  {
   "cell_type": "markdown",
   "metadata": {},
   "source": [
    "In this section we are going to compute the coupled sum estimators in the number of samples level.\n",
    "The only two changes with respect the function plevels is that we have the additional arguments cdf_p and pdf_p, and that we are compututing $\\Xi_{l,p}$ instead of $\\Xi_{l,p}\\mathbb{P}_P(p)$"
   ]
  },
  {
   "cell_type": "code",
   "execution_count": 20,
   "metadata": {},
   "outputs": [],
   "source": [
    "def plevels_coupled(p,N0,l,l0,lz,phi,T,z,collection_input,cdf_p,pdf_p):\n",
    "    [dim,dim_o]=collection_input[0:2]\n",
    "    [seq,seq_diff]=nseq(p,N0)\n",
    "    l_original=l\n",
    "    l+=l0\n",
    "    I=identity(dim).toarray()\n",
    "    I_o=identity(dim_o).toarray()\n",
    "    dt=2**(-l)\n",
    "    N=seq[-1]\n",
    "    \n",
    "    funct_val=np.zeros((dim,p+1))\n",
    "    funct_val2=np.zeros((dim,p+1))\n",
    "    if l_original==0:\n",
    "        if p>0:\n",
    "            \n",
    "            for i in range(p+1):\n",
    "                dw1=np.random.multivariate_normal(np.zeros(dim),dt*I,(T*2**(l),seq_diff[i]))\n",
    "                dw2=np.random.multivariate_normal(np.zeros(dim_o),dt*I_o,(T*2**(l),seq_diff[i]))\n",
    "                w1=np.cumsum(dw1,axis=0) \n",
    "                w2=np.cumsum(dw2,axis=0) \n",
    "                w1=np.concatenate(([w1[-1]-w1[-1]],w1),axis=0)\n",
    "                w2=np.concatenate(([w2[-1]-w2[-1]],w2),axis=0)\n",
    "                [m,c,x]=EnKBF(T,l,lz,l,z,seq_diff[i],collection_input,w1,w2)\n",
    "                funct_val[:,i]=np.sum(phi(x),axis=1)\n",
    "            xi= ((1./seq[-1]-1./seq[-2])*np.sum(funct_val[:,:-1],axis=1)+funct_val[:,-1]/seq[-1]).reshape((dim,1))\n",
    "            xi=xi/pdf_p[p]\n",
    "        else:\n",
    "            dw1=np.random.multivariate_normal(np.zeros(dim),dt*I,(T*2**(l),seq_diff[p]))\n",
    "            dw2=np.random.multivariate_normal(np.zeros(dim_o),dt*I_o,(T*2**(l),seq_diff[p]))\n",
    "            w1=np.cumsum(dw1,axis=0) \n",
    "            w2=np.cumsum(dw2,axis=0) \n",
    "            w1=np.concatenate(([w1[-1]-w1[-1]],w1),axis=0)\n",
    "            w2=np.concatenate(([w2[-1]-w2[-1]],w2),axis=0)\n",
    "            [m,c,x]=EnKBF(T,l,lz,l,z,seq_diff[0],collection_input,w1[:,seq[p]:seq[p+1],:],w2[:,seq[p]:seq[p+1],:])\n",
    "            funct_val[:,0]=np.sum(phi(x),axis=1)\n",
    "            xi= (1./seq[-1])*funct_val/pdf_p[p]    \n",
    "    if l_original>0:\n",
    "        \n",
    "        if p==0:\n",
    "            dw1=np.random.multivariate_normal(np.zeros(dim),dt*I,(T*2**(l),seq_diff[p]))\n",
    "            dw2=np.random.multivariate_normal(np.zeros(dim_o),dt*I_o,(T*2**(l),seq_diff[p]))\n",
    "            w1=np.cumsum(dw1,axis=0) \n",
    "            w2=np.cumsum(dw2,axis=0) \n",
    "            w1=np.concatenate(([w1[-1]-w1[-1]],w1),axis=0)\n",
    "            w2=np.concatenate(([w2[-1]-w2[-1]],w2),axis=0)\n",
    "            [m,c,x]=EnKBF(T,l,lz,l,z,seq_diff[0],collection_input,w1[:,seq[p]:seq[p+1],:],w2[:,seq[p]:seq[p+1],:])\n",
    "            funct_val[:,0]=np.sum(phi(x),axis=1).T\n",
    "            xi1= (1./seq[-1])*funct_val\n",
    "            [m,c,x]=EnKBF(T,l-1,lz,l,z,seq_diff[0],collection_input,w1[:,seq[p]:seq[p+1],:],w2[:,seq[p]:seq[p+1],:])\n",
    "            funct_val2[:,0]=np.sum(phi(x),axis=1).T\n",
    "            xi2= (1./seq[-1])*funct_val2\n",
    "            xi=xi1-xi2\n",
    "        \n",
    "        if p>0:\n",
    "            mult_constants=np.array([(1/seq[i+1]-1/seq[i])/(1-cdf_p[i-1]) for i in range(1,p+1)])\n",
    "            vector_constants=np.zeros(p)\n",
    "            vector_constants2=seq[1:]*np.concatenate(([1],1-cdf_p[:p]))\n",
    "            for i in range(p):\n",
    "                vector_constants[i]=np.sum(mult_constants[i:])\n",
    "            for i in range(p+1):\n",
    "                dw1=np.random.multivariate_normal(np.zeros(dim),dt*I,(T*2**(l),seq_diff[i]))\n",
    "                dw2=np.random.multivariate_normal(np.zeros(dim_o),dt*I_o,(T*2**(l),seq_diff[i]))\n",
    "                w1=np.cumsum(dw1,axis=0) \n",
    "                w2=np.cumsum(dw2,axis=0) \n",
    "                w1=np.concatenate(([w1[-1]-w1[-1]],w1),axis=0)\n",
    "                w2=np.concatenate(([w2[-1]-w2[-1]],w2),axis=0)\n",
    "                [m,c,x]=EnKBF(T,l,lz,l,z,seq_diff[i],collection_input,w1,w2)\n",
    "                funct_val[:,i]=np.sum(phi(x),axis=1)\n",
    "                [m,c,x]=EnKBF(T,l-1,lz,l,z,seq_diff[i],collection_input,w1,w2)\n",
    "                funct_val2[:,i]=np.sum(phi(x),axis=1)   \n",
    "            term1= np.sum(vector_constants*(funct_val[:,:-1]-funct_val2[:,:-1]),axis=1)\n",
    "            term2=np.sum((funct_val-funct_val2)/vector_constants2,axis=1)\n",
    "            xi=term1+term2\n",
    "                \n",
    "            \n",
    "    return xi\n",
    "\n",
    "def Dplevels_coupled(p,N0,l,l0,lz,phi,T,z,collection_input,cdf_p,pdf_p):\n",
    "    [dim,dim_o]=collection_input[0:2]\n",
    "    [seq,seq_diff]=nseq(p,N0)\n",
    "    l_original=l\n",
    "    l+=l0\n",
    "    I=identity(dim).toarray()\n",
    "    I_o=identity(dim_o).toarray()\n",
    "    dt=2**(-l)\n",
    "    N=seq[-1]\n",
    "    \n",
    "    funct_val=np.zeros((dim,p+1))\n",
    "    funct_val2=np.zeros((dim,p+1))\n",
    "    if l_original==0:\n",
    "        if p>0:\n",
    "            \n",
    "            for i in range(p+1):\n",
    "                dw1=np.random.multivariate_normal(np.zeros(dim),dt*I,(T*2**(l),seq_diff[i]))\n",
    "                dw2=np.random.multivariate_normal(np.zeros(dim_o),dt*I_o,(T*2**(l),seq_diff[i]))\n",
    "                w1=np.cumsum(dw1,axis=0) \n",
    "                w2=np.cumsum(dw2,axis=0) \n",
    "                w1=np.concatenate(([w1[-1]-w1[-1]],w1),axis=0)\n",
    "                w2=np.concatenate(([w2[-1]-w2[-1]],w2),axis=0)\n",
    "                [m,c,x]=DEnKBF(T,l,lz,l,z,seq_diff[i],collection_input,w1,w2)\n",
    "                funct_val[:,i]=np.sum(phi(x),axis=1)\n",
    "            xi= ((1./seq[-1]-1./seq[-2])*np.sum(funct_val[:,:-1],axis=1)+funct_val[:,-1]/seq[-1]).reshape((dim,1))\n",
    "            xi=xi/pdf_p[p]\n",
    "        else:\n",
    "            dw1=np.random.multivariate_normal(np.zeros(dim),dt*I,(T*2**(l),seq_diff[p]))\n",
    "            dw2=np.random.multivariate_normal(np.zeros(dim_o),dt*I_o,(T*2**(l),seq_diff[p]))\n",
    "            w1=np.cumsum(dw1,axis=0) \n",
    "            w2=np.cumsum(dw2,axis=0) \n",
    "            w1=np.concatenate(([w1[-1]-w1[-1]],w1),axis=0)\n",
    "            w2=np.concatenate(([w2[-1]-w2[-1]],w2),axis=0)\n",
    "            [m,c,x]=DEnKBF(T,l,lz,l,z,seq_diff[0],collection_input,w1[:,seq[p]:seq[p+1],:],w2[:,seq[p]:seq[p+1],:])\n",
    "            funct_val[:,0]=np.sum(phi(x),axis=1)\n",
    "            xi= (1./seq[-1])*funct_val/pdf_p[p]    \n",
    "    if l_original>0:\n",
    "        \n",
    "        if p==0:\n",
    "            dw1=np.random.multivariate_normal(np.zeros(dim),dt*I,(T*2**(l),seq_diff[p]))\n",
    "            dw2=np.random.multivariate_normal(np.zeros(dim_o),dt*I_o,(T*2**(l),seq_diff[p]))\n",
    "            w1=np.cumsum(dw1,axis=0) \n",
    "            w2=np.cumsum(dw2,axis=0) \n",
    "            w1=np.concatenate(([w1[-1]-w1[-1]],w1),axis=0)\n",
    "            w2=np.concatenate(([w2[-1]-w2[-1]],w2),axis=0)\n",
    "            [m,c,x]=DEnKBF(T,l,lz,l,z,seq_diff[0],collection_input,w1[:,seq[p]:seq[p+1],:],w2[:,seq[p]:seq[p+1],:])\n",
    "            funct_val[:,0]=np.sum(phi(x),axis=1).T\n",
    "            xi1= (1./seq[-1])*funct_val\n",
    "            [m,c,x]=DEnKBF(T,l-1,lz,l,z,seq_diff[0],collection_input,w1[:,seq[p]:seq[p+1],:],w2[:,seq[p]:seq[p+1],:])\n",
    "            funct_val2[:,0]=np.sum(phi(x),axis=1).T\n",
    "            xi2= (1./seq[-1])*funct_val2\n",
    "            xi=xi1-xi2\n",
    "        \n",
    "        if p>0:\n",
    "            mult_constants=np.array([(1/seq[i+1]-1/seq[i])/(1-cdf_p[i-1]) for i in range(1,p+1)])\n",
    "            vector_constants=np.zeros(p)\n",
    "            vector_constants2=seq[1:]*np.concatenate(([1],1-cdf_p[:p]))\n",
    "            for i in range(p):\n",
    "                vector_constants[i]=np.sum(mult_constants[i:])\n",
    "            for i in range(p+1):\n",
    "                dw1=np.random.multivariate_normal(np.zeros(dim),dt*I,(T*2**(l),seq_diff[i]))\n",
    "                dw2=np.random.multivariate_normal(np.zeros(dim_o),dt*I_o,(T*2**(l),seq_diff[i]))\n",
    "                w1=np.cumsum(dw1,axis=0) \n",
    "                w2=np.cumsum(dw2,axis=0) \n",
    "                w1=np.concatenate(([w1[-1]-w1[-1]],w1),axis=0)\n",
    "                w2=np.concatenate(([w2[-1]-w2[-1]],w2),axis=0)\n",
    "                [m,c,x]=DEnKBF(T,l,lz,l,z,seq_diff[i],collection_input,w1,w2)\n",
    "                funct_val[:,i]=np.sum(phi(x),axis=1)\n",
    "                [m,c,x]=DEnKBF(T,l-1,lz,l,z,seq_diff[i],collection_input,w1,w2)\n",
    "                funct_val2[:,i]=np.sum(phi(x),axis=1)   \n",
    "            term1= np.sum(vector_constants*(funct_val[:,:-1]-funct_val2[:,:-1]),axis=1)\n",
    "            term2=np.sum((funct_val-funct_val2)/vector_constants2,axis=1)\n",
    "            xi=term1+term2\n",
    "                \n",
    "            \n",
    "    return xi\n"
   ]
  },
  {
   "cell_type": "code",
   "execution_count": 19,
   "metadata": {},
   "outputs": [],
   "source": [
    "def coupled_sum(B,N0,l0,lz,phi2,T,z,collection_input):\n",
    "    lmax=lz-l0\n",
    "    [dim,dim_o]=collection_input[0:2]\n",
    "    #lz=l0+lmax    \n",
    "    estimators=np.zeros((B,dim))\n",
    "    pls=np.zeros((B,2))\n",
    "    estimators_sum=0\n",
    "    [pdf_l,cdf_l]=DF_l(lmax)\n",
    "    for i in range(B):\n",
    "        l=sampling(cdf_l)\n",
    "        [pdf_p,cdf_p]=DF_p(lmax,l)\n",
    "        #print(lmax,l,pdf_p)\n",
    "        p=sampling(cdf_p)\n",
    "        #print(i,l,p)\n",
    "        xi=plevels_coupled(p,N0,l,l0,lz,phi2,T,z,collection_input,cdf_p,pdf_p)/pdf_l[l]\n",
    "        #print(((xi.T)[0]))\n",
    "        estimators[i]=(xi.T)[0]\n",
    "        pls[i]=[p,l]\n",
    "    \n",
    "    estimators_mean=np.mean(estimators,axis=0)\n",
    "    return [estimators_mean,pls]\n",
    "\n",
    "def Dcoupled_sum(B,N0,l0,lz,phi2,T,z,collection_input):\n",
    "    lmax=lz-l0\n",
    "    [dim,dim_o]=collection_input[0:2]\n",
    "    #lz=l0+lmax    \n",
    "    estimators=np.zeros((B,dim))\n",
    "    pls=np.zeros((B,2))\n",
    "    estimators_sum=0\n",
    "    [pdf_l,cdf_l]=DF_l(lmax)\n",
    "    for i in range(B):\n",
    "        l=sampling(cdf_l)\n",
    "        [pdf_p,cdf_p]=DF_p(lmax,l)\n",
    "        #print(lmax,l,pdf_p)\n",
    "        p=sampling(cdf_p)\n",
    "        #print(i,l,p)\n",
    "        xi=Dplevels_coupled(p,N0,l,l0,lz,phi2,T,z,collection_input,cdf_p,pdf_p)/pdf_l[l]\n",
    "        #print(((xi.T)[0]))\n",
    "        estimators[i]=(xi.T)[0]\n",
    "        pls[i]=[p,l]\n",
    "    \n",
    "    estimators_mean=np.mean(estimators,axis=0)\n",
    "    return [estimators_mean,pls]"
   ]
  },
  {
   "cell_type": "markdown",
   "metadata": {},
   "source": [
    "Primary test for the coupled sum estimator "
   ]
  },
  {
   "cell_type": "code",
   "execution_count": 21,
   "metadata": {},
   "outputs": [],
   "source": [
    "dim=10\n",
    "T=5\n",
    "N0=50\n",
    "lz=10\n",
    "l=3\n",
    "l0=5\n",
    "[pdf_l,cdf_l]=DF_l(lz-l0)\n",
    "[pdf_p,cdf_p]=DF_p(lz-l0,l)\n",
    "collection_input=gen_model(dim)\n",
    "p=3\n",
    "[z,v]=gen_data(T,lz,collection_input)"
   ]
  },
  {
   "cell_type": "code",
   "execution_count": 22,
   "metadata": {},
   "outputs": [
    {
     "name": "stderr",
     "output_type": "stream",
     "text": [
      "<ipython-input-6-7ca88ca7acd6>:42: RuntimeWarning: overflow encountered in matmul\n",
      "  c[j+1]=((x-m[j+1])@((x-m[j+1]).T))\n",
      "<ipython-input-6-7ca88ca7acd6>:37: RuntimeWarning: overflow encountered in matmul\n",
      "  step3=step2@( (z_copy[j+1]-z_copy[j]) -(H@x*dt + R2@dv_copy[j].T)) #+ R2@(dv_copy[j].T))\n",
      "<ipython-input-6-7ca88ca7acd6>:37: RuntimeWarning: invalid value encountered in matmul\n",
      "  step3=step2@( (z_copy[j+1]-z_copy[j]) -(H@x*dt + R2@dv_copy[j].T)) #+ R2@(dv_copy[j].T))\n",
      "/opt/anaconda3/lib/python3.8/site-packages/numpy/core/_methods.py:160: RuntimeWarning: invalid value encountered in reduce\n",
      "  ret = umr_sum(arr, axis, dtype, out, keepdims)\n",
      "<ipython-input-6-7ca88ca7acd6>:40: RuntimeWarning: invalid value encountered in matmul\n",
      "  x = x + A@x*dt + R1@(dw_copy[j].T) + step4\n",
      "<ipython-input-6-7ca88ca7acd6>:38: RuntimeWarning: overflow encountered in matmul\n",
      "  step4=(x-m[j])@step3 /(N-1)\n",
      "<ipython-input-6-7ca88ca7acd6>:40: RuntimeWarning: invalid value encountered in add\n",
      "  x = x + A@x*dt + R1@(dw_copy[j].T) + step4\n"
     ]
    },
    {
     "ename": "KeyboardInterrupt",
     "evalue": "",
     "output_type": "error",
     "traceback": [
      "\u001b[0;31m---------------------------------------------------------------------------\u001b[0m",
      "\u001b[0;31mKeyboardInterrupt\u001b[0m                         Traceback (most recent call last)",
      "\u001b[0;32m<ipython-input-22-ac412c013f19>\u001b[0m in \u001b[0;36m<module>\u001b[0;34m\u001b[0m\n\u001b[1;32m      1\u001b[0m \u001b[0mB\u001b[0m\u001b[0;34m=\u001b[0m\u001b[0;36m10000\u001b[0m\u001b[0;34m\u001b[0m\u001b[0;34m\u001b[0m\u001b[0m\n\u001b[0;32m----> 2\u001b[0;31m \u001b[0mcoupled_sum\u001b[0m\u001b[0;34m(\u001b[0m\u001b[0mB\u001b[0m\u001b[0;34m,\u001b[0m\u001b[0mN0\u001b[0m\u001b[0;34m,\u001b[0m\u001b[0ml0\u001b[0m\u001b[0;34m,\u001b[0m\u001b[0mlz\u001b[0m\u001b[0;34m,\u001b[0m\u001b[0mphi2\u001b[0m\u001b[0;34m,\u001b[0m\u001b[0mT\u001b[0m\u001b[0;34m,\u001b[0m\u001b[0mz\u001b[0m\u001b[0;34m,\u001b[0m\u001b[0mcollection_input\u001b[0m\u001b[0;34m)\u001b[0m\u001b[0;34m\u001b[0m\u001b[0;34m\u001b[0m\u001b[0m\n\u001b[0m",
      "\u001b[0;32m<ipython-input-19-66137695c279>\u001b[0m in \u001b[0;36mcoupled_sum\u001b[0;34m(B, N0, l0, lz, phi2, T, z, collection_input)\u001b[0m\n\u001b[1;32m     13\u001b[0m         \u001b[0mp\u001b[0m\u001b[0;34m=\u001b[0m\u001b[0msampling\u001b[0m\u001b[0;34m(\u001b[0m\u001b[0mcdf_p\u001b[0m\u001b[0;34m)\u001b[0m\u001b[0;34m\u001b[0m\u001b[0;34m\u001b[0m\u001b[0m\n\u001b[1;32m     14\u001b[0m         \u001b[0;31m#print(i,l,p)\u001b[0m\u001b[0;34m\u001b[0m\u001b[0;34m\u001b[0m\u001b[0;34m\u001b[0m\u001b[0m\n\u001b[0;32m---> 15\u001b[0;31m         \u001b[0mxi\u001b[0m\u001b[0;34m=\u001b[0m\u001b[0mplevels_coupled\u001b[0m\u001b[0;34m(\u001b[0m\u001b[0mp\u001b[0m\u001b[0;34m,\u001b[0m\u001b[0mN0\u001b[0m\u001b[0;34m,\u001b[0m\u001b[0ml\u001b[0m\u001b[0;34m,\u001b[0m\u001b[0ml0\u001b[0m\u001b[0;34m,\u001b[0m\u001b[0mlz\u001b[0m\u001b[0;34m,\u001b[0m\u001b[0mphi2\u001b[0m\u001b[0;34m,\u001b[0m\u001b[0mT\u001b[0m\u001b[0;34m,\u001b[0m\u001b[0mz\u001b[0m\u001b[0;34m,\u001b[0m\u001b[0mcollection_input\u001b[0m\u001b[0;34m,\u001b[0m\u001b[0mcdf_p\u001b[0m\u001b[0;34m,\u001b[0m\u001b[0mpdf_p\u001b[0m\u001b[0;34m)\u001b[0m\u001b[0;34m/\u001b[0m\u001b[0mpdf_l\u001b[0m\u001b[0;34m[\u001b[0m\u001b[0ml\u001b[0m\u001b[0;34m]\u001b[0m\u001b[0;34m\u001b[0m\u001b[0;34m\u001b[0m\u001b[0m\n\u001b[0m\u001b[1;32m     16\u001b[0m         \u001b[0;31m#print(((xi.T)[0]))\u001b[0m\u001b[0;34m\u001b[0m\u001b[0;34m\u001b[0m\u001b[0;34m\u001b[0m\u001b[0m\n\u001b[1;32m     17\u001b[0m         \u001b[0mestimators\u001b[0m\u001b[0;34m[\u001b[0m\u001b[0mi\u001b[0m\u001b[0;34m]\u001b[0m\u001b[0;34m=\u001b[0m\u001b[0;34m(\u001b[0m\u001b[0mxi\u001b[0m\u001b[0;34m.\u001b[0m\u001b[0mT\u001b[0m\u001b[0;34m)\u001b[0m\u001b[0;34m[\u001b[0m\u001b[0;36m0\u001b[0m\u001b[0;34m]\u001b[0m\u001b[0;34m\u001b[0m\u001b[0;34m\u001b[0m\u001b[0m\n",
      "\u001b[0;32m<ipython-input-20-87fefe097553>\u001b[0m in \u001b[0;36mplevels_coupled\u001b[0;34m(p, N0, l, l0, lz, phi, T, z, collection_input, cdf_p, pdf_p)\u001b[0m\n\u001b[1;32m     65\u001b[0m                 \u001b[0mw1\u001b[0m\u001b[0;34m=\u001b[0m\u001b[0mnp\u001b[0m\u001b[0;34m.\u001b[0m\u001b[0mconcatenate\u001b[0m\u001b[0;34m(\u001b[0m\u001b[0;34m(\u001b[0m\u001b[0;34m[\u001b[0m\u001b[0mw1\u001b[0m\u001b[0;34m[\u001b[0m\u001b[0;34m-\u001b[0m\u001b[0;36m1\u001b[0m\u001b[0;34m]\u001b[0m\u001b[0;34m-\u001b[0m\u001b[0mw1\u001b[0m\u001b[0;34m[\u001b[0m\u001b[0;34m-\u001b[0m\u001b[0;36m1\u001b[0m\u001b[0;34m]\u001b[0m\u001b[0;34m]\u001b[0m\u001b[0;34m,\u001b[0m\u001b[0mw1\u001b[0m\u001b[0;34m)\u001b[0m\u001b[0;34m,\u001b[0m\u001b[0maxis\u001b[0m\u001b[0;34m=\u001b[0m\u001b[0;36m0\u001b[0m\u001b[0;34m)\u001b[0m\u001b[0;34m\u001b[0m\u001b[0;34m\u001b[0m\u001b[0m\n\u001b[1;32m     66\u001b[0m                 \u001b[0mw2\u001b[0m\u001b[0;34m=\u001b[0m\u001b[0mnp\u001b[0m\u001b[0;34m.\u001b[0m\u001b[0mconcatenate\u001b[0m\u001b[0;34m(\u001b[0m\u001b[0;34m(\u001b[0m\u001b[0;34m[\u001b[0m\u001b[0mw2\u001b[0m\u001b[0;34m[\u001b[0m\u001b[0;34m-\u001b[0m\u001b[0;36m1\u001b[0m\u001b[0;34m]\u001b[0m\u001b[0;34m-\u001b[0m\u001b[0mw2\u001b[0m\u001b[0;34m[\u001b[0m\u001b[0;34m-\u001b[0m\u001b[0;36m1\u001b[0m\u001b[0;34m]\u001b[0m\u001b[0;34m]\u001b[0m\u001b[0;34m,\u001b[0m\u001b[0mw2\u001b[0m\u001b[0;34m)\u001b[0m\u001b[0;34m,\u001b[0m\u001b[0maxis\u001b[0m\u001b[0;34m=\u001b[0m\u001b[0;36m0\u001b[0m\u001b[0;34m)\u001b[0m\u001b[0;34m\u001b[0m\u001b[0;34m\u001b[0m\u001b[0m\n\u001b[0;32m---> 67\u001b[0;31m                 \u001b[0;34m[\u001b[0m\u001b[0mm\u001b[0m\u001b[0;34m,\u001b[0m\u001b[0mc\u001b[0m\u001b[0;34m,\u001b[0m\u001b[0mx\u001b[0m\u001b[0;34m]\u001b[0m\u001b[0;34m=\u001b[0m\u001b[0mEnKBF\u001b[0m\u001b[0;34m(\u001b[0m\u001b[0mT\u001b[0m\u001b[0;34m,\u001b[0m\u001b[0ml\u001b[0m\u001b[0;34m,\u001b[0m\u001b[0mlz\u001b[0m\u001b[0;34m,\u001b[0m\u001b[0ml\u001b[0m\u001b[0;34m,\u001b[0m\u001b[0mz\u001b[0m\u001b[0;34m,\u001b[0m\u001b[0mseq_diff\u001b[0m\u001b[0;34m[\u001b[0m\u001b[0mi\u001b[0m\u001b[0;34m]\u001b[0m\u001b[0;34m,\u001b[0m\u001b[0mcollection_input\u001b[0m\u001b[0;34m,\u001b[0m\u001b[0mw1\u001b[0m\u001b[0;34m,\u001b[0m\u001b[0mw2\u001b[0m\u001b[0;34m)\u001b[0m\u001b[0;34m\u001b[0m\u001b[0;34m\u001b[0m\u001b[0m\n\u001b[0m\u001b[1;32m     68\u001b[0m                 \u001b[0mfunct_val\u001b[0m\u001b[0;34m[\u001b[0m\u001b[0;34m:\u001b[0m\u001b[0;34m,\u001b[0m\u001b[0mi\u001b[0m\u001b[0;34m]\u001b[0m\u001b[0;34m=\u001b[0m\u001b[0mnp\u001b[0m\u001b[0;34m.\u001b[0m\u001b[0msum\u001b[0m\u001b[0;34m(\u001b[0m\u001b[0mphi\u001b[0m\u001b[0;34m(\u001b[0m\u001b[0mx\u001b[0m\u001b[0;34m)\u001b[0m\u001b[0;34m,\u001b[0m\u001b[0maxis\u001b[0m\u001b[0;34m=\u001b[0m\u001b[0;36m1\u001b[0m\u001b[0;34m)\u001b[0m\u001b[0;34m\u001b[0m\u001b[0;34m\u001b[0m\u001b[0m\n\u001b[1;32m     69\u001b[0m                 \u001b[0;34m[\u001b[0m\u001b[0mm\u001b[0m\u001b[0;34m,\u001b[0m\u001b[0mc\u001b[0m\u001b[0;34m,\u001b[0m\u001b[0mx\u001b[0m\u001b[0;34m]\u001b[0m\u001b[0;34m=\u001b[0m\u001b[0mEnKBF\u001b[0m\u001b[0;34m(\u001b[0m\u001b[0mT\u001b[0m\u001b[0;34m,\u001b[0m\u001b[0ml\u001b[0m\u001b[0;34m-\u001b[0m\u001b[0;36m1\u001b[0m\u001b[0;34m,\u001b[0m\u001b[0mlz\u001b[0m\u001b[0;34m,\u001b[0m\u001b[0ml\u001b[0m\u001b[0;34m,\u001b[0m\u001b[0mz\u001b[0m\u001b[0;34m,\u001b[0m\u001b[0mseq_diff\u001b[0m\u001b[0;34m[\u001b[0m\u001b[0mi\u001b[0m\u001b[0;34m]\u001b[0m\u001b[0;34m,\u001b[0m\u001b[0mcollection_input\u001b[0m\u001b[0;34m,\u001b[0m\u001b[0mw1\u001b[0m\u001b[0;34m,\u001b[0m\u001b[0mw2\u001b[0m\u001b[0;34m)\u001b[0m\u001b[0;34m\u001b[0m\u001b[0;34m\u001b[0m\u001b[0m\n",
      "\u001b[0;32m<ipython-input-6-7ca88ca7acd6>\u001b[0m in \u001b[0;36mEnKBF\u001b[0;34m(T, l, lz, lmax, z, N, collection_input, w, v)\u001b[0m\n\u001b[1;32m     35\u001b[0m         \u001b[0mstep1\u001b[0m\u001b[0;34m=\u001b[0m\u001b[0;34m(\u001b[0m\u001b[0;34m(\u001b[0m\u001b[0;34m(\u001b[0m\u001b[0mx\u001b[0m\u001b[0;34m-\u001b[0m\u001b[0mm\u001b[0m\u001b[0;34m[\u001b[0m\u001b[0mj\u001b[0m\u001b[0;34m]\u001b[0m\u001b[0;34m)\u001b[0m\u001b[0;34m.\u001b[0m\u001b[0mT\u001b[0m\u001b[0;34m)\u001b[0m\u001b[0;34m@\u001b[0m\u001b[0;34m(\u001b[0m\u001b[0mH\u001b[0m\u001b[0;34m.\u001b[0m\u001b[0mT\u001b[0m\u001b[0;34m)\u001b[0m\u001b[0;34m)\u001b[0m\u001b[0;34m\u001b[0m\u001b[0;34m\u001b[0m\u001b[0m\n\u001b[1;32m     36\u001b[0m         \u001b[0mstep2\u001b[0m\u001b[0;34m=\u001b[0m\u001b[0mstep1\u001b[0m\u001b[0;34m@\u001b[0m\u001b[0;34m(\u001b[0m\u001b[0minv\u001b[0m\u001b[0;34m)\u001b[0m\u001b[0;34m\u001b[0m\u001b[0;34m\u001b[0m\u001b[0m\n\u001b[0;32m---> 37\u001b[0;31m         \u001b[0mstep3\u001b[0m\u001b[0;34m=\u001b[0m\u001b[0mstep2\u001b[0m\u001b[0;34m@\u001b[0m\u001b[0;34m(\u001b[0m \u001b[0;34m(\u001b[0m\u001b[0mz_copy\u001b[0m\u001b[0;34m[\u001b[0m\u001b[0mj\u001b[0m\u001b[0;34m+\u001b[0m\u001b[0;36m1\u001b[0m\u001b[0;34m]\u001b[0m\u001b[0;34m-\u001b[0m\u001b[0mz_copy\u001b[0m\u001b[0;34m[\u001b[0m\u001b[0mj\u001b[0m\u001b[0;34m]\u001b[0m\u001b[0;34m)\u001b[0m \u001b[0;34m-\u001b[0m\u001b[0;34m(\u001b[0m\u001b[0mH\u001b[0m\u001b[0;34m@\u001b[0m\u001b[0mx\u001b[0m\u001b[0;34m*\u001b[0m\u001b[0mdt\u001b[0m \u001b[0;34m+\u001b[0m \u001b[0mR2\u001b[0m\u001b[0;34m@\u001b[0m\u001b[0mdv_copy\u001b[0m\u001b[0;34m[\u001b[0m\u001b[0mj\u001b[0m\u001b[0;34m]\u001b[0m\u001b[0;34m.\u001b[0m\u001b[0mT\u001b[0m\u001b[0;34m)\u001b[0m\u001b[0;34m)\u001b[0m \u001b[0;31m#+ R2@(dv_copy[j].T))\u001b[0m\u001b[0;34m\u001b[0m\u001b[0;34m\u001b[0m\u001b[0m\n\u001b[0m\u001b[1;32m     38\u001b[0m         \u001b[0mstep4\u001b[0m\u001b[0;34m=\u001b[0m\u001b[0;34m(\u001b[0m\u001b[0mx\u001b[0m\u001b[0;34m-\u001b[0m\u001b[0mm\u001b[0m\u001b[0;34m[\u001b[0m\u001b[0mj\u001b[0m\u001b[0;34m]\u001b[0m\u001b[0;34m)\u001b[0m\u001b[0;34m@\u001b[0m\u001b[0mstep3\u001b[0m \u001b[0;34m/\u001b[0m\u001b[0;34m(\u001b[0m\u001b[0mN\u001b[0m\u001b[0;34m-\u001b[0m\u001b[0;36m1\u001b[0m\u001b[0;34m)\u001b[0m\u001b[0;34m\u001b[0m\u001b[0;34m\u001b[0m\u001b[0m\n\u001b[1;32m     39\u001b[0m \u001b[0;34m\u001b[0m\u001b[0m\n",
      "\u001b[0;31mKeyboardInterrupt\u001b[0m: "
     ]
    }
   ],
   "source": [
    "B=10000\n",
    "coupled_sum(B,N0,l0,lz,phi2,T,z,collection_input)"
   ]
  },
  {
   "cell_type": "code",
   "execution_count": 95,
   "metadata": {},
   "outputs": [
    {
     "data": {
      "text/plain": [
       "array([[2.50187464],\n",
       "       [3.32545881],\n",
       "       [3.12804847],\n",
       "       [3.49025915],\n",
       "       [6.64931242],\n",
       "       [9.6153436 ],\n",
       "       [7.76805043],\n",
       "       [6.50305529],\n",
       "       [6.64672296],\n",
       "       [7.06824093]])"
      ]
     },
     "execution_count": 95,
     "metadata": {},
     "output_type": "execute_result"
    }
   ],
   "source": [
    "lmax=lz\n",
    "l=lz\n",
    "tau=2**(-l)\n",
    "dt=2**(-lmax)\n",
    "N=5000\n",
    "\n",
    "dim_o=collection_input[1]\n",
    "I=identity(dim).toarray()\n",
    "I_o=identity(dim_o).toarray()\n",
    "dw1=np.random.multivariate_normal(np.zeros(dim),dt*I,(T*2**(lmax),N))\n",
    "dw2=np.random.multivariate_normal(np.zeros(dim_o),dt*I_o,(T*2**(lmax),N))\n",
    "w1=np.cumsum(dw1,axis=0) \n",
    "w2=np.cumsum(dw2,axis=0) \n",
    "w1=np.concatenate(([w1[-1]-w1[-1]],w1),axis=0)\n",
    "w2=np.concatenate(([w2[-1]-w2[-1]],w2),axis=0)\n",
    "\n",
    "EnKBF(T,l,lz,lmax,z,N,collection_input,w1,w2)[0][-1]"
   ]
  },
  {
   "cell_type": "code",
   "execution_count": 97,
   "metadata": {},
   "outputs": [
    {
     "data": {
      "text/plain": [
       "array([-0.02026719,  0.2608733 , -0.13884346, -0.21815832, -0.04697523,\n",
       "       -0.31418874,  0.14185805, -0.31467404, -0.34278009, -0.06741679])"
      ]
     },
     "execution_count": 97,
     "metadata": {},
     "output_type": "execute_result"
    }
   ],
   "source": [
    "np.array([2.48160745, 3.58633211, 2.98920501, 3.27210083, 6.60233719,\n",
    "        9.30115486, 7.90990848, 6.18838125, 6.30394287, 7.00082414])-np.array([[2.50187464],\n",
    "       [3.32545881],\n",
    "       [3.12804847],\n",
    "       [3.49025915],\n",
    "       [6.64931242],\n",
    "       [9.6153436 ],\n",
    "       [7.76805043],\n",
    "       [6.50305529],\n",
    "       [6.64672296],\n",
    "       [7.06824093]]).T[0]"
   ]
  },
  {
   "cell_type": "markdown",
   "metadata": {},
   "source": [
    "## F2"
   ]
  },
  {
   "cell_type": "code",
   "execution_count": 71,
   "metadata": {},
   "outputs": [],
   "source": [
    "def Dfit_k2(seed_val,pmax,T,N0,l,collection_input,z,lz,REP):\n",
    "    np.random.seed(seed_val)\n",
    "    [dim,dim_o]=collection_input[0:2]\n",
    "    I=identity(dim).toarray()\n",
    "    I_o=identity(dim_o).toarray()\n",
    "    abscisas=np.array(range(0,pmax))+1\n",
    "    dim=collection_input[0]\n",
    "    ordenadas=np.zeros((pmax,dim))\n",
    "    rep_array=np.zeros((REP,dim))\n",
    "    lmaxE=l\n",
    "    for i in range(pmax):\n",
    "        p=i+1\n",
    "        dt=2**(-lmaxE)\n",
    "        with progressbar.ProgressBar(max_value=REP) as bar:\n",
    "            print(\"Current level is\",p,\". \",pmax-p,\"remaining.\")\n",
    "            for rep in range(REP):\n",
    "                dw1=np.random.multivariate_normal(np.zeros(dim),dt*I,(T*2**(lmaxE),N0*2**(p)))\n",
    "                dw2=np.random.multivariate_normal(np.zeros(dim_o),dt*I_o,(T*2**(lmaxE),N0*2**(p)))\n",
    "                w1=np.cumsum(dw1,axis=0) \n",
    "                w2=np.cumsum(dw2,axis=0) \n",
    "                w1=np.concatenate(([w1[-1]-w1[-1]],w1),axis=0)\n",
    "                w2=np.concatenate(([w2[-1]-w2[-1]],w2),axis=0)\n",
    "                Enk1=DEnKBF(T,l,lz,lmaxE,z,N0*2**(p),collection_input,w1,w2)[0][-1][:,0]\n",
    "                Enk2=DEnKBF(T,l,lz,lmaxE,z,N0*2**(p-1),collection_input,w1[:,:N0*2**(p-1),:],w2[:,:N0*2**(p-1),:])[0][-1][:,0]\n",
    "                rep_array[rep]=(Enk1-Enk2)\n",
    "                bar.update(rep)\n",
    "        ordenadas[i]=np.mean(rep_array,axis=0)\n",
    "    bs=np.zeros((dim,2))\n",
    "    for i in range(dim):\n",
    "        bs[i]=coef(abscisas,np.log2(np.abs(ordenadas)).T[i])\n",
    "    ordenadas=np.log2(np.abs(ordenadas))\n",
    "    bs=2**bs\n",
    "    bs[:,0]=N0*bs[:,0]\n",
    "    return [bs,abscisas,ordenadas]"
   ]
  },
  {
   "cell_type": "code",
   "execution_count": null,
   "metadata": {},
   "outputs": [],
   "source": []
  },
  {
   "cell_type": "code",
   "execution_count": 213,
   "metadata": {},
   "outputs": [],
   "source": [
    "dim=2\n",
    "T=30\n",
    "amm=10.\n",
    "bmm=20.\n",
    "cmm=10.\n",
    "lz=11\n",
    "seed_val_col=5\n",
    "seed_val_obs=5\n",
    "np.random.seed(seed_val_col)\n",
    "collection_input=gen_model(dim)\n",
    "np.random.seed(seed_val_obs)\n",
    "[z,v]=gen_data(T,lz,collection_input)\n",
    "\n",
    "pmax=6\n",
    "N0=10\n",
    "l=6\n",
    "REP=10000\n"
   ]
  },
  {
   "cell_type": "code",
   "execution_count": 214,
   "metadata": {
    "scrolled": false
   },
   "outputs": [
    {
     "name": "stderr",
     "output_type": "stream",
     "text": [
      "\r",
      "  0% (0 of 10000) |                      | Elapsed Time: 0:00:00 ETA:  --:--:--"
     ]
    },
    {
     "name": "stdout",
     "output_type": "stream",
     "text": [
      "Current level is 1 .  5 remaining.\n"
     ]
    },
    {
     "name": "stderr",
     "output_type": "stream",
     "text": [
      "100% (10000 of 10000) |##################| Elapsed Time: 0:33:30 Time:  0:33:30\n",
      "  0% (0 of 10000) |                      | Elapsed Time: 0:00:00 ETA:  --:--:--"
     ]
    },
    {
     "name": "stdout",
     "output_type": "stream",
     "text": [
      "Current level is 2 .  4 remaining.\n"
     ]
    },
    {
     "name": "stderr",
     "output_type": "stream",
     "text": [
      "100% (10000 of 10000) |##################| Elapsed Time: 0:32:32 Time:  0:32:32\n"
     ]
    },
    {
     "name": "stdout",
     "output_type": "stream",
     "text": [
      "Current level is 3 .  3 remaining.\n"
     ]
    },
    {
     "name": "stderr",
     "output_type": "stream",
     "text": [
      "100% (10000 of 10000) |##################| Elapsed Time: 0:38:07 Time:  0:38:07\n"
     ]
    },
    {
     "name": "stdout",
     "output_type": "stream",
     "text": [
      "Current level is 4 .  2 remaining.\n"
     ]
    },
    {
     "name": "stderr",
     "output_type": "stream",
     "text": [
      "100% (10000 of 10000) |##################| Elapsed Time: 0:49:34 Time:  0:49:34\n"
     ]
    },
    {
     "name": "stdout",
     "output_type": "stream",
     "text": [
      "Current level is 5 .  1 remaining.\n"
     ]
    },
    {
     "name": "stderr",
     "output_type": "stream",
     "text": [
      "100% (10000 of 10000) |##################| Elapsed Time: 1:27:41 Time:  1:27:41\n"
     ]
    },
    {
     "name": "stdout",
     "output_type": "stream",
     "text": [
      "Current level is 6 .  0 remaining.\n"
     ]
    },
    {
     "name": "stderr",
     "output_type": "stream",
     "text": [
      "100% (10000 of 10000) |##################| Elapsed Time: 2:38:12 Time:  2:38:12\n"
     ]
    }
   ],
   "source": [
    "seed_val=3\n",
    "[b,abscisas,ordenadas]=Dfit_k2(seed_val,pmax,T,N0,l,collection_input,z,lz,REP)"
   ]
  },
  {
   "cell_type": "markdown",
   "metadata": {},
   "source": [
    "Compute the bias in the number of paricles level with 3000 repetitions "
   ]
  },
  {
   "cell_type": "code",
   "execution_count": 215,
   "metadata": {},
   "outputs": [
    {
     "data": {
      "text/plain": [
       "[array([[0.83683525, 0.50934013],\n",
       "        [0.18369559, 0.5401894 ]]),\n",
       " array([1, 2, 3, 4, 5, 6]),\n",
       " array([[ -4.43132196,  -6.38627061],\n",
       "        [ -5.62558813,  -8.25726206],\n",
       "        [ -6.52067333,  -8.43768618],\n",
       "        [ -7.64357074,  -8.36828791],\n",
       "        [ -8.24101963, -10.58424904],\n",
       "        [ -9.45057458, -11.22319746]])]"
      ]
     },
     "execution_count": 215,
     "metadata": {},
     "output_type": "execute_result"
    }
   ],
   "source": [
    "[b,abscisas,ordenadas]"
   ]
  },
  {
   "cell_type": "code",
   "execution_count": 216,
   "metadata": {},
   "outputs": [
    {
     "data": {
      "text/plain": [
       "[array([[0.83683525, 0.50934013],\n",
       "        [0.18369559, 0.5401894 ]]),\n",
       " array([1, 2, 3, 4, 5, 6]),\n",
       " array([[ -4.43132196,  -6.38627061],\n",
       "        [ -5.62558813,  -8.25726206],\n",
       "        [ -6.52067333,  -8.43768618],\n",
       "        [ -7.64357074,  -8.36828791],\n",
       "        [ -8.24101963, -10.58424904],\n",
       "        [ -9.45057458, -11.22319746]])]"
      ]
     },
     "execution_count": 216,
     "metadata": {},
     "output_type": "execute_result"
    }
   ],
   "source": [
    "[b,abscisas,ordenadas]"
   ]
  },
  {
   "cell_type": "markdown",
   "metadata": {},
   "source": [
    "T=30, dim=2, down"
   ]
  },
  {
   "cell_type": "code",
   "execution_count": 19,
   "metadata": {},
   "outputs": [],
   "source": [
    "[b,abscisas,ordenadas]=[np.array([[0.83683525, 0.50934013],\n",
    "        [0.18369559, 0.5401894 ]]),\n",
    " np.array([1, 2, 3, 4, 5, 6]),\n",
    " np.array([[ -4.43132196,  -6.38627061],\n",
    "        [ -5.62558813,  -8.25726206],\n",
    "        [ -6.52067333,  -8.43768618],\n",
    "        [ -7.64357074,  -8.36828791],\n",
    "        [ -8.24101963, -10.58424904],\n",
    "        [ -9.45057458, -11.22319746]])]"
   ]
  },
  {
   "cell_type": "markdown",
   "metadata": {},
   "source": [
    "T=30, dim=2, up"
   ]
  },
  {
   "cell_type": "code",
   "execution_count": 24,
   "metadata": {
    "scrolled": true
   },
   "outputs": [
    {
     "data": {
      "image/png": "[encoded data removed]",
      "text/plain": [
       "<Figure size 432x288 with 1 Axes>"
      ]
     },
     "metadata": {
      "needs_background": "light"
     },
     "output_type": "display_data"
    }
   ],
   "source": [
    "plt.scatter(np.log2(N0*2**abscisas),ordenadas[:,0],label=\"Numerical bias\",marker=\"s\",color=\"m\")\n",
    "\n",
    "#plt.plot(abscisas,ordenadas[0]-4*np.log2(1/2.)+np.log2(1/2.)*abscisas,label=r\"Reference curve $a+l*Log(1/2)$\")\n",
    "[b_meant30dim2,m_meant30dim2]=coef(np.log2(N0*2**abscisas),ordenadas[:,0])\n",
    "plt.plot(np.log2(N0*2**abscisas),b_meant30dim2+m_meant30dim2*np.log2(N0*2**abscisas),color=\"m\",ls=\"dotted\",label=\"Regression\")\n",
    "plt.plot(np.log2(N0*2**abscisas),-1*np.log2(N0*2**abscisas)+ordenadas[0,0]+np.log2(N0*2**abscisas)[0],color=\"c\",label=\"Reference curve\")\n",
    "plt.legend()\n",
    "plt.xlabel(r\"$\\operatorname{Log2}(N_p)$\")\n",
    "plt.ylabel(r\"$\\operatorname{Log2}\\left|\\operatorname{E}(\\eta^{N_p}_t-\\eta_t)(e)\\right|$\")\n",
    "plt.savefig(\"BiasNT30dim2.pdf\")"
   ]
  },
  {
   "cell_type": "code",
   "execution_count": 250,
   "metadata": {},
   "outputs": [
    {
     "data": {
      "text/plain": [
       "0.8567597726058152"
      ]
     },
     "execution_count": 250,
     "metadata": {},
     "output_type": "execute_result"
    }
   ],
   "source": [
    "np.sqrt(np.sum(b[:,0]**2))"
   ]
  },
  {
   "cell_type": "markdown",
   "metadata": {},
   "source": [
    "## F2 N=10"
   ]
  },
  {
   "cell_type": "code",
   "execution_count": 23,
   "metadata": {},
   "outputs": [],
   "source": [
    "def Dfit_k2(seed_val,pmax,T,N0,l,collection_input,z,lz,REP):\n",
    "    np.random.seed(seed_val)\n",
    "    [dim,dim_o]=collection_input[0:2]\n",
    "    I=identity(dim).toarray()\n",
    "    I_o=identity(dim_o).toarray()\n",
    "    abscisas=np.array(range(0,pmax))+1\n",
    "    dim=collection_input[0]\n",
    "    ordenadas=np.zeros((pmax,dim))\n",
    "    rep_array=np.zeros((REP,dim))\n",
    "    lmaxE=l\n",
    "    for i in range(pmax):\n",
    "        p=i+1\n",
    "        dt=2**(-lmaxE)\n",
    "        with progressbar.ProgressBar(max_value=REP) as bar:\n",
    "            print(\"Current level is\",p,\". \",pmax-p,\"remaining.\")\n",
    "            for rep in range(REP):\n",
    "                dw1=np.random.multivariate_normal(np.zeros(dim),dt*I,(T*2**(lmaxE),N0*2**(p)))\n",
    "                dw2=np.random.multivariate_normal(np.zeros(dim_o),dt*I_o,(T*2**(lmaxE),N0*2**(p)))\n",
    "                w1=np.cumsum(dw1,axis=0) \n",
    "                w2=np.cumsum(dw2,axis=0) \n",
    "                w1=np.concatenate(([w1[-1]-w1[-1]],w1),axis=0)\n",
    "                w2=np.concatenate(([w2[-1]-w2[-1]],w2),axis=0)\n",
    "                Enk1=DEnKBF(T,l,lz,lmaxE,z,N0*2**(p),collection_input,w1,w2)[0][-1][:,0]\n",
    "                Enk2=DEnKBF(T,l,lz,lmaxE,z,N0*2**(p-1),collection_input,w1[:,:N0*2**(p-1),:],w2[:,:N0*2**(p-1),:])[0][-1][:,0]\n",
    "                rep_array[rep]=(Enk1-Enk2)\n",
    "                bar.update(rep)\n",
    "        ordenadas[i]=np.mean(rep_array,axis=0)\n",
    "    bs=np.zeros((dim,2))\n",
    "    for i in range(dim):\n",
    "        bs[i]=coef(abscisas,np.log2(np.abs(ordenadas)).T[i])\n",
    "    ordenadas=np.log2(np.abs(ordenadas))\n",
    "    return [2**bs,abscisas,ordenadas]"
   ]
  },
  {
   "cell_type": "code",
   "execution_count": 24,
   "metadata": {},
   "outputs": [],
   "source": [
    "dim=2\n",
    "T=29\n",
    "amm=10.\n",
    "bmm=20.\n",
    "cmm=10.\n",
    "lz=11\n",
    "seed_val_col=5\n",
    "seed_val_obs=5\n",
    "np.random.seed(seed_val_col)\n",
    "collection_input=gen_model(dim)\n",
    "np.random.seed(seed_val_obs)\n",
    "[z,v]=gen_data(T,lz,collection_input)\n",
    "\n",
    "pmax=6\n",
    "N0=10\n",
    "l=4\n",
    "REP=50"
   ]
  },
  {
   "cell_type": "code",
   "execution_count": 25,
   "metadata": {
    "scrolled": false
   },
   "outputs": [
    {
     "name": "stderr",
     "output_type": "stream",
     "text": [
      "\n"
     ]
    },
    {
     "name": "stdout",
     "output_type": "stream",
     "text": [
      "Current level is 1 .  5 remaining.\n"
     ]
    },
    {
     "ename": "NameError",
     "evalue": "name 'DEnKBF' is not defined",
     "output_type": "error",
     "traceback": [
      "\u001b[0;31m---------------------------------------------------------------------------\u001b[0m",
      "\u001b[0;31mNameError\u001b[0m                                 Traceback (most recent call last)",
      "\u001b[0;32m<ipython-input-25-2fb11dc56b78>\u001b[0m in \u001b[0;36m<module>\u001b[0;34m\u001b[0m\n\u001b[1;32m      1\u001b[0m \u001b[0mseed_val\u001b[0m\u001b[0;34m=\u001b[0m\u001b[0;36m3\u001b[0m\u001b[0;34m\u001b[0m\u001b[0;34m\u001b[0m\u001b[0m\n\u001b[0;32m----> 2\u001b[0;31m \u001b[0;34m[\u001b[0m\u001b[0mb\u001b[0m\u001b[0;34m,\u001b[0m\u001b[0mabscisas\u001b[0m\u001b[0;34m,\u001b[0m\u001b[0mordenadas\u001b[0m\u001b[0;34m]\u001b[0m\u001b[0;34m=\u001b[0m\u001b[0mDfit_k2\u001b[0m\u001b[0;34m(\u001b[0m\u001b[0mseed_val\u001b[0m\u001b[0;34m,\u001b[0m\u001b[0mpmax\u001b[0m\u001b[0;34m,\u001b[0m\u001b[0mT\u001b[0m\u001b[0;34m,\u001b[0m\u001b[0mN0\u001b[0m\u001b[0;34m,\u001b[0m\u001b[0ml\u001b[0m\u001b[0;34m,\u001b[0m\u001b[0mcollection_input\u001b[0m\u001b[0;34m,\u001b[0m\u001b[0mz\u001b[0m\u001b[0;34m,\u001b[0m\u001b[0mlz\u001b[0m\u001b[0;34m,\u001b[0m\u001b[0mREP\u001b[0m\u001b[0;34m)\u001b[0m\u001b[0;34m\u001b[0m\u001b[0;34m\u001b[0m\u001b[0m\n\u001b[0m",
      "\u001b[0;32m<ipython-input-23-a358c84e6d5f>\u001b[0m in \u001b[0;36mDfit_k2\u001b[0;34m(seed_val, pmax, T, N0, l, collection_input, z, lz, REP)\u001b[0m\n\u001b[1;32m     21\u001b[0m                 \u001b[0mw1\u001b[0m\u001b[0;34m=\u001b[0m\u001b[0mnp\u001b[0m\u001b[0;34m.\u001b[0m\u001b[0mconcatenate\u001b[0m\u001b[0;34m(\u001b[0m\u001b[0;34m(\u001b[0m\u001b[0;34m[\u001b[0m\u001b[0mw1\u001b[0m\u001b[0;34m[\u001b[0m\u001b[0;34m-\u001b[0m\u001b[0;36m1\u001b[0m\u001b[0;34m]\u001b[0m\u001b[0;34m-\u001b[0m\u001b[0mw1\u001b[0m\u001b[0;34m[\u001b[0m\u001b[0;34m-\u001b[0m\u001b[0;36m1\u001b[0m\u001b[0;34m]\u001b[0m\u001b[0;34m]\u001b[0m\u001b[0;34m,\u001b[0m\u001b[0mw1\u001b[0m\u001b[0;34m)\u001b[0m\u001b[0;34m,\u001b[0m\u001b[0maxis\u001b[0m\u001b[0;34m=\u001b[0m\u001b[0;36m0\u001b[0m\u001b[0;34m)\u001b[0m\u001b[0;34m\u001b[0m\u001b[0;34m\u001b[0m\u001b[0m\n\u001b[1;32m     22\u001b[0m                 \u001b[0mw2\u001b[0m\u001b[0;34m=\u001b[0m\u001b[0mnp\u001b[0m\u001b[0;34m.\u001b[0m\u001b[0mconcatenate\u001b[0m\u001b[0;34m(\u001b[0m\u001b[0;34m(\u001b[0m\u001b[0;34m[\u001b[0m\u001b[0mw2\u001b[0m\u001b[0;34m[\u001b[0m\u001b[0;34m-\u001b[0m\u001b[0;36m1\u001b[0m\u001b[0;34m]\u001b[0m\u001b[0;34m-\u001b[0m\u001b[0mw2\u001b[0m\u001b[0;34m[\u001b[0m\u001b[0;34m-\u001b[0m\u001b[0;36m1\u001b[0m\u001b[0;34m]\u001b[0m\u001b[0;34m]\u001b[0m\u001b[0;34m,\u001b[0m\u001b[0mw2\u001b[0m\u001b[0;34m)\u001b[0m\u001b[0;34m,\u001b[0m\u001b[0maxis\u001b[0m\u001b[0;34m=\u001b[0m\u001b[0;36m0\u001b[0m\u001b[0;34m)\u001b[0m\u001b[0;34m\u001b[0m\u001b[0;34m\u001b[0m\u001b[0m\n\u001b[0;32m---> 23\u001b[0;31m                 \u001b[0mEnk1\u001b[0m\u001b[0;34m=\u001b[0m\u001b[0mDEnKBF\u001b[0m\u001b[0;34m(\u001b[0m\u001b[0mT\u001b[0m\u001b[0;34m,\u001b[0m\u001b[0ml\u001b[0m\u001b[0;34m,\u001b[0m\u001b[0mlz\u001b[0m\u001b[0;34m,\u001b[0m\u001b[0mlmaxE\u001b[0m\u001b[0;34m,\u001b[0m\u001b[0mz\u001b[0m\u001b[0;34m,\u001b[0m\u001b[0mN0\u001b[0m\u001b[0;34m*\u001b[0m\u001b[0;36m2\u001b[0m\u001b[0;34m**\u001b[0m\u001b[0;34m(\u001b[0m\u001b[0mp\u001b[0m\u001b[0;34m)\u001b[0m\u001b[0;34m,\u001b[0m\u001b[0mcollection_input\u001b[0m\u001b[0;34m,\u001b[0m\u001b[0mw1\u001b[0m\u001b[0;34m,\u001b[0m\u001b[0mw2\u001b[0m\u001b[0;34m)\u001b[0m\u001b[0;34m[\u001b[0m\u001b[0;36m0\u001b[0m\u001b[0;34m]\u001b[0m\u001b[0;34m[\u001b[0m\u001b[0;34m-\u001b[0m\u001b[0;36m1\u001b[0m\u001b[0;34m]\u001b[0m\u001b[0;34m[\u001b[0m\u001b[0;34m:\u001b[0m\u001b[0;34m,\u001b[0m\u001b[0;36m0\u001b[0m\u001b[0;34m]\u001b[0m\u001b[0;34m\u001b[0m\u001b[0;34m\u001b[0m\u001b[0m\n\u001b[0m\u001b[1;32m     24\u001b[0m                 \u001b[0mEnk2\u001b[0m\u001b[0;34m=\u001b[0m\u001b[0mDEnKBF\u001b[0m\u001b[0;34m(\u001b[0m\u001b[0mT\u001b[0m\u001b[0;34m,\u001b[0m\u001b[0ml\u001b[0m\u001b[0;34m,\u001b[0m\u001b[0mlz\u001b[0m\u001b[0;34m,\u001b[0m\u001b[0mlmaxE\u001b[0m\u001b[0;34m,\u001b[0m\u001b[0mz\u001b[0m\u001b[0;34m,\u001b[0m\u001b[0mN0\u001b[0m\u001b[0;34m*\u001b[0m\u001b[0;36m2\u001b[0m\u001b[0;34m**\u001b[0m\u001b[0;34m(\u001b[0m\u001b[0mp\u001b[0m\u001b[0;34m-\u001b[0m\u001b[0;36m1\u001b[0m\u001b[0;34m)\u001b[0m\u001b[0;34m,\u001b[0m\u001b[0mcollection_input\u001b[0m\u001b[0;34m,\u001b[0m\u001b[0mw1\u001b[0m\u001b[0;34m[\u001b[0m\u001b[0;34m:\u001b[0m\u001b[0;34m,\u001b[0m\u001b[0;34m:\u001b[0m\u001b[0mN0\u001b[0m\u001b[0;34m*\u001b[0m\u001b[0;36m2\u001b[0m\u001b[0;34m**\u001b[0m\u001b[0;34m(\u001b[0m\u001b[0mp\u001b[0m\u001b[0;34m-\u001b[0m\u001b[0;36m1\u001b[0m\u001b[0;34m)\u001b[0m\u001b[0;34m,\u001b[0m\u001b[0;34m:\u001b[0m\u001b[0;34m]\u001b[0m\u001b[0;34m,\u001b[0m\u001b[0mw2\u001b[0m\u001b[0;34m[\u001b[0m\u001b[0;34m:\u001b[0m\u001b[0;34m,\u001b[0m\u001b[0;34m:\u001b[0m\u001b[0mN0\u001b[0m\u001b[0;34m*\u001b[0m\u001b[0;36m2\u001b[0m\u001b[0;34m**\u001b[0m\u001b[0;34m(\u001b[0m\u001b[0mp\u001b[0m\u001b[0;34m-\u001b[0m\u001b[0;36m1\u001b[0m\u001b[0;34m)\u001b[0m\u001b[0;34m,\u001b[0m\u001b[0;34m:\u001b[0m\u001b[0;34m]\u001b[0m\u001b[0;34m)\u001b[0m\u001b[0;34m[\u001b[0m\u001b[0;36m0\u001b[0m\u001b[0;34m]\u001b[0m\u001b[0;34m[\u001b[0m\u001b[0;34m-\u001b[0m\u001b[0;36m1\u001b[0m\u001b[0;34m]\u001b[0m\u001b[0;34m[\u001b[0m\u001b[0;34m:\u001b[0m\u001b[0;34m,\u001b[0m\u001b[0;36m0\u001b[0m\u001b[0;34m]\u001b[0m\u001b[0;34m\u001b[0m\u001b[0;34m\u001b[0m\u001b[0m\n\u001b[1;32m     25\u001b[0m                 \u001b[0mrep_array\u001b[0m\u001b[0;34m[\u001b[0m\u001b[0mrep\u001b[0m\u001b[0;34m]\u001b[0m\u001b[0;34m=\u001b[0m\u001b[0;34m(\u001b[0m\u001b[0mEnk1\u001b[0m\u001b[0;34m-\u001b[0m\u001b[0mEnk2\u001b[0m\u001b[0;34m)\u001b[0m\u001b[0;34m\u001b[0m\u001b[0;34m\u001b[0m\u001b[0m\n",
      "\u001b[0;31mNameError\u001b[0m: name 'DEnKBF' is not defined"
     ]
    }
   ],
   "source": [
    "seed_val=3\n",
    "[b,abscisas,ordenadas]=Dfit_k2(seed_val,pmax,T,N0,l,collection_input,z,lz,REP)"
   ]
  },
  {
   "cell_type": "code",
   "execution_count": 65,
   "metadata": {},
   "outputs": [
    {
     "data": {
      "text/plain": [
       "[array([[0.0651524 , 0.52994765],\n",
       "        [0.12810911, 0.61867167]]),\n",
       " array([1, 2, 3, 4, 5, 6]),\n",
       " array([[ -4.30992943,  -2.89298519],\n",
       "        [ -4.49975971,  -4.82530644],\n",
       "        [ -7.20475174,  -4.98023501],\n",
       "        [-10.57735209,  -7.49621478],\n",
       "        [ -8.84566245,  -5.01543286],\n",
       "        [ -7.44041545,  -7.1249923 ]])]"
      ]
     },
     "execution_count": 65,
     "metadata": {},
     "output_type": "execute_result"
    }
   ],
   "source": [
    "[b,abscisas,ordenadas]"
   ]
  },
  {
   "cell_type": "code",
   "execution_count": 66,
   "metadata": {
    "scrolled": true
   },
   "outputs": [
    {
     "data": {
      "text/plain": [
       "Text(0, 0.5, '$\\\\operatorname{Log2}\\\\left(\\\\operatorname{E}\\\\left(\\\\eta^{l}_t-\\\\eta_t\\\\right)\\\\right)$')"
      ]
     },
     "execution_count": 66,
     "metadata": {},
     "output_type": "execute_result"
    },
    {
     "data": {
      "image/png": "[encoded data removed]",
      "text/plain": [
       "<Figure size 432x288 with 1 Axes>"
      ]
     },
     "metadata": {
      "needs_background": "light"
     },
     "output_type": "display_data"
    }
   ],
   "source": [
    "plt.plot(abscisas,ordenadas[:,0],label=\"Numerical bias\")\n",
    "#plt.plot(abscisas,np.log2(b[0])+np.log2(b[1])*abscisas,label=\"Linear regression\")\n",
    "#plt.plot(abscisas,ordenadas[0]-4*np.log2(1/2.)+np.log2(1/2.)*abscisas,label=r\"Reference curve $a+l*Log(1/2)$\")\n",
    "plt.legend()\n",
    "plt.xlabel(\"l\")\n",
    "plt.ylabel(r\"$\\operatorname{Log2}\\left(\\operatorname{E}\\left(\\eta^{l}_t-\\eta_t\\right)\\right)$\")"
   ]
  },
  {
   "cell_type": "code",
   "execution_count": 67,
   "metadata": {},
   "outputs": [
    {
     "data": {
      "text/plain": [
       "0.1437246673026819"
      ]
     },
     "execution_count": 67,
     "metadata": {},
     "output_type": "execute_result"
    }
   ],
   "source": [
    "np.sqrt(np.sum(b[:,0]**2))"
   ]
  },
  {
   "cell_type": "code",
   "execution_count": null,
   "metadata": {},
   "outputs": [],
   "source": [
    "\n"
   ]
  },
  {
   "cell_type": "code",
   "execution_count": null,
   "metadata": {},
   "outputs": [],
   "source": []
  }
 ],
 "metadata": {
  "kernelspec": {
   "display_name": "Python 3",
   "language": "python",
   "name": "python3"
  },
  "language_info": {
   "codemirror_mode": {
    "name": "ipython",
    "version": 3
   },
   "file_extension": ".py",
   "mimetype": "text/x-python",
   "name": "python",
   "nbconvert_exporter": "python",
   "pygments_lexer": "ipython3",
   "version": "3.8.5"
  }
 },
 "nbformat": 4,
 "nbformat_minor": 4
}
