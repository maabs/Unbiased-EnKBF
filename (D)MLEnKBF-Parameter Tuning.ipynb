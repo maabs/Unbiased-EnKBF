{
 "cells": [
  {
   "cell_type": "markdown",
   "metadata": {},
   "source": [
    "$$dX_t = A X_t dt + R_1 dW_t$$\n",
    "$$dY_t = H X_t dt + R_2 dV_t$$"
   ]
  },
  {
   "cell_type": "markdown",
   "metadata": {},
   "source": [
    "Model settings: (Conditions that the model needs to satsify)\n",
    "1. Signal of dimension 'dim', and the observtations are in dimension 'dim_o'\n",
    "2. $x_0|y_0 \\sim N(m_0,C_0)$\n",
    "3. $R_1, R_2$ is symmetric\n",
    "4. $R_1$ is commutable with $A$\n",
    "5. $(A+A')$ is invertible\n",
    "6. For convenience purpose the target function is $\\varphi(x)=x^{1}$, where $x=(x^{1},x^{2},...,x^{dim})$\n",
    "\n",
    "In this code, I will include the $A,R_1,R_2,H,m_0,C_0$ as parameter as well, so that it's easily scalable wrt any dimension dim.\n",
    "Note that dim needs to be bigger than 1, as the matrix multiplication sign '@' in python doesn't support '*' in one dimension."
   ]
  },
  {
   "cell_type": "code",
   "execution_count": 2,
   "metadata": {},
   "outputs": [],
   "source": [
    "import math\n",
    "import numpy as np\n",
    "import matplotlib.pyplot as plt \n",
    "import progressbar\n",
    "from scipy import linalg as la\n",
    "from scipy.sparse import identity\n",
    "from scipy.sparse import rand\n",
    "from scipy.sparse import diags\n",
    "from scipy.sparse import triu\n",
    "\n",
    "def gen_model(dim):\n",
    "    ## dim is dimension value\n",
    "    dim_o=dim\n",
    "    A1 = -rand(dim,dim,density=0.75).toarray()/1.\n",
    "    A2 = triu(A1, k=1).toarray()/1.\n",
    "    A = (diags(np.random.normal(-0.5,0,dim),0).toarray()/1. + A2 - A2.T)/cmm\n",
    "    ## we denote R1^{1/2},R2^{1/2} as R1,R2 repectively for convenience\n",
    "    ## Non-Identity covariance matrix\n",
    "    R1=(identity(dim).toarray() + np.tri(dim,dim,1) - np.tri(dim,dim,-2))/amm\n",
    "    R2=(identity(dim_o).toarray() + np.tri(dim_o,dim_o,1) - np.tri(dim_o,dim_o,-2))/bmm#2\n",
    "\n",
    "    H=rand(dim_o,dim,density=0.75).toarray()/20\n",
    "    m0=np.zeros(dim)+b\n",
    "    C0=identity(dim).toarray()\n",
    "    ## Collection of input \n",
    "    collection_input = [dim,dim_o,A,R1,R2,H,m0,C0]\n",
    "    return collection_input\n",
    "\n",
    "def gen_data(T,l,collection_input):\n",
    "    \n",
    "    [dim,dim_o,A,R1,R2,H,m0,C0]=collection_input\n",
    "    J=T*(2**l)\n",
    "    I=identity(dim).toarray()\n",
    "    tau=2**(-l)\n",
    "    L=la.expm(A*tau)\n",
    "    ## We are going to need W to be symmetric! \n",
    "    W=(R1@R1)@(la.inv(A+A.T)@(L@(L.T)-I))\n",
    "    C=tau*H\n",
    "    V=(R2@R2)*tau\n",
    "\n",
    "    v=np.zeros((J+1,dim,1))\n",
    "    z=np.zeros((J+1,dim_o,1))\n",
    "    v[0]=np.random.multivariate_normal(m0,C0,(1)).T\n",
    "    z[0]=np.zeros((dim_o,1))\n",
    "\n",
    "\n",
    "    for j in range(J):\n",
    "        ## truth\n",
    "        v[j+1] = L@v[j] + np.random.multivariate_normal(np.zeros(dim),W,(1)).T\n",
    "        ## observation\n",
    "        z[j+1] = z[j] + C@v[j+1] + np.random.multivariate_normal(np.zeros(dim_o),V,(1)).T\n",
    "        \n",
    "    return([z,v])\n",
    "\n",
    "def cut(T,lmax,l,v):\n",
    "    ind = np.arange(T*2**l+1)\n",
    "    rtau = 2**(lmax-l)\n",
    "    w = v[ind*rtau]\n",
    "    return(w)\n",
    "\n",
    "def KBF(T,l,lmax,z,collection_input):\n",
    "    \n",
    "    [dim,dim_o,A,R1,R2,H,m0,C0]=collection_input\n",
    "    J=T*(2**l)\n",
    "    I=identity(dim).toarray()\n",
    "    tau=2**(-l)\n",
    "    L=la.expm(A*tau)\n",
    "    W=(R1@R1)@(la.inv(A+A.T)@(L@(L.T)-I))\n",
    "    ## C: dim_o*dim matrix\n",
    "    C=tau*H\n",
    "    V=(R2@R2)*tau\n",
    "    \n",
    "    z=cut(T,lmax,l,z)\n",
    "    m=np.zeros((J+1,dim,1))\n",
    "    c=np.zeros((J+1,dim,dim))\n",
    "    m[0]=6*np.ones((dim,1))\n",
    "    c[0]=C0\n",
    "    \n",
    "    for j in range(J):\n",
    "        ## prediction mean-dim*1 vector\n",
    "        mhat=L@m[j]\n",
    "        ## prediction covariance-dim*dim matrix\n",
    "        chat=L@c[j]@(L.T)+W\n",
    "        ## innovation-dim_o*1 vector\n",
    "        d=(z[j+1]-z[j])-C@mhat\n",
    "        ## Kalman gain-dim*dim_o vector\n",
    "        K=(chat@(C.T))@la.inv(C@chat@(C.T)+V)\n",
    "        ## update mean-dim*1 vector\n",
    "        m[j+1]=mhat+K@d\n",
    "        ## update covariance-dim*dim matrix\n",
    "        c[j+1]=(I-K@C)@chat\n",
    "        \n",
    "    return([m,c])\n",
    "\n",
    "def EnKBF(T,l,lmax,z,N,collection_input):\n",
    "    \n",
    "    [dim,dim_o,A,R1,R2,H,m0,C0]=collection_input\n",
    "    J=T*(2**l)\n",
    "    I=identity(dim).toarray()\n",
    "    I_o=identity(dim_o).toarray()\n",
    "    dt=2**(-l)\n",
    "    \n",
    "    m=np.zeros((J+1,dim,1))\n",
    "    c=np.zeros((J+1,dim,dim))\n",
    "    z=cut(T,lmax,l,z)\n",
    "    \n",
    "    ## This gives a dim*N matrix\n",
    "    x = np.random.multivariate_normal(m0,C0,N).T\n",
    "    ## A dim*1 vector\n",
    "    m[0]=(np.mean(x, axis=1)).reshape(dim,1)\n",
    "    ## dim*dim matrix\n",
    "    c[0]=((x-m[0])@((x-m[0]).T)) /(N-1)\n",
    "    inv=la.inv(R2)@la.inv(R2)\n",
    "    for j in range(J):\n",
    "        dw = np.random.multivariate_normal(np.zeros(dim),dt*I,N).T\n",
    "        dv = np.random.multivariate_normal(np.zeros(dim_o),dt*I_o,N).T\n",
    "        ## A@x:dim*N R1@dw:dim*N c[j]@(H.T):dim*dim_o z[j+1]-z[j]:dim_o*1 H@x*dt:dim_o*N R2*dv:dim_o*N \n",
    "        ## x-m[j]:dim*N c[j]:dim*dim\n",
    "        \n",
    "        step1=(((x-m[j]).T)@(H.T))\n",
    "        step2=step1@(inv)\n",
    "        step3=step2@( (z[j+1]-z[j]) - (H@x*dt + R2@dv) )\n",
    "        step4=(x-m[j])@step3 /(N-1)\n",
    "        \n",
    "        x = x + A@x*dt + R1@dw + step4\n",
    "        m[j+1] = (np.mean(x, axis=1)).reshape(dim,1)\n",
    "\n",
    "    return([m,c])\n",
    "\n",
    "def EnKBF1(T,l,lmax,z,N,collection_input):\n",
    "    \n",
    "    [dim,dim_o,A,R1,R2,H,m0,C0]=collection_input\n",
    "    J=T*(2**l)\n",
    "    I=identity(dim).toarray()\n",
    "    I_o=identity(dim_o).toarray()\n",
    "    dt=2**(-l)\n",
    "    \n",
    "    m=np.zeros((J+1,dim,1))\n",
    "    c=np.zeros((J+1,dim,dim))\n",
    "    z=cut(T,lmax,l,z)\n",
    "    \n",
    "    ## This gives a dim*N matrix\n",
    "    x = np.random.multivariate_normal(m0,C0,N).T\n",
    "    ## A dim*1 vector\n",
    "    m[0]=(np.mean(x, axis=1)).reshape(dim,1)\n",
    "    ## dim*dim matrix\n",
    "    c[0]=((x-m[0])@((x-m[0]).T)) /(N-1)\n",
    "    with progressbar.ProgressBar(max_value=J) as bar:\n",
    "        for j in range(J):\n",
    "            dw = np.random.multivariate_normal(np.zeros(dim),dt*I,N).T\n",
    "            dv = np.random.multivariate_normal(np.zeros(dim_o),dt*I_o,N).T\n",
    "            ## A@x:dim*N R1@dw:dim*N c[j]@(H.T):dim*dim_o z[j+1]-z[j]:dim_o*1 H@x*dt:dim_o*N R2*dv:dim_o*N \n",
    "            ## x-m[j]:dim*N c[j]:dim*dim\n",
    "        \n",
    "            step1=(((x-m[j]).T)@(H.T))\n",
    "            step2=step1@(la.inv(R2)@la.inv(R2))\n",
    "            step3=step2@( (z[j+1]-z[j]) - (H@x*dt + R2@dv) )\n",
    "            step4=(x-m[j])@step3 /(N-1)\n",
    "        \n",
    "            x = x + A@x*dt + R1@dw + step4\n",
    "            m[j+1] = (np.mean(x, axis=1)).reshape(dim,1)\n",
    "            bar.update(J)\n",
    "\n",
    "    return([m,c])\n",
    "\n",
    "\n",
    "\n",
    "def CEnKBF(T,l,lmax,z,N,collection_input):\n",
    "    \n",
    "    [dim,dim_o,A,R1,R2,H,m0,C0]=collection_input\n",
    "    J=T*(2**(l-1))\n",
    "    I=identity(dim).toarray()\n",
    "    I1=identity(dim_o).toarray()\n",
    "    dt=2**(-l)\n",
    "    dt1=2**(-l+1)\n",
    "    m=np.zeros((J*2+1,dim,1))\n",
    "    m1=np.zeros((J+1,dim,1))\n",
    "    c=np.zeros((J*2+1,dim,dim))\n",
    "    c1=np.zeros((J+1,dim,dim))\n",
    "    z1=cut(T,lmax,l-1,z)\n",
    "    z=cut(T,lmax,l,z)\n",
    "    \n",
    "    ## This gives a dim*N matrix\n",
    "    x = np.random.multivariate_normal(m0,C0,N).T\n",
    "    x1 = x\n",
    "    ## A dim*1 vector\n",
    "    m[0]=(np.mean(x, axis=1)).reshape(dim,1)\n",
    "    m1[0]=m[0]\n",
    "    ## dim*dim matrix\n",
    "    c[0]=((x-m[0])@((x-m[0]).T)) /(N-1)\n",
    "    c1[0]=c[0]\n",
    "    \n",
    "    dw=np.zeros((2,dim,N))\n",
    "    dv=np.zeros((2,dim_o,N))\n",
    "    inv=(la.inv(R2)@la.inv(R2))\n",
    "    for j in range(J):\n",
    "        for s in range(2):\n",
    "            dw[s] = np.random.multivariate_normal(np.zeros(dim),dt*I,N).T\n",
    "            dv[s] = np.random.multivariate_normal(np.zeros(dim_o),dt*I1,N).T\n",
    "                ## A@x:dim*N R1@dw:dim*N c[j]@(H.T):dim*dim_o z[j+1]-z[j]:dim_o*1 H@x*dt:dim_o*N R2*dv:dim_o*N \n",
    "                ## x-m[j]:dim*N c[j]:dim*dim\n",
    "\n",
    "            step1=(((x-m[2*j+s]).T)@(H.T))\n",
    "            step2=step1@inv\n",
    "            step3=step2@( (z[2*j+s+1]-z[2*j+s]) - (H@x*dt + R2@dv[s]) )\n",
    "            step4=(x-m[2*j+s])@step3 /(N-1)\n",
    "\n",
    "            x = x + A@x*dt + R1@dw[s] + step4\n",
    "            m[2*j+s+1] = (np.mean(x, axis=1)).reshape(dim,1)\n",
    "        \n",
    "        step1=(((x1-m1[j]).T)@(H.T))\n",
    "        step2=step1@inv\n",
    "        step3=step2@( (z1[j+1]-z1[j]) - (H@x1*dt1 + R2@(dv[0]+dv[1])) )\n",
    "        step4=(x1-m1[j])@step3 /(N-1)\n",
    "            \n",
    "        x1 = x1 + A@x1*dt1 + R1@(dw[0]+dw[1]) + step4\n",
    "        m1[j+1] = (np.mean(x1, axis=1)).reshape(dim,1)\n",
    "        \n",
    "    return([m,m1])\n",
    "\n",
    "\n",
    "def DEnKBF(T,l,lmax,z,N,collection_input):\n",
    "    \n",
    "    [dim,dim_o,A,R1,R2,H,m0,C0]=collection_input\n",
    "    J=T*(2**l)\n",
    "    I=identity(dim).toarray()\n",
    "    I_o=identity(dim_o).toarray()\n",
    "    dt=2**(-l)\n",
    "    \n",
    "    m=np.zeros((J+1,dim,1))\n",
    "    c=np.zeros((J+1,dim,dim))\n",
    "    z=cut(T,lmax,l,z)\n",
    "    \n",
    "    ## This gives a dim*N matrix\n",
    "    x = np.random.multivariate_normal(m0,C0,N).T\n",
    "    ## A dim*1 vector\n",
    "    m[0]=(np.mean(x, axis=1)).reshape(dim,1)\n",
    "    ## dim*dim matrix\n",
    "    c[0]=((x-m[0])@((x-m[0]).T)) /(N-1)\n",
    "    for j in range(J):\n",
    "        dw = np.random.multivariate_normal(np.zeros(dim),dt*I,N).T\n",
    "        dv = np.random.multivariate_normal(np.zeros(dim_o),dt*I_o,N).T\n",
    "        ## A@x:dim*N R1@dw:dim*N c[j]@(H.T):dim*dim_o z[j+1]-z[j]:dim_o*1 H@x*dt:dim_o*N R2*dv:dim_o*N \n",
    "        ## x-m[j]:dim*N c[j]:dim*dim\n",
    "        \n",
    "        step1=(((x-m[j]).T)@(H.T))\n",
    "        step2=step1@(la.inv(R2)@la.inv(R2))\n",
    "        # Only the \"innovation\" term here changes to the \"deterministic\" version\n",
    "        step3=step2@( (z[j+1]-z[j]) - (H@(x+m[j])*dt)/2 )\n",
    "        step4=(x-m[j])@step3 /(N-1)\n",
    "        \n",
    "        x = x + A@x*dt + R1@dw + step4\n",
    "        m[j+1] = (np.mean(x, axis=1)).reshape(dim,1)\n",
    "\n",
    "    return([m,c])\n",
    "\n",
    "def DCEnKBF(T,l,lmax,z,N,collection_input):\n",
    "    \n",
    "    [dim,dim_o,A,R1,R2,H,m0,C0]=collection_input\n",
    "    J=T*(2**(l-1))\n",
    "    I=identity(dim).toarray()\n",
    "    I1=identity(dim_o).toarray()\n",
    "    dt=2**(-l)\n",
    "    dt1=2**(-l+1)\n",
    "    \n",
    "    m=np.zeros((J*2+1,dim,1))\n",
    "    m1=np.zeros((J+1,dim,1))\n",
    "    c=np.zeros((J*2+1,dim,dim))\n",
    "    c1=np.zeros((J+1,dim,dim))\n",
    "    z1=cut(T,lmax,l-1,z)\n",
    "    z=cut(T,lmax,l,z)\n",
    "    \n",
    "    ## This gives a dim*N matrix\n",
    "    x = np.random.multivariate_normal(m0,C0,N).T\n",
    "    x1 = x\n",
    "    ## A dim*1 vector\n",
    "    m[0]=(np.mean(x, axis=1)).reshape(dim,1)\n",
    "    m1[0]=m[0]\n",
    "    ## dim*dim matrix\n",
    "    c[0]=((x-m[0])@((x-m[0]).T)) /(N-1)\n",
    "    c1[0]=c[0]\n",
    "    \n",
    "    dw=np.zeros((2,dim,N))\n",
    "    dv=np.zeros((2,dim_o,N))\n",
    "    inv=(la.inv(R2)@la.inv(R2))\n",
    "    for j in range(J):\n",
    "        for s in range(2):\n",
    "            dw[s] = np.random.multivariate_normal(np.zeros(dim),dt*I,N).T\n",
    "            dv[s] = np.random.multivariate_normal(np.zeros(dim_o),dt*I1,N).T\n",
    "            ## A@x:dim*N R1@dw:dim*N c[j]@(H.T):dim*dim_o z[j+1]-z[j]:dim_o*1 H@x*dt:dim_o*N R2*dv:dim_o*N \n",
    "            ## x-m[j]:dim*N c[j]:dim*dim\n",
    "\n",
    "            step1=(((x-m[2*j+s]).T)@(H.T))\n",
    "            step2=step1@inv\n",
    "            step3=step2@( (z[2*j+s+1]-z[2*j+s]) - (H@(x+m[2*j+s])*dt)/2 )\n",
    "            step4=(x-m[2*j+s])@step3 /(N-1)\n",
    "\n",
    "            x = x + A@x*dt + R1@dw[s] + step4\n",
    "            m[2*j+s+1] = (np.mean(x, axis=1)).reshape(dim,1)\n",
    "        \n",
    "        step1=(((x1-m1[j]).T)@(H.T))\n",
    "        step2=step1@inv\n",
    "        \n",
    "        step3=step2@( (z1[j+1]-z1[j]) - (H@(x1+m1[j])*dt1)/2 )\n",
    "        step4=(x1-m1[j])@step3 /(N-1)\n",
    "        \n",
    "        x1 = x1 + A@x1*dt1 + R1@(dw[0]+dw[1]) + step4\n",
    "        m1[j+1] = (np.mean(x1, axis=1)).reshape(dim,1)\n",
    "        \n",
    "    return([m,m1])\n",
    "  \n",
    "def coef(x, y): \n",
    "    # number of observations/points \n",
    "    n = np.size(x) \n",
    "  \n",
    "    # mean of x and y vector \n",
    "    m_x, m_y = np.mean(x), np.mean(y) \n",
    "  \n",
    "    # calculating cross-deviation and deviation about x \n",
    "    SS_xy = np.sum(y*x) - n*m_y*m_x \n",
    "    SS_xx = np.sum(x*x) - n*m_x*m_x \n",
    "  \n",
    "    # calculating regression coefficients \n",
    "    b_1 = SS_xy / SS_xx \n",
    "    b_0 = m_y - b_1*m_x \n",
    "  \n",
    "    return np.asarray((b_0, b_1)) \n"
   ]
  },
  {
   "cell_type": "markdown",
   "metadata": {},
   "source": [
    "### Paramter Tuning: \n",
    "#####  (i) For EnKBF, in order to target a certain MSE value, we need to banlance this two terms above as \n",
    "$$\n",
    "\\mathbb{E}[\\|\\eta_{t}^{N,l}(e)-\\eta_{t}(e)\\|^2]  = \\mathbb{E}[\\|\\eta_{t}^{N,l}(e) - \\eta_{t}^{l}(e)\\|^2] + \\|\\eta_{t}^{l}(e) - \\eta_{t}(e)\\|^2\n",
    "$$\n",
    "\n",
    "From Proposition 2.1 of our paper, we know that EnKBF estimator $\\eta_{t}^{N,l}(e)$ satisfies\n",
    "\n",
    "1. $ \\mathbb{E}[\\|\\eta_{t}^{N,l}(e) - \\eta_{t}^{l}(e)\\|^2] \\approx C_{1}(\\frac{1}{N})$\n",
    "\n",
    "2. $  \\|\\eta_{t}^{l}(e) - \\eta_{t}(e)\\| \\approx C_{2}(\\Delta_{l})$\n",
    "\n",
    "We simulate to obtain this two constants $C_{1}$, $C_{2}$. Values of $\\eta_{t}^{l}(\\varphi)$ can be approximated with EnKBF with huge $N$.\n",
    "\n",
    "##### To target a MSE of $\\mathcal{O}(\\epsilon^2)$, we choose $N = \\epsilon^{-2}C_{1}$, $\\Delta_{l} = \\frac{\\epsilon}{C_{2}}$, the cost required for EnKBF is represented by the number of discretization steps involved\n",
    "$$\n",
    "Cost_{enkbf} = N \\Delta_{l}^{-1} t = tC_{1}C_{2}\\epsilon^{-3} = \\mathcal{O}(\\epsilon^{-3})\n",
    "$$\n",
    "\n",
    "##### (ii) For MLEnKBF,  \n",
    "\n",
    "Remark: For the models used in the simulation, EnKBF with $l \\leq 2$ sometimes output exploding values, for $l >2$ this issue doesn't exist, which suggest that we should consider using for MLEnKBF for $L>3$\n",
    "$$\n",
    "\\eta_{t}^{ML}(e) = \\eta_{t}^{N_{3},3}(e) + \\sum_{l=4}^{L} (\\eta_{t}^{l}-\\eta_{t}^{l-1})^{N_{l}}(e)\n",
    "$$\n",
    "to simply avoid getting exploding values from our specific model settings.\n",
    "\n",
    "The MSE of the MLEnKBF estimator is given by\n",
    "\n",
    "$$\n",
    "\\mathbb{E}[\\|\\eta_{t}^{ML}(e)-\\eta_{t}(e)\\|^2]  = \\mathbb{E}[\\|\\eta_{t}^{ML}(e) - \\eta_{t}^{L}(e)\\|^2] + \\|\\eta_{t}^{L}(e) - \\eta_{t}(e)\\|^2\n",
    "$$\n",
    "\n",
    "From Theorem 3.1 of our paper, we know that MLEnKBF estimator satisfies\n",
    "\n",
    "1. $\\mathbb{E}[\\|\\eta_{t}^{ML}(e) - \\eta_{t}^{L}(e)\\|^2] \\approx \\frac{C_{1}}{N_{3}} + C_{3} \\sum_{l=4}^{L} \\frac{\\Delta_{l}}{N_{l}} + C_{4}\\sum_{l_{1}=4}^{L}\\sum_{l_{2}=4, l_{2} \\neq l_{1}}^{L}\\frac{\\Delta_{l_{1}}}{N_{l_{1}}}\\frac{\\Delta_{l_{2}}}{N_{l_{2}}} \\approx \\frac{C_{1}}{N_{3}} + C_{3} \\sum_{l=4}^{L} \\frac{\\Delta_{l}}{N_{l}}$\n",
    "\n",
    "We remark here that the third term above is in practice much smaller than the first & second term thus can be ignored\n",
    "\n",
    "In order to tune values of $C_3$, recall that Proposition D.4 gives\n",
    "\n",
    "2. $\\mathbb{E}[\\|(\\eta_{t}^{l}-\\eta_{t}^{l-1})^{N_l}(e) - (\\eta_{t}^{l}-\\eta_{t}^{l-1})(e)\\|^2] \\approx C_{3} \\frac{\\Delta_{l}}{N_{l}}$\n",
    "\n",
    "We can thus simulate CEnKBF to obtain $C_{3}$ for our specific model, too.\n",
    "\n",
    "##### To target a MSE of $\\mathcal{O}(\\epsilon^{2})$ for MLEnKBF , we choose $\\Delta_{L} = \\frac{\\epsilon}{C_{2}}$, $N_{3}=C_{1}\\epsilon^{-2}$, $N_{l} = \\epsilon^{-2}\\Delta_{l}C_{3}(L-3) $ for $l \\in \\{4,5,...,L\\}$, the cost required for MLEnKBF is represented by the number of discretization steps involved\n",
    "$$\n",
    "Cost_{mlenkbf} = t\\sum_{l=3}^{L}N_{l}\\Delta_{l}^{-1} = tC_{1}\\Delta_{3}^{-1}\\epsilon^{-2} + \\sum_{l=4}^{L}C_{3}(L-3)\\epsilon^{-2} = \\mathcal{O}(\\epsilon^{-2}\\log(\\epsilon)^2)\n",
    "$$\n",
    "\n",
    "\n",
    "\n",
    "\n",
    "##### For Determinisitc D-EnKBF/MLD-EnKBF, similar tuning is applied."
   ]
  },
  {
   "cell_type": "code",
   "execution_count": 3,
   "metadata": {},
   "outputs": [],
   "source": [
    "### In order to construct (D)MLEnKBF, we will need values of c1,c2,c3 to be fitted out first"
   ]
  },
  {
   "cell_type": "code",
   "execution_count": 4,
   "metadata": {},
   "outputs": [],
   "source": [
    "#def Numcal(C,L):\n",
    "#    Num=np.zeros(L+1)\n",
    "#    epsilon = np.sqrt(2)*c2 * 2**(-L)\n",
    "#    Num[3] = int(2*c1 * epsilon**(-2))\n",
    "#    for li in range(4,L+1):\n",
    "#        Num[li]=np.ceil(int(2*epsilon**(-2)*c3*(L-3)*2**(-li)))\n",
    "#    return(Num*C)\n",
    "\n",
    "def MLEnKBF(C,T,L,lmax,l0,z,collection_input):\n",
    "    Num=Numcal(C,L,l0)\n",
    "    telescopic_summand=np.zeros(L-l0+1)\n",
    "    [m,c]=EnKBF(T,l0,lmax,z,int(Num[0]),collection_input)\n",
    "    telescopic_summand[0]=m[-1,0]\n",
    "    for l in range(l0+1,L+1):\n",
    "        [m1,m2]=CEnKBF(T,l,lmax,z,int(Num[l]),collection_input)\n",
    "        telescopic_summand[l-l0]=m1[-1,0]-m2[-1,0]\n",
    "    est=np.sum(telescopic_summand)\n",
    "    return(est)"
   ]
  },
  {
   "cell_type": "code",
   "execution_count": 5,
   "metadata": {},
   "outputs": [],
   "source": [
    "def cost_enkbf(T,L):\n",
    "    epsilon = c2 * 2**(-L)\n",
    "    cost=int(T*c1*c2*epsilon**(-3))\n",
    "    return(cost)\n",
    "\n",
    "def cost_mlenkbf(C,T,L,l0):\n",
    "    num=Numcal(C,L,l0,w1,w2)\n",
    "    kk=num[0]*2**(l0)\n",
    "    for l in range(l0,L):\n",
    "        kk=kk+num[l-l0]*(2**(l+1))*3/2.\n",
    "    return(T*kk)"
   ]
  },
  {
   "cell_type": "code",
   "execution_count": 6,
   "metadata": {},
   "outputs": [],
   "source": [
    "def Numcal_D(C,L):\n",
    "    Num=np.zeros(L+1)\n",
    "    epsilon = c2 * 2**(-L)\n",
    "    Num[3] = int(c1 * epsilon**(-2))\n",
    "    for li in range(4,L+1):\n",
    "        Num[li]=int(epsilon**(-2)*c3*(L-3)*2**(-li))\n",
    "    return(Num*C)\n",
    "\n",
    "\n",
    "def MLDEnKBF(C,T,L,lmax,l0,z,collection_input):\n",
    "    Num=Numcal(C,L,l0)\n",
    "    telescopic_summand=np.zeros(L-l0+1)\n",
    "    [m,c]=DEnKBF(T,l0,lmax,z,int(Num[0]),collection_input)\n",
    "    telescopic_summand[0]=m[-1,0]\n",
    "    for l in range(l0+1,L+1):\n",
    "        [m1,m2]=DCEnKBF(T,l,lmax,z,int(Num[l]),collection_input)\n",
    "        telescopic_summand[l-l0]=m1[-1,0]-m2[-1,0]\n",
    "    est=np.sum(telescopic_summand)\n",
    "    return(est)"
   ]
  },
  {
   "cell_type": "code",
   "execution_count": 7,
   "metadata": {},
   "outputs": [],
   "source": [
    "def cost_denkbf(T,L):\n",
    "    epsilon = c2 * 2**(-L)\n",
    "    cost=int(T*c1*c2*epsilon**(-3))\n",
    "    return(cost)\n",
    "\n",
    "\n",
    "def cost_mldenkbf(C,T,L,l0):\n",
    "    num=Numcal(C,L,l0)\n",
    "    kk=num[0]*2**(l0)\n",
    "    for l in range(l0,L):\n",
    "        kk=kk+num[l]*(2**(l+1))*3/2.\n",
    "    return(T*kk)"
   ]
  },
  {
   "cell_type": "markdown",
   "metadata": {},
   "source": [
    "##### 1. $\\mathbb{E}[\\|(\\eta_{t}^{l,N}(\\varphi)-\\eta_{t}^{l}(\\varphi))\\|^2] \\approx C_{1}(\\frac{1}{N})$\n",
    "##### 2. $\\|\\eta_{t}^{l}(e) - \\eta_{t}(e)\\| \\approx C_{2}(\\Delta_{l})$\n",
    "##### 3. $\\mathbb{E}[\\|(\\eta_{t}^{l}-\\eta_{t}^{l-1})^{N_l}(e) - (\\eta_{t}^{l}-\\eta_{t}^{l-1})(e)\\|^2] \\approx C_{3} \\frac{\\Delta_{l}}{N_{l}}$\n",
    "##### 4. Simulation to get MSE of MLEnKBF & EnKBF for $l \\in \\{4,5,6,7,8,9\\}$"
   ]
  },
  {
   "cell_type": "code",
   "execution_count": 8,
   "metadata": {},
   "outputs": [],
   "source": [
    "def dsimulate_mse(seed_val):\n",
    "    np.random.seed(seed_val)\n",
    "    lmax = 12\n",
    "    dim = 10\n",
    "    T=10\n",
    "    collection_input = gen_model(dim)\n",
    "    z = gen_data(T,lmax,collection_input)[0]\n",
    "    N=1000\n",
    "    \n",
    "    tv_rep = np.zeros((Rep,dim))\n",
    "    for rep in range(Rep):\n",
    "        tv_rep[rep] = DEnKBF(T,lmax,lmax,z,N,collection_input)[0][-1,:][:,0]\n",
    "    tv_approx = np.mean(tv_rep,axis=0)\n",
    "    mse_level=np.zeros(10)\n",
    "    #delt_level=np.zeros(10)\n",
    "    C=2.1\n",
    "    Rep=100\n",
    "    for l in range(4,10):\n",
    "        est_ml=np.zeros(Rep)\n",
    "        #est_en=np.zeros(Rep)\n",
    "        for rep in range(Rep):\n",
    "            with np.errstate(divide='ignore'):\n",
    "                #mean_en = EnKBF(T,l,lmax,z,N,collection_input)[0][-1,:]\n",
    "                mean_ml = MLDEnKBF(C,T,L,lmax,z,collection_input)\n",
    "                est_ml[rep] = np.sum((mean_ml - tv_approx)**2)\n",
    "                est_en[rep] = np.sum((mean_en - tv_approx)**2)\n",
    "        mse_ml[l] = np.mean(est_ml)\n",
    "        mse_en[l] = np.mean(est_en)\n",
    "    \n",
    "    return mse_ml[4:10],mse_en[4:10]"
   ]
  },
  {
   "cell_type": "markdown",
   "metadata": {},
   "source": [
    "##### 1. $\\mathbb{E}[\\|(\\eta_{t}^{l,N}(\\varphi)-\\eta_{t}^{l}(\\varphi))\\|^2] \\approx C_{1}(\\frac{1}{N})$\n",
    "##### 2. $\\|\\eta_{t}^{l}(e) - \\eta_{t}(e)\\| \\approx C_{2}(\\Delta_{l})$\n",
    "##### 3. $\\mathbb{E}[\\|(\\eta_{t}^{l}-\\eta_{t}^{l-1})^{N_l}(e) - (\\eta_{t}^{l}-\\eta_{t}^{l-1})(e)\\|^2] \\approx C_{3} \\frac{\\Delta_{l}}{N_{l}}$\n",
    "##### 4. Simulation to get MSE of D-MLEnKBF & D-EnKBF for $l \\in \\{4,5,6,7,8,9\\}$"
   ]
  },
  {
   "cell_type": "markdown",
   "metadata": {},
   "source": [
    "### New fit_c1 and fit_c3"
   ]
  },
  {
   "cell_type": "code",
   "execution_count": 9,
   "metadata": {},
   "outputs": [],
   "source": [
    "#necessary parameters: l,collection_input, z, p, N0, Rep, T,Lmax,\n",
    "def fit_c1(T,l,lz,z,collection_input,seed_val,p,N0,Rep):\n",
    "    num_seq=np.zeros(p+1)\n",
    "    dim=collection_input[0]\n",
    "    for i in range(p+1):\n",
    "        num_seq[i] = N0*2**i\n",
    "    np.random.seed(seed_val)\n",
    "    evar=np.zeros((p+1,dim))\n",
    "    for numi in range(p+1):\n",
    "        est=np.zeros((Rep,dim))\n",
    "        #print(\"numi=\",numi)\n",
    "        with progressbar.ProgressBar(max_value=Rep) as bar:\n",
    "            for rep in range(Rep):\n",
    "                with np.errstate(divide='ignore'):\n",
    "                    mean_mat =EnKBF(T,l,lz,z,int(num_seq[numi]),collection_input)[0]\n",
    "                    est[rep] = mean_mat[-1,:,0]\n",
    "                    #print(est[rep])\n",
    "                    bar.update(rep)\n",
    "                \n",
    "        evar[numi] = np.var(est,axis=0)         \n",
    "    bs=np.zeros((dim,2))\n",
    "    x=np.log10(num_seq)\n",
    "    y=np.log10(evar)\n",
    "    for i in range(dim):\n",
    "        bs[i]=coef(x,(y.T)[i])\n",
    "    #b=coef(abscisas,ordenadas)\n",
    "\n",
    "                \n",
    "        \n",
    "    \n",
    "    #x = np.log10(num_seq)\n",
    "    #x=np.array([i for i in range(6)])\n",
    "    #y = np.log10(evar)\n",
    "    #b = coef(x,y)\n",
    "    plt.plot(x,y)\n",
    "    plt.plot(x,(bs[:,0].reshape(dim,1)+bs[:,1].reshape(dim,1)@x.reshape(1,p+1)).T)\n",
    "    #print(bs[:,0].reshape(dim,1)+bs[:,1].reshape(dim,1)@x.reshape(1,p+1))\n",
    "    return 10**(bs)\n",
    "\n"
   ]
  },
  {
   "cell_type": "code",
   "execution_count": 10,
   "metadata": {},
   "outputs": [],
   "source": [
    "#necessary parameters: T,lz,z,N,collection_input,seed_val,l0,L,Rep\n",
    "def fit_c3( T,lz,z,N,collection_input,seed_val,l0,L,Rep):\n",
    "    delta_seq = np.zeros(L-l0)\n",
    "    for l in range(L-l0):\n",
    "        delta_seq[l] = 2**(-(l0+1+l))\n",
    "    #Rep=100\n",
    "    dim=collection_input[0]\n",
    "    evar=np.zeros((L-l0,dim))\n",
    "    np.random.seed(seed_val)\n",
    "    for l in range(L-l0):\n",
    "        print(\"Current level \",l+l0+1,\". \",L-(l+l0+1),\"remaining.\" )\n",
    "        est = np.zeros((Rep,dim))\n",
    "        with progressbar.ProgressBar(max_value=Rep) as bar:\n",
    "            for rep in range(Rep):\n",
    "                \n",
    "                with np.errstate(divide='ignore'):\n",
    "                    #print(T,l+l0+1,lz,N,collection_input)\n",
    "                    [m,m1]=CEnKBF(T,l+l0+1,lz,z,N,collection_input)\n",
    "                    est[rep] = m[-1,:,0] -m1[-1,:,0]\n",
    "                bar.update(rep)\n",
    "        evar[l] = np.var(est,axis=0)\n",
    "        \n",
    "    bs=np.zeros((dim,2))\n",
    "    x=np.log10(delta_seq)\n",
    "    y=np.log10(evar)\n",
    "    for i in range(dim):\n",
    "        bs[i]=coef(x,(y.T)[i])\n",
    "    plt.plot(x,y)\n",
    "    plt.plot(x,(bs[:,0].reshape(dim,1)+bs[:,1].reshape(dim,1)@x.reshape(1,L-l0)).T)\n",
    "\n",
    "    return [bs,N*10**(bs)]"
   ]
  },
  {
   "cell_type": "markdown",
   "metadata": {},
   "source": [
    "Experiments global variable and input variables"
   ]
  },
  {
   "cell_type": "markdown",
   "metadata": {},
   "source": [
    "### Parameter search: T=80, dim=100."
   ]
  },
  {
   "cell_type": "code",
   "execution_count": 11,
   "metadata": {},
   "outputs": [],
   "source": [
    "T=80\n",
    "dim=100\n",
    "seed_val_col=5\n",
    "seed_val_obs=5\n",
    "amm=2.\n",
    "bmm=0.005\n",
    "cmm=50.\n",
    "b=6\n",
    "lz=11\n",
    "l=3\n",
    "N=50\n",
    "tau=1/2**(l)\n",
    "J=T*(2**l)\n",
    "seed_val=2\n",
    "B=3\n",
    "np.random.seed(seed_val_col)\n",
    "collection_input=gen_model(dim)\n",
    "np.random.seed(seed_val_obs)\n",
    "[z,v] = gen_data(T,lz,collection_input)\n",
    "ems=np.zeros((B,J+1,dim,1))\n",
    "#[m,c] = KBF(T,l,lmax,z,collection_input)\n",
    "## The with numpy.errstate argument is used to avoid any stupid warning\n",
    "\n",
    "#EnKBF(T,l,lz,z,N,collection_input)"
   ]
  },
  {
   "cell_type": "code",
   "execution_count": 12,
   "metadata": {
    "scrolled": true
   },
   "outputs": [
    {
     "name": "stdout",
     "output_type": "stream",
     "text": [
      "(163841, 100, 1)\n",
      "(163841, 100, 1)\n"
     ]
    }
   ],
   "source": [
    "zshape=z.shape\n",
    "vshape=v.shape\n",
    "print(z.shape)\n",
    "print(v.shape)\n",
    "zreshaped=z.reshape(z.shape[0],-1)\n",
    "vreshaped=v.reshape(v.shape[0],-1)\n",
    "np.savetxt('obsT80d100.txt', zreshaped, fmt='%f')\n",
    "np.savetxt('realiT80d100.txt', vreshaped, fmt='%f')"
   ]
  },
  {
   "cell_type": "code",
   "execution_count": 13,
   "metadata": {},
   "outputs": [
    {
     "name": "stdout",
     "output_type": "stream",
     "text": [
      "(163841, 100)\n"
     ]
    }
   ],
   "source": [
    "T=80\n",
    "dim=100\n",
    "seed_val_col=5\n",
    "seed_val_obs=5\n",
    "amm=2.\n",
    "bmm=0.005\n",
    "cmm=50.\n",
    "b=6\n",
    "lz=11\n",
    "l=3\n",
    "N=50\n",
    "tau=1/2**(l)\n",
    "J=T*(2**l)\n",
    "seed_val=2\n",
    "B=3\n",
    "np.random.seed(seed_val_col)\n",
    "collection_input=gen_model(dim)\n",
    "zshape=(163841, 100, 1)\n",
    "vshape=(163841, 100, 1)\n",
    "zload=np.loadtxt('obsT80d100.txt', dtype=float)\n",
    "vload=np.loadtxt('realiT80d100.txt', dtype=float)\n",
    "print(np.shape(zload))\n",
    "z=zload.reshape(zshape)\n",
    "v=vload.reshape(vshape)"
   ]
  },
  {
   "cell_type": "code",
   "execution_count": 5,
   "metadata": {},
   "outputs": [],
   "source": [
    "np.random.seed(1)\n",
    "l=9\n",
    "N=400\n",
    "#EnKBF(T,l,lz,z,N,collection_input)[0][:10]"
   ]
  },
  {
   "cell_type": "code",
   "execution_count": 18,
   "metadata": {},
   "outputs": [
    {
     "data": {
      "text/plain": [
       "array([[ -8.8125576 ],\n",
       "       [ -7.24313729],\n",
       "       [  0.5370405 ],\n",
       "       [ -8.65285622],\n",
       "       [ -3.19018438],\n",
       "       [ -6.80307598],\n",
       "       [-12.06196058],\n",
       "       [-17.06805217],\n",
       "       [-15.39961489],\n",
       "       [ -9.32580075],\n",
       "       [ -6.80956087],\n",
       "       [ -5.6885664 ],\n",
       "       [ -6.05720437],\n",
       "       [ -5.46073561],\n",
       "       [ -4.9518908 ],\n",
       "       [  1.61831766],\n",
       "       [ -7.53141993],\n",
       "       [  3.3812314 ],\n",
       "       [  1.72009248],\n",
       "       [  3.48382419],\n",
       "       [ -2.34386564],\n",
       "       [  2.86125444],\n",
       "       [ -5.48555251],\n",
       "       [  7.09950715],\n",
       "       [ -1.51489902],\n",
       "       [ -1.43641488],\n",
       "       [  5.41315886],\n",
       "       [  1.88971352],\n",
       "       [ -2.59643126],\n",
       "       [  3.28349053],\n",
       "       [ -0.71564652],\n",
       "       [  2.30941059],\n",
       "       [ -7.46960352],\n",
       "       [  1.91035688],\n",
       "       [  4.31813114],\n",
       "       [  3.32894295],\n",
       "       [  2.55392626],\n",
       "       [  3.248212  ],\n",
       "       [  4.0999031 ],\n",
       "       [ 11.44424687],\n",
       "       [  1.44532604],\n",
       "       [ -4.13885376],\n",
       "       [ -1.86905685],\n",
       "       [  8.43566409],\n",
       "       [  7.23261724],\n",
       "       [  4.39210141],\n",
       "       [  0.5891814 ],\n",
       "       [  2.5864268 ],\n",
       "       [ -2.40564664],\n",
       "       [  0.30009859],\n",
       "       [  5.14503035],\n",
       "       [ -0.24872734],\n",
       "       [  6.20814117],\n",
       "       [  5.64728509],\n",
       "       [  3.28487811],\n",
       "       [  2.23375689],\n",
       "       [  2.64510854],\n",
       "       [ -1.17332573],\n",
       "       [  8.69245056],\n",
       "       [ 12.00883061],\n",
       "       [  9.57517145],\n",
       "       [  4.97733117],\n",
       "       [ -1.12150602],\n",
       "       [  5.06078327],\n",
       "       [  9.13277233],\n",
       "       [  1.25655945],\n",
       "       [ -4.09184865],\n",
       "       [ -2.89663361],\n",
       "       [ -4.44229542],\n",
       "       [  7.08877543],\n",
       "       [  1.86405483],\n",
       "       [  4.93803819],\n",
       "       [  3.80737869],\n",
       "       [  2.75692974],\n",
       "       [ -4.5229399 ],\n",
       "       [  1.74209982],\n",
       "       [  6.77672892],\n",
       "       [  7.61581372],\n",
       "       [  6.49057109],\n",
       "       [  9.09186634],\n",
       "       [  9.67925169],\n",
       "       [  0.18156694],\n",
       "       [  2.7892334 ],\n",
       "       [  4.96410039],\n",
       "       [ -2.25097329],\n",
       "       [  5.80625809],\n",
       "       [  2.91557222],\n",
       "       [ 10.38075867],\n",
       "       [ 12.2330561 ],\n",
       "       [  5.27176954],\n",
       "       [  3.77102028],\n",
       "       [  8.10955652],\n",
       "       [  5.45934843],\n",
       "       [ -1.39901485],\n",
       "       [ -1.31034561],\n",
       "       [  8.6565437 ],\n",
       "       [ -1.4112748 ],\n",
       "       [  4.08095753],\n",
       "       [  6.22736157],\n",
       "       [  3.96534995]])"
      ]
     },
     "execution_count": 18,
     "metadata": {},
     "output_type": "execute_result"
    },
    {
     "data": {
      "image/png": "[encoded data removed]",
      "text/plain": [
       "<Figure size 432x288 with 1 Axes>"
      ]
     },
     "metadata": {
      "needs_background": "light"
     },
     "output_type": "display_data"
    }
   ],
   "source": [
    "ind=1\n",
    "ems=np.zeros((B,J+1,dim,1))\n",
    "m=np.zeros((J+1,dim,1))\n",
    "N=200\n",
    "l=3\n",
    "\n",
    "with np.errstate(divide='ignore'):\n",
    "    m=KBF(T,l,lz,z,collection_input)[0]\n",
    "    for i in range(B):\n",
    "        ems[i] = DEnKBF(T,l,lz,z,N,collection_input)[0]\n",
    "        \n",
    "        #[m2,c2] = DEnKBF(T,l,lmax,z,N,collection_input)\n",
    "v1=cut(T,lz,l,v)\n",
    "J=T*(2**l)\n",
    "x1 = tau*np.arange(J+1)\n",
    "#print(m1[:,2].T[0])\n",
    "plt.plot(x1,m[:,ind],label=\"KBF posterior mean estimate\")\n",
    "plt.plot(x1,v1[:,ind],label=\"true value\")\n",
    "for i in range(B):\n",
    "    plt.plot(x1,ems[i,:,ind,0])\n",
    "#plt.plot(x1,m2[:,0],label=\"DEnKBF posterior mean estimate\")\n",
    "plt.xlabel('time')\n",
    "plt.ylabel('value')\n",
    "plt.title('Kalman-Bucy Filter')\n",
    "plt.legend()\n",
    "plt.grid()\n",
    "EnKBF(T,l,lz,z,N,collection_input)[0][-1]"
   ]
  },
  {
   "cell_type": "markdown",
   "metadata": {},
   "source": [
    "Check the data "
   ]
  },
  {
   "cell_type": "code",
   "execution_count": 36,
   "metadata": {},
   "outputs": [],
   "source": [
    "N0=50\n",
    "l=3\n",
    "p=6\n",
    "seed_val=1\n",
    "Rep=100"
   ]
  },
  {
   "cell_type": "code",
   "execution_count": 37,
   "metadata": {},
   "outputs": [
    {
     "name": "stderr",
     "output_type": "stream",
     "text": [
      "100% (100 of 100) |######################| Elapsed Time: 0:03:13 Time:  0:03:13\n",
      "100% (100 of 100) |######################| Elapsed Time: 0:03:42 Time:  0:03:42\n",
      "100% (100 of 100) |######################| Elapsed Time: 0:04:48 Time:  0:04:48\n",
      "100% (100 of 100) |######################| Elapsed Time: 0:07:17 Time:  0:07:17\n",
      "100% (100 of 100) |######################| Elapsed Time: 0:12:48 Time:  0:12:48\n",
      "100% (100 of 100) |######################| Elapsed Time: 0:30:16 Time:  0:30:16\n",
      "100% (100 of 100) |######################| Elapsed Time: 1:16:04 Time:  1:16:04\n"
     ]
    },
    {
     "data": {
      "image/png": "[encoded data removed]",
      "text/plain": [
       "<Figure size 432x288 with 1 Axes>"
      ]
     },
     "metadata": {
      "needs_background": "light"
     },
     "output_type": "display_data"
    }
   ],
   "source": [
    "c1s=fit_c1(T,l,lz,z,collection_input,seed_val,p,N0,Rep)"
   ]
  },
  {
   "cell_type": "code",
   "execution_count": 38,
   "metadata": {},
   "outputs": [
    {
     "data": {
      "text/plain": [
       "array([[1.90543100e+03, 1.17465403e-01],\n",
       "       [1.74647510e+03, 1.21570984e-01],\n",
       "       [2.12722483e+03, 1.13158994e-01],\n",
       "       [3.23115996e+03, 9.74865570e-02],\n",
       "       [1.58386440e+03, 1.26621998e-01],\n",
       "       [1.41803473e+03, 1.29615077e-01],\n",
       "       [1.86329531e+03, 1.24070446e-01],\n",
       "       [1.63185032e+03, 1.31958734e-01],\n",
       "       [1.53734571e+03, 1.32702126e-01],\n",
       "       [1.28968275e+03, 1.26214663e-01],\n",
       "       [1.69148193e+03, 1.16481031e-01],\n",
       "       [8.34107191e+02, 1.50684677e-01],\n",
       "       [1.05987074e+03, 1.44520222e-01],\n",
       "       [1.88039379e+03, 1.20027159e-01],\n",
       "       [1.75354173e+03, 1.24401126e-01],\n",
       "       [1.40970681e+03, 1.40826054e-01],\n",
       "       [1.81891534e+03, 1.16746449e-01],\n",
       "       [1.18977035e+03, 1.34767502e-01],\n",
       "       [1.45801058e+03, 1.27660816e-01],\n",
       "       [9.48359602e+02, 1.53115381e-01],\n",
       "       [2.66710539e+03, 9.76260514e-02],\n",
       "       [1.64643096e+03, 1.17754175e-01],\n",
       "       [1.38190580e+03, 1.24631094e-01],\n",
       "       [1.56669991e+03, 1.27520311e-01],\n",
       "       [1.53815753e+03, 1.20094270e-01],\n",
       "       [1.92707796e+03, 1.10371972e-01],\n",
       "       [1.01879525e+03, 1.38047501e-01],\n",
       "       [1.60037658e+03, 1.26315550e-01],\n",
       "       [1.29913774e+03, 1.38226611e-01],\n",
       "       [2.01230148e+03, 1.15142642e-01],\n",
       "       [2.74208855e+03, 1.07200488e-01],\n",
       "       [1.98907048e+03, 1.16270320e-01],\n",
       "       [1.29671132e+03, 1.33669150e-01],\n",
       "       [1.24712487e+03, 1.43018955e-01],\n",
       "       [1.73730660e+03, 1.27708717e-01],\n",
       "       [2.02666541e+03, 1.15437710e-01],\n",
       "       [1.56612666e+03, 1.26477732e-01],\n",
       "       [1.67683580e+03, 1.29584356e-01],\n",
       "       [7.88009407e+02, 1.64424407e-01],\n",
       "       [1.07384363e+03, 1.39874954e-01],\n",
       "       [1.32425911e+03, 1.28217771e-01],\n",
       "       [1.66127911e+03, 1.24047173e-01],\n",
       "       [2.08783556e+03, 1.16806858e-01],\n",
       "       [1.35969117e+03, 1.43117793e-01],\n",
       "       [1.15675229e+03, 1.43315565e-01],\n",
       "       [1.45970509e+03, 1.24252673e-01],\n",
       "       [8.21363488e+02, 1.54083600e-01],\n",
       "       [1.59782300e+03, 1.23313598e-01],\n",
       "       [1.71541168e+03, 1.25642996e-01],\n",
       "       [1.17175362e+03, 1.33767994e-01],\n",
       "       [1.30151780e+03, 1.38369055e-01],\n",
       "       [1.67263991e+03, 1.25873266e-01],\n",
       "       [1.10123191e+03, 1.34708112e-01],\n",
       "       [1.87165857e+03, 1.19070693e-01],\n",
       "       [1.71414205e+03, 1.28858913e-01],\n",
       "       [1.39996834e+03, 1.30046925e-01],\n",
       "       [2.18286392e+03, 1.07927422e-01],\n",
       "       [1.21655422e+03, 1.29950418e-01],\n",
       "       [1.13311406e+03, 1.39394604e-01],\n",
       "       [2.09831440e+03, 1.04400222e-01],\n",
       "       [1.26957389e+03, 1.38651057e-01],\n",
       "       [1.82687112e+03, 1.20888745e-01],\n",
       "       [1.44092485e+03, 1.25282805e-01],\n",
       "       [1.58981354e+03, 1.22431352e-01],\n",
       "       [1.54703562e+03, 1.23672704e-01],\n",
       "       [1.13204202e+03, 1.31946662e-01],\n",
       "       [1.54118052e+03, 1.28966008e-01],\n",
       "       [1.74925099e+03, 1.21018546e-01],\n",
       "       [2.02855107e+03, 1.15957530e-01],\n",
       "       [1.53346748e+03, 1.26518857e-01],\n",
       "       [1.30421552e+03, 1.43709478e-01],\n",
       "       [1.84430422e+03, 1.20711619e-01],\n",
       "       [1.34250517e+03, 1.39296676e-01],\n",
       "       [1.81144965e+03, 1.20840270e-01],\n",
       "       [1.53363084e+03, 1.28063020e-01],\n",
       "       [1.49026905e+03, 1.27525499e-01],\n",
       "       [2.85903355e+03, 1.05819814e-01],\n",
       "       [2.96085215e+03, 9.53707418e-02],\n",
       "       [1.55099691e+03, 1.30111908e-01],\n",
       "       [1.19826364e+03, 1.34616383e-01],\n",
       "       [1.49489244e+03, 1.27291308e-01],\n",
       "       [1.37600345e+03, 1.15917140e-01],\n",
       "       [1.82970352e+03, 1.19899815e-01],\n",
       "       [2.09594162e+03, 1.20284310e-01],\n",
       "       [2.31754075e+03, 1.10998934e-01],\n",
       "       [9.53684142e+02, 1.50299109e-01],\n",
       "       [1.97009951e+03, 1.19100840e-01],\n",
       "       [1.38295416e+03, 1.32024002e-01],\n",
       "       [1.42082939e+03, 1.37295189e-01],\n",
       "       [1.23205804e+03, 1.34809920e-01],\n",
       "       [2.14072233e+03, 1.19026245e-01],\n",
       "       [1.55039998e+03, 1.31571625e-01],\n",
       "       [1.04770233e+03, 1.45627945e-01],\n",
       "       [1.09921288e+03, 1.51009142e-01],\n",
       "       [1.55093261e+03, 1.19289595e-01],\n",
       "       [1.16847045e+03, 1.43455797e-01],\n",
       "       [1.02177936e+03, 1.44914646e-01],\n",
       "       [1.19348450e+03, 1.36981298e-01],\n",
       "       [2.66047381e+03, 1.09654904e-01],\n",
       "       [9.53272589e+02, 1.45916971e-01]])"
      ]
     },
     "execution_count": 38,
     "metadata": {},
     "output_type": "execute_result"
    }
   ],
   "source": [
    "c1s"
   ]
  },
  {
   "cell_type": "code",
   "execution_count": 43,
   "metadata": {},
   "outputs": [],
   "source": [
    "N=50\n",
    "l0=3\n",
    "L=8\n",
    "Rep=100"
   ]
  },
  {
   "cell_type": "code",
   "execution_count": 44,
   "metadata": {
    "scrolled": false
   },
   "outputs": [
    {
     "name": "stdout",
     "output_type": "stream",
     "text": [
      "Current level  4 .  4 remaining.\n"
     ]
    },
    {
     "name": "stderr",
     "output_type": "stream",
     "text": [
      "100% (100 of 100) |######################| Elapsed Time: 0:04:28 Time:  0:04:28\n"
     ]
    },
    {
     "name": "stdout",
     "output_type": "stream",
     "text": [
      "Current level  5 .  3 remaining.\n"
     ]
    },
    {
     "name": "stderr",
     "output_type": "stream",
     "text": [
      "100% (100 of 100) |######################| Elapsed Time: 0:08:52 Time:  0:08:52\n"
     ]
    },
    {
     "name": "stdout",
     "output_type": "stream",
     "text": [
      "Current level  6 .  2 remaining.\n"
     ]
    },
    {
     "name": "stderr",
     "output_type": "stream",
     "text": [
      "100% (100 of 100) |######################| Elapsed Time: 0:17:31 Time:  0:17:31\n"
     ]
    },
    {
     "name": "stdout",
     "output_type": "stream",
     "text": [
      "Current level  7 .  1 remaining.\n"
     ]
    },
    {
     "name": "stderr",
     "output_type": "stream",
     "text": [
      "100% (100 of 100) |######################| Elapsed Time: 0:35:35 Time:  0:35:35\n"
     ]
    },
    {
     "name": "stdout",
     "output_type": "stream",
     "text": [
      "Current level  8 .  0 remaining.\n"
     ]
    },
    {
     "name": "stderr",
     "output_type": "stream",
     "text": [
      "100% (100 of 100) |######################| Elapsed Time: 1:46:20 Time:  1:46:20\n"
     ]
    },
    {
     "data": {
      "image/png": "[encoded data removed]",
      "text/plain": [
       "<Figure size 432x288 with 1 Axes>"
      ]
     },
     "metadata": {
      "needs_background": "light"
     },
     "output_type": "display_data"
    }
   ],
   "source": [
    "c3s=fit_c3(T,lz,z,N,collection_input,seed_val,l0,L,Rep)"
   ]
  },
  {
   "cell_type": "code",
   "execution_count": 45,
   "metadata": {},
   "outputs": [
    {
     "data": {
      "text/plain": [
       "[array([[2.00933699, 1.20899851],\n",
       "        [1.94927259, 1.11545379],\n",
       "        [2.0415577 , 1.18181634],\n",
       "        [2.24903639, 1.28144581],\n",
       "        [2.08138976, 1.19880078],\n",
       "        [2.19104017, 1.25663565],\n",
       "        [2.07314755, 1.19113125],\n",
       "        [2.4573806 , 1.36136003],\n",
       "        [2.13560373, 1.21397474],\n",
       "        [1.97880719, 1.1865857 ],\n",
       "        [2.12351962, 1.26734233],\n",
       "        [2.0848448 , 1.2348793 ],\n",
       "        [1.98035562, 1.14479769],\n",
       "        [2.00873052, 1.15462869],\n",
       "        [1.97711104, 1.11180756],\n",
       "        [2.22785298, 1.24505468],\n",
       "        [2.06654355, 1.16905156],\n",
       "        [2.10811676, 1.23620766],\n",
       "        [1.8346174 , 1.10224789],\n",
       "        [2.16864445, 1.22691154],\n",
       "        [2.00697945, 1.15708091],\n",
       "        [2.01972376, 1.20401328],\n",
       "        [2.19924839, 1.29957288],\n",
       "        [2.29013879, 1.29313383],\n",
       "        [1.98836486, 1.17584257],\n",
       "        [2.0767674 , 1.19546549],\n",
       "        [2.0052978 , 1.18985094],\n",
       "        [2.16692964, 1.26758475],\n",
       "        [2.21153147, 1.26524123],\n",
       "        [2.15733008, 1.27028696],\n",
       "        [2.21209373, 1.25292281],\n",
       "        [2.16662861, 1.24059877],\n",
       "        [2.26115004, 1.32982186],\n",
       "        [2.14262025, 1.19569018],\n",
       "        [2.16818436, 1.21733867],\n",
       "        [2.03540495, 1.15661777],\n",
       "        [1.97343075, 1.13421121],\n",
       "        [2.13301817, 1.20607561],\n",
       "        [1.80385981, 1.07109837],\n",
       "        [2.19601868, 1.28923762],\n",
       "        [2.10352212, 1.24392926],\n",
       "        [2.08452698, 1.20553133],\n",
       "        [2.18065197, 1.25406844],\n",
       "        [2.10253228, 1.16250065],\n",
       "        [2.12856483, 1.23761351],\n",
       "        [2.05152948, 1.22087998],\n",
       "        [2.01760127, 1.19604906],\n",
       "        [2.20238572, 1.26009246],\n",
       "        [1.93906516, 1.12825992],\n",
       "        [2.14255084, 1.24599839],\n",
       "        [2.4219734 , 1.35645763],\n",
       "        [2.09725201, 1.18772316],\n",
       "        [2.12510395, 1.2249794 ],\n",
       "        [2.02310945, 1.15770825],\n",
       "        [2.0131016 , 1.13227037],\n",
       "        [2.40262708, 1.34727762],\n",
       "        [2.34800348, 1.35701667],\n",
       "        [1.88308597, 1.15458297],\n",
       "        [2.31372412, 1.35049667],\n",
       "        [2.10582432, 1.21619562],\n",
       "        [2.2492631 , 1.2743491 ],\n",
       "        [2.14246252, 1.16418205],\n",
       "        [2.07208442, 1.19844675],\n",
       "        [1.88649029, 1.1181885 ],\n",
       "        [2.05058063, 1.20615194],\n",
       "        [2.05455882, 1.2280327 ],\n",
       "        [2.15622453, 1.23358425],\n",
       "        [1.93971029, 1.09289813],\n",
       "        [2.3229422 , 1.29937089],\n",
       "        [2.00986554, 1.18830104],\n",
       "        [2.10032262, 1.17719162],\n",
       "        [1.97833756, 1.13486962],\n",
       "        [2.08731833, 1.19169488],\n",
       "        [1.94497784, 1.14537682],\n",
       "        [2.03304819, 1.16453739],\n",
       "        [2.19577219, 1.24564228],\n",
       "        [2.14821449, 1.20341431],\n",
       "        [1.93903585, 1.14170538],\n",
       "        [1.99210696, 1.13358209],\n",
       "        [1.98640009, 1.14757473],\n",
       "        [2.0643849 , 1.1868496 ],\n",
       "        [1.83337174, 1.11430211],\n",
       "        [2.14430557, 1.19536169],\n",
       "        [2.13972701, 1.2054098 ],\n",
       "        [2.26493073, 1.28361043],\n",
       "        [1.98501174, 1.15731952],\n",
       "        [2.318473  , 1.30588497],\n",
       "        [2.35176329, 1.32881381],\n",
       "        [2.1463315 , 1.22371832],\n",
       "        [2.26153627, 1.28483766],\n",
       "        [2.35641093, 1.31156892],\n",
       "        [2.22100392, 1.27713783],\n",
       "        [2.04947027, 1.17215259],\n",
       "        [2.06746442, 1.15400335],\n",
       "        [2.00593618, 1.19362978],\n",
       "        [2.13054774, 1.22920458],\n",
       "        [2.24923922, 1.30241887],\n",
       "        [1.85526758, 1.09474372],\n",
       "        [2.1000943 , 1.19001226],\n",
       "        [2.014933  , 1.18202976]]),\n",
       " array([[ 5108.6599414 ,   809.037244  ],\n",
       "        [ 4448.79707651,   652.26458488],\n",
       "        [ 5502.09023627,   759.95231159],\n",
       "        [ 8871.69071415,   955.9073883 ],\n",
       "        [ 6030.58944213,   790.26143037],\n",
       "        [ 7762.65302277,   902.82931393],\n",
       "        [ 5917.21782449,   776.42811104],\n",
       "        [14333.44563482,  1149.02648383],\n",
       "        [ 6832.40709304,   818.36065156],\n",
       "        [ 4761.86626672,   768.34400832],\n",
       "        [ 6644.91800704,   925.36343411],\n",
       "        [ 6078.75723908,   858.71551266],\n",
       "        [ 4778.87449113,   697.85902132],\n",
       "        [ 5101.5309633 ,   713.83641405],\n",
       "        [ 4743.30489523,   646.81125144],\n",
       "        [ 8449.34382703,   879.07248302],\n",
       "        [ 5827.91968263,   737.94087845],\n",
       "        [ 6413.37695388,   861.34604626],\n",
       "        [ 3416.54701148,   632.72922155],\n",
       "        [ 7372.49440207,   843.10476097],\n",
       "        [ 5081.00300523,   717.87843975],\n",
       "        [ 5232.31358665,   799.80347099],\n",
       "        [ 7910.76342281,   996.65048708],\n",
       "        [ 9752.33904544,   981.98268582],\n",
       "        [ 4867.82391845,   749.57065135],\n",
       "        [ 5966.74397263,   784.21562727],\n",
       "        [ 5061.36673427,   774.14256425],\n",
       "        [ 7343.44158037,   925.88011052],\n",
       "        [ 8137.6962422 ,   920.89737254],\n",
       "        [ 7182.90433721,   931.65895268],\n",
       "        [ 8148.23851884,   895.14381566],\n",
       "        [ 7338.35330167,   870.09921219],\n",
       "        [ 9122.62956928,  1068.54266877],\n",
       "        [ 6943.68882451,   784.62146958],\n",
       "        [ 7364.68812872,   824.72406925],\n",
       "        [ 5424.69036926,   717.11330047],\n",
       "        [ 4703.27911781,   681.05347072],\n",
       "        [ 6791.85143619,   803.61051415],\n",
       "        [ 3182.94995531,   588.93636575],\n",
       "        [ 7852.15166551,   973.21237185],\n",
       "        [ 6345.8839339 ,   876.79742467],\n",
       "        [ 6074.31041126,   802.6040227 ],\n",
       "        [ 7579.17569322,   897.5082323 ],\n",
       "        [ 6331.43690623,   726.89327738],\n",
       "        [ 6722.56228525,   864.1388255 ],\n",
       "        [ 5629.8845062 ,   831.47651038],\n",
       "        [ 5206.80448857,   785.27009743],\n",
       "        [ 7968.11732456,   910.04416089],\n",
       "        [ 4345.45407695,   671.7844141 ],\n",
       "        [ 6942.57915424,   880.98475559],\n",
       "        [13211.23458512,  1136.12897233],\n",
       "        [ 6254.92362664,   770.35901266],\n",
       "        [ 6669.20327339,   839.36219836],\n",
       "        [ 5273.26328184,   718.91617672],\n",
       "        [ 5153.13596116,   678.01668106],\n",
       "        [12635.63547847,  1112.36578243],\n",
       "        [11142.26501393,  1137.59237057],\n",
       "        [ 3819.93503508,   713.76126809],\n",
       "        [10296.60677269,  1120.64142271],\n",
       "        [ 6379.61286118,   822.55628365],\n",
       "        [ 8876.323103  ,   940.41404892],\n",
       "        [ 6941.16752018,   729.71295771],\n",
       "        [ 5902.75051679,   789.61748937],\n",
       "        [ 3849.99615844,   656.38477591],\n",
       "        [ 5617.59764588,   803.75177506],\n",
       "        [ 5669.29203306,   845.28410688],\n",
       "        [ 7164.64269352,   856.15866592],\n",
       "        [ 4351.91387626,   619.25302291],\n",
       "        [10517.49235162,   996.18704548],\n",
       "        [ 5114.88113239,   771.38474686],\n",
       "        [ 6299.30485901,   751.90265741],\n",
       "        [ 4756.71970102,   682.08676713],\n",
       "        [ 6113.47766478,   777.43642363],\n",
       "        [ 4405.01956884,   698.79023139],\n",
       "        [ 5395.33224681,   730.31024671],\n",
       "        [ 7847.69650218,   880.26267718],\n",
       "        [ 7033.71055619,   798.7011519 ],\n",
       "        [ 4345.1607989 ,   692.90769262],\n",
       "        [ 4909.94883518,   680.0676186 ],\n",
       "        [ 4845.85142425,   702.33568059],\n",
       "        [ 5799.02392423,   768.81103412],\n",
       "        [ 3406.76161699,   650.53716251],\n",
       "        [ 6970.68680291,   784.02822175],\n",
       "        [ 6897.58421544,   802.37946007],\n",
       "        [ 9202.39215587,   960.68373419],\n",
       "        [ 4830.38502518,   718.2729712 ],\n",
       "        [10409.81487743,  1011.2416987 ],\n",
       "        [11239.14547065,  1066.06531777],\n",
       "        [ 7003.28014976,   836.92843137],\n",
       "        [ 9130.74618857,   963.40225872],\n",
       "        [11360.06795629,  1024.56361507],\n",
       "        [ 8317.13839612,   946.47214106],\n",
       "        [ 5603.25360386,   743.22890449],\n",
       "        [ 5840.29015363,   712.80929822],\n",
       "        [ 5068.81196379,   780.90785028],\n",
       "        [ 6753.32649687,   847.5680701 ],\n",
       "        [ 8875.83508708,  1003.20310934],\n",
       "        [ 3582.92390726,   621.89021047],\n",
       "        [ 6295.99402807,   774.4301757 ],\n",
       "        [ 5174.91243319,   760.32586374]])]"
      ]
     },
     "execution_count": 45,
     "metadata": {},
     "output_type": "execute_result"
    }
   ],
   "source": [
    "c3s"
   ]
  },
  {
   "cell_type": "code",
   "execution_count": 14,
   "metadata": {},
   "outputs": [],
   "source": [
    "c1=1289.68275\n",
    "c2=4.63\n",
    "c3=4761.86626672"
   ]
  },
  {
   "cell_type": "code",
   "execution_count": 19,
   "metadata": {},
   "outputs": [],
   "source": [
    "def Numcal(C,L,l0,w1,w2):\n",
    "    Num=np.zeros(L-l0+1)\n",
    "    epsilon = np.sqrt(2)*c2 * 2**(-L)/np.sqrt(w1)\n",
    "    Num[0] = np.ceil(4*c1 * epsilon**(-2)/w2)\n",
    "    for li in range(1,L-l0+1):\n",
    "        Num[li]=np.maximum(np.ceil(2*epsilon**(-2)*c3*(L-l0)*2**(-li))/w2,2)\n",
    "        \n",
    "    return(np.ceil(Num*C))\n"
   ]
  },
  {
   "cell_type": "code",
   "execution_count": 20,
   "metadata": {},
   "outputs": [
    {
     "name": "stdout",
     "output_type": "stream",
     "text": [
      "[78.]\n",
      "1.0\n",
      "[78.]\n",
      "1\n",
      "[312. 288.]\n",
      "1.0\n",
      "[312. 288.]\n",
      "1\n",
      "[1245. 2298. 1150.]\n",
      "0.5\n",
      "[ 623. 1149.  575.]\n",
      "2\n",
      "[ 4979. 13786.  6893.  3447.]\n",
      "0.058823529411764705\n",
      "[293. 811. 406. 203.]\n",
      "17\n",
      "[19913. 73525. 36763. 18382.  9191.]\n",
      "0.01098901098901099\n",
      "[219. 808. 404. 202. 101.]\n",
      "91\n"
     ]
    }
   ],
   "source": [
    "L=8\n",
    "l0=3\n",
    "w1=1/100.\n",
    "w2=99/100.\n",
    "for l in range(l0,L):\n",
    "    print(Numcal(1,l,l0,w1,w2))\n",
    "    maxi=np.max(Numcal(1,l,l0,w1,w2))\n",
    "    C=np.maximum(1,np.int(maxi/800))\n",
    "    print(1/C)\n",
    "    print(Numcal(1/C,l,l0,w1,w2))\n",
    "    print(C)"
   ]
  },
  {
   "cell_type": "code",
   "execution_count": 21,
   "metadata": {},
   "outputs": [],
   "source": [
    "def simulate_mse(seed_val,c1,c2,c3,L,l0,lz,z,collection_input,T,w1,w2):\n",
    "    \n",
    "    epsilon = np.sqrt(2)*c2*2**(-L-2)/np.sqrt(w1)\n",
    "    print(\"epsilon=\",epsilon)\n",
    "    N=np.int(2*c1/(epsilon**2*w2))\n",
    "    print(\"N=\",N)\n",
    "    lmax=lz\n",
    "    N=np.maximum(N,800)\n",
    "    Rep=np.int(N/800)\n",
    "    if Rep>1:\n",
    "        N=800\n",
    "    print(\"Rep=\",Rep)\n",
    "    Rep=0\n",
    "    dim=collection_input[0]\n",
    "    tv_rep = np.zeros((Rep,dim))\n",
    "    with progressbar.ProgressBar(max_value=Rep) as bar:\n",
    "        for rep in range(Rep):\n",
    "            tv_rep[rep] = EnKBF(T,L+2,lmax,z,N,collection_input)[0][-1,:,0]\n",
    "            bar.update(rep)   \n",
    "    tv_approx = np.mean(tv_rep,axis=0)\n",
    "    mse_ml=np.zeros((L-l0+1,dim))\n",
    "    levels=np.array(range(l0,L+1))\n",
    "    mean_ml=np.zeros((L-l0+1,dim))\n",
    "    #delt_level=np.zeros(10)\n",
    "    #C=3.\n",
    "    Rep=100\n",
    "    costs=np.zeros(L-l0+1)\n",
    "    for l in range(l0,L+1):\n",
    "        #next we determine the value C so the maximum number of particles of all levels is 800\n",
    "        maxi=np.max(Numcal(1,l,l0,w1,w2))\n",
    "        C=1/np.maximum(1,np.int(maxi/800))\n",
    "        est_ml=np.zeros((Rep,dim))\n",
    "        #est_en=np.zeros(Rep)\n",
    "        print(\"Current level is\",l,\".\",L-l, \"remaining.\")\n",
    "        with progressbar.ProgressBar(max_value=Rep) as bar:\n",
    "            ML_real=np.zeros((Rep,dim))\n",
    "            print(Numcal(C,l,l0,w1,w2))\n",
    "            for rep in range(Rep):\n",
    "                with np.errstate(divide='ignore'):\n",
    "                    #mean_en = DEnKBF(T,l,lmax,z,N,collection_input)[0][-1,:]\n",
    "                    #print(T,l)\n",
    "                    Cinv=np.int(1/C)\n",
    "                    Creps=np.zeros((Cinv,dim))\n",
    "                    for crep in range(Cinv):\n",
    "                        Creps[crep]=MLEnKBF(C,T,l,lmax,l0,z,collection_input,w1,w2)\n",
    "                    \n",
    "                    \n",
    "                    ML_real[rep] = np.mean(Creps,axis=0)\n",
    "                    \n",
    "                    est_ml[rep] = (ML_real[rep] - tv_approx)**2\n",
    "                    #est_en[rep] = np.sum((mean_en - tv_approx)**2)\n",
    "                    bar.update(rep)\n",
    "            mean_ml[l-l0]=np.mean(ML_real,axis=0)       \n",
    "            mse_ml[l-l0]=np.mean(est_ml,axis=0)\n",
    "            costs[l-l0]=Cinv*cost_mlenkbf(C,T,l,l0)\n",
    "            \n",
    "        #print(mse_ml[l-l0])\n",
    "    \n",
    "    return [mse_ml,levels,costs,mean_ml,tv_approx]"
   ]
  },
  {
   "cell_type": "code",
   "execution_count": 29,
   "metadata": {},
   "outputs": [],
   "source": [
    "def MLEnKBF(C,T,L,lmax,l0,z,collection_input,w1,w2):\n",
    "    Num=Numcal(C,L,l0,w1,w2)\n",
    "    telescopic_summand=np.zeros((L-l0+1,dim))\n",
    "    [m,c]=EnKBF(T,l0,lmax,z,int(Num[0]),collection_input)\n",
    "    telescopic_summand[0]=m[-1,:,0]\n",
    "    for l in range(l0+1,L+1):\n",
    "        [m1,m2]=CEnKBF(T,l,lmax,z,int(Num[l-l0]),collection_input)\n",
    "        telescopic_summand[l-l0]=m1[-1,:,0]-m2[-1,:,0]\n",
    "    est=np.sum(telescopic_summand,axis=0)\n",
    "    return(est)"
   ]
  },
  {
   "cell_type": "code",
   "execution_count": 31,
   "metadata": {},
   "outputs": [],
   "source": [
    "L=6\n",
    "l0=3\n",
    "MLEnKBF(C,T,L,lz,l0,z,collection_input,w1,w2)"
   ]
  },
  {
   "cell_type": "code",
   "execution_count": null,
   "metadata": {
    "scrolled": true
   },
   "outputs": [
    {
     "name": "stderr",
     "output_type": "stream",
     "text": [
      "- |#                                                  | 0 Elapsed Time: 0:00:00\n"
     ]
    },
    {
     "name": "stdout",
     "output_type": "stream",
     "text": [
      "epsilon= 0.12788689050366073\n",
      "N= 159303\n",
      "Rep= 199\n",
      "Current level is 3 . 4 remaining.\n",
      "[78.]\n"
     ]
    },
    {
     "name": "stderr",
     "output_type": "stream",
     "text": [
      "100% (100 of 100) |######################| Elapsed Time: 0:03:14 Time:  0:03:14\n"
     ]
    },
    {
     "name": "stdout",
     "output_type": "stream",
     "text": [
      "Current level is 4 . 3 remaining.\n",
      "[312. 288.]\n"
     ]
    },
    {
     "name": "stderr",
     "output_type": "stream",
     "text": [
      "100% (100 of 100) |######################| Elapsed Time: 0:21:07 Time:  0:21:07\n"
     ]
    },
    {
     "name": "stdout",
     "output_type": "stream",
     "text": [
      "Current level is 5 . 2 remaining.\n",
      "[ 623. 1149.  575.]\n"
     ]
    },
    {
     "name": "stderr",
     "output_type": "stream",
     "text": [
      " 43% (43 of 100) |#########              | Elapsed Time: 1:12:17 ETA:   1:24:16"
     ]
    }
   ],
   "source": [
    "L=7\n",
    "l0=3\n",
    "seed_val=1\n",
    "\n",
    "[MSE,levels,cost,mean_ml,tv_approx]=simulate_mse(seed_val,c1,c2,c3,L,l0,lz,z,collection_input,T,w1,w2)"
   ]
  },
  {
   "cell_type": "code",
   "execution_count": null,
   "metadata": {},
   "outputs": [],
   "source": []
  },
  {
   "cell_type": "code",
   "execution_count": 196,
   "metadata": {},
   "outputs": [],
   "source": [
    "##############################################################################################"
   ]
  },
  {
   "cell_type": "markdown",
   "metadata": {},
   "source": [
    "### Parameter search, T=80, dim=10"
   ]
  },
  {
   "cell_type": "code",
   "execution_count": 11,
   "metadata": {},
   "outputs": [],
   "source": [
    "T=80\n",
    "dim=10\n",
    "seed_val_col=5\n",
    "seed_val_obs=5\n",
    "amm=2.\n",
    "bmm=2.\n",
    "cmm=50.\n",
    "b=6\n",
    "lz=11\n",
    "l=4\n",
    "N=50\n",
    "tau=1/2**(l)\n",
    "J=T*(2**l)\n",
    "seed_val=2\n",
    "B=3\n",
    "np.random.seed(seed_val_obs)\n",
    "collection_input=gen_model(dim)\n",
    "[z,v] = gen_data(T,lz,collection_input)\n",
    "#[m,c] = KBF(T,l,lmax,z,collection_input)\n",
    "ems=np.zeros((B,J+1,dim,1))\n",
    "np.random.seed(seed_val_col)\n",
    "## The with numpy.errstate argument is used to avoid any stupid warning\n",
    "#EnKBF(T,l,lz,z,N,collection_input)"
   ]
  },
  {
   "cell_type": "code",
   "execution_count": 12,
   "metadata": {},
   "outputs": [
    {
     "data": {
      "text/plain": [
       "array([[-9.77010152],\n",
       "       [-6.65883072],\n",
       "       [ 9.83229661],\n",
       "       [ 4.30598169],\n",
       "       [14.38104924],\n",
       "       [-5.98937606],\n",
       "       [-7.71949616],\n",
       "       [-0.45596432],\n",
       "       [-2.77305867],\n",
       "       [-3.45067053]])"
      ]
     },
     "execution_count": 12,
     "metadata": {},
     "output_type": "execute_result"
    },
    {
     "data": {
      "image/png": "[encoded data removed]",
      "text/plain": [
       "<Figure size 432x288 with 1 Axes>"
      ]
     },
     "metadata": {
      "needs_background": "light"
     },
     "output_type": "display_data"
    }
   ],
   "source": [
    "with np.errstate(divide='ignore'):\n",
    "    \n",
    "    for i in range(B):\n",
    "        ems[i] = EnKBF(T,l,lz,z,N,collection_input)[0]\n",
    "        \n",
    "        #[m2,c2] = DEnKBF(T,l,lmax,z,N,collection_input)\n",
    "v1=cut(T,lz,l,v)\n",
    "J=T*(2**l)\n",
    "x1 = tau*np.arange(J+1)\n",
    "#print(m1[:,2].T[0])\n",
    "#plt.plot(x1,m[:,0],label=\"KBF posterior mean estimate\")\n",
    "plt.plot(x1,v1[:,0],label=\"true value\")\n",
    "for i in range(B):\n",
    "    plt.plot(x1,ems[i,:,0,0])\n",
    "#plt.plot(x1,m2[:,0],label=\"DEnKBF posterior mean estimate\")\n",
    "plt.xlabel('time')\n",
    "plt.ylabel('value')\n",
    "plt.title('Kalman-Bucy Filter')\n",
    "plt.legend()\n",
    "plt.grid()\n",
    "EnKBF(T,l,lz,z,N,collection_input)[0][-1]"
   ]
  },
  {
   "cell_type": "code",
   "execution_count": 13,
   "metadata": {},
   "outputs": [],
   "source": [
    "l=4\n",
    "seed_val=1\n",
    "p=6\n",
    "N0=50\n",
    "Rep=100"
   ]
  },
  {
   "cell_type": "code",
   "execution_count": 14,
   "metadata": {},
   "outputs": [
    {
     "name": "stderr",
     "output_type": "stream",
     "text": [
      "100% (100 of 100) |######################| Elapsed Time: 0:01:04 Time:  0:01:04\n",
      "100% (100 of 100) |######################| Elapsed Time: 0:01:39 Time:  0:01:39\n",
      "100% (100 of 100) |######################| Elapsed Time: 0:01:54 Time:  0:01:54\n",
      "100% (100 of 100) |######################| Elapsed Time: 0:02:36 Time:  0:02:36\n",
      "100% (100 of 100) |######################| Elapsed Time: 0:04:54 Time:  0:04:54\n",
      "100% (100 of 100) |######################| Elapsed Time: 0:19:25 Time:  0:19:25\n",
      "100% (100 of 100) |######################| Elapsed Time: 0:45:42 Time:  0:45:42\n"
     ]
    },
    {
     "data": {
      "image/png": "[encoded data removed]",
      "text/plain": [
       "<Figure size 432x288 with 1 Axes>"
      ]
     },
     "metadata": {
      "needs_background": "light"
     },
     "output_type": "display_data"
    }
   ],
   "source": [
    "c1s=fit_c1(T,l,lz,z,collection_input,seed_val,p,N0,Rep)"
   ]
  },
  {
   "cell_type": "code",
   "execution_count": 15,
   "metadata": {},
   "outputs": [
    {
     "data": {
      "text/plain": [
       "array([[3.19317340e+02, 1.09713083e-01],\n",
       "       [4.33329422e+02, 1.25001994e-01],\n",
       "       [3.97748793e+02, 1.21313998e-01],\n",
       "       [2.19054545e+02, 1.22523081e-01],\n",
       "       [4.56642875e+02, 1.16577088e-01],\n",
       "       [3.14536380e+02, 1.32452681e-01],\n",
       "       [1.54381622e+02, 1.56840141e-01],\n",
       "       [4.33259784e+02, 1.18759423e-01],\n",
       "       [2.54926584e+02, 1.20446618e-01],\n",
       "       [9.27407785e+02, 1.04818441e-01]])"
      ]
     },
     "execution_count": 15,
     "metadata": {},
     "output_type": "execute_result"
    }
   ],
   "source": [
    "c1s"
   ]
  },
  {
   "cell_type": "code",
   "execution_count": 16,
   "metadata": {},
   "outputs": [],
   "source": [
    "N=100\n",
    "l0=4\n",
    "L=9"
   ]
  },
  {
   "cell_type": "code",
   "execution_count": 17,
   "metadata": {
    "scrolled": false
   },
   "outputs": [
    {
     "name": "stdout",
     "output_type": "stream",
     "text": [
      "Current level  5 .  4 remaining.\n"
     ]
    },
    {
     "name": "stderr",
     "output_type": "stream",
     "text": [
      "100% (100 of 100) |######################| Elapsed Time: 0:01:58 Time:  0:01:58\n"
     ]
    },
    {
     "name": "stdout",
     "output_type": "stream",
     "text": [
      "Current level  6 .  3 remaining.\n"
     ]
    },
    {
     "name": "stderr",
     "output_type": "stream",
     "text": [
      "100% (100 of 100) |######################| Elapsed Time: 0:04:00 Time:  0:04:00\n"
     ]
    },
    {
     "name": "stdout",
     "output_type": "stream",
     "text": [
      "Current level  7 .  2 remaining.\n"
     ]
    },
    {
     "name": "stderr",
     "output_type": "stream",
     "text": [
      "100% (100 of 100) |######################| Elapsed Time: 0:08:03 Time:  0:08:03\n"
     ]
    },
    {
     "name": "stdout",
     "output_type": "stream",
     "text": [
      "Current level  8 .  1 remaining.\n"
     ]
    },
    {
     "name": "stderr",
     "output_type": "stream",
     "text": [
      "100% (100 of 100) |######################| Elapsed Time: 0:16:10 Time:  0:16:10\n"
     ]
    },
    {
     "name": "stdout",
     "output_type": "stream",
     "text": [
      "Current level  9 .  0 remaining.\n"
     ]
    },
    {
     "name": "stderr",
     "output_type": "stream",
     "text": [
      "100% (100 of 100) |######################| Elapsed Time: 0:33:03 Time:  0:33:03\n"
     ]
    },
    {
     "data": {
      "image/png": "[encoded data removed]",
      "text/plain": [
       "<Figure size 432x288 with 1 Axes>"
      ]
     },
     "metadata": {
      "needs_background": "light"
     },
     "output_type": "display_data"
    }
   ],
   "source": [
    "c3s=fit_c3(T,lz,z,N,collection_input,seed_val,l0,L,Rep)"
   ]
  },
  {
   "cell_type": "code",
   "execution_count": 18,
   "metadata": {},
   "outputs": [
    {
     "data": {
      "text/plain": [
       "[array([[1.41136305, 1.21582561],\n",
       "        [1.50651377, 1.11893772],\n",
       "        [1.43286253, 1.12235959],\n",
       "        [1.25267623, 1.14709438],\n",
       "        [1.64278497, 1.19799459],\n",
       "        [1.42684535, 1.13391023],\n",
       "        [1.4251854 , 1.16347567],\n",
       "        [1.81928385, 1.28067922],\n",
       "        [1.45069111, 1.19939376],\n",
       "        [1.83915482, 1.22294833]]),\n",
       " array([[2578.47575123, 1643.71157933],\n",
       "        [3210.06458732, 1315.03623227],\n",
       "        [2709.33387099, 1325.4385411 ],\n",
       "        [1789.27142357, 1403.11860627],\n",
       "        [4393.24044322, 1577.59160048],\n",
       "        [2672.05470625, 1361.16330345],\n",
       "        [2661.86115775, 1457.05408285],\n",
       "        [6596.04867631, 1908.44311259],\n",
       "        [2822.87148271, 1582.6823472 ],\n",
       "        [6904.85908496, 1670.89181628]])]"
      ]
     },
     "execution_count": 18,
     "metadata": {},
     "output_type": "execute_result"
    }
   ],
   "source": [
    "c3s"
   ]
  },
  {
   "cell_type": "code",
   "execution_count": null,
   "metadata": {},
   "outputs": [],
   "source": [
    "def simulate_mse(seed_val):\n",
    "    \n",
    "    lmax = Lmax\n",
    "    #dim = 5\n",
    "    #T=10\n",
    "    np.random.seed(seed_val_col)\n",
    "    collection_input = gen_model(dim)\n",
    "    np.random.seed(seed_val_obs)\n",
    "    z = gen_data(T,lmax,collection_input)[0]\n",
    "    N=500\n",
    "    Rep=100\n",
    "    \n",
    "    tv_rep = np.zeros((Rep,dim))\n",
    "    with progressbar.ProgressBar(max_value=Rep) as bar:\n",
    "        for rep in range(Rep):\n",
    "            tv_rep[rep] = EnKBF(T,lmax,lmax,z,N,collection_input)[0][-1,:,0]\n",
    "            bar.update(rep)\n",
    "            \n",
    "            \n",
    "    tv_approx = np.mean(tv_rep,axis=0)\n",
    "    mse_ml=np.zeros((L-l0+1,dim))\n",
    "    levels=np.array(range(l0,L+1))\n",
    "    mean_ml=np.zeros((L-l0+1,dim))\n",
    "    delt_level=np.zeros(10)\n",
    "    C=3.\n",
    "    Rep=100\n",
    "    costs=np.zeros(L-l0+1)\n",
    "    for l in range(l0,L+1):\n",
    "        est_ml=np.zeros((Rep,dim))\n",
    "        #est_en=np.zeros(Rep)\n",
    "        print(\"Current level is\",l,\".\",L-l, \"remaining.\")\n",
    "        with progressbar.ProgressBar(max_value=Rep) as bar:\n",
    "            ML_real=np.zeros((Rep,dim))\n",
    "            for rep in range(Rep):\n",
    "                with np.errstate(divide='ignore'):\n",
    "                    #mean_en = DEnKBF(T,l,lmax,z,N,collection_input)[0][-1,:]\n",
    "                    #print(T,l)\n",
    "                    ML_real[rep] = MLEnKBF(C,T,l,lmax,l0,z,collection_input)\n",
    "                    seed_j=0\n",
    "                    while  math.isnan(ML_real[rep,0]):\n",
    "                        np.random.seed(seed_j)\n",
    "                        ML_real[rep] =MLEnKBF(C,T,l,lmax,l0,z,collection_input)\n",
    "                        #print(ML_real[rep])\n",
    "                        seed_j+=1\n",
    "                    est_ml[rep] = (ML_real[rep] - tv_approx)**2\n",
    "                    #est_en[rep] = np.sum((mean_en - tv_approx)**2)\n",
    "                    bar.update(rep)\n",
    "            mean_ml[l-l0]=np.mean(ML_real,axis=0)       \n",
    "            mse_ml[l-l0]=np.mean(est_ml,axis=0)\n",
    "            costs[l-l0]=cost_mlenkbf(C,T,l,l0)\n",
    "            \n",
    "        #print(mse_ml[l-l0])\n",
    "    \n",
    "    return [mse_ml,levels,costs,mean_ml,tv_approx]"
   ]
  },
  {
   "cell_type": "code",
   "execution_count": null,
   "metadata": {},
   "outputs": [],
   "source": [
    "def Numcal(C,L,l0):\n",
    "    Num=np.zeros(L-l0+1)\n",
    "    epsilon = np.sqrt(2)*c2 * 2**(-L)\n",
    "    Num[0] = np.ceil(2*c1 * epsilon**(-2))\n",
    "    for li in range(1,L-l0+1):\n",
    "        Num[li]=np.maximum(np.ceil(2*epsilon**(-2)*c3*(L-l0)*2**(-li)),2)\n",
    "        \n",
    "    return(np.ceil(Num*C))"
   ]
  },
  {
   "cell_type": "code",
   "execution_count": null,
   "metadata": {},
   "outputs": [],
   "source": [
    "def MLEnKBF(C,T,L,lmax,l0,z,collection_input):\n",
    "    Num=Numcal(C,L,l0)\n",
    "    telescopic_summand=np.zeros((L-l0+1,dim))\n",
    "    [m,c]=EnKBF(T,l0,lmax,z,int(Num[0]),collection_input)\n",
    "    telescopic_summand[0]=m[-1,:,0]\n",
    "    for l in range(l0+1,L+1):\n",
    "        [m1,m2]=CEnKBF(T,l,lmax,z,int(Num[l-l0]),collection_input)\n",
    "        telescopic_summand[l-l0]=m1[-1,:,0]-m2[-1,:,0]\n",
    "    est=np.sum(telescopic_summand,axis=0)\n",
    "    return(est)"
   ]
  },
  {
   "cell_type": "code",
   "execution_count": 149,
   "metadata": {},
   "outputs": [
    {
     "name": "stdout",
     "output_type": "stream",
     "text": [
      "[-2.43830611  0.86486738]\n"
     ]
    }
   ],
   "source": [
    "C=3\n",
    "l0=0\n",
    "N=100\n",
    "lmax=6\n",
    "np.random.seed(seed_val_col)\n",
    "collection_input = gen_model(dim)\n",
    "np.random.seed(seed_val_obs)\n",
    "z = gen_data(T,Lmax,collection_input)[0]\n",
    "print(MLEnKBF(C,T,6,Lmax,l0,z,collection_input))\n",
    "#print(EnKBF(T,lmax,Lmax,z,N,collection_input)[0][-1])"
   ]
  },
  {
   "cell_type": "code",
   "execution_count": 150,
   "metadata": {
    "scrolled": true
   },
   "outputs": [
    {
     "name": "stderr",
     "output_type": "stream",
     "text": [
      "100% (100 of 100) |######################| Elapsed Time: 2:17:47 Time:  2:17:47\n",
      "  6% (6 of 100) |#                       | Elapsed Time: 0:00:00 ETA:   0:00:02"
     ]
    },
    {
     "name": "stdout",
     "output_type": "stream",
     "text": [
      "Current level is 0 . 6 remaining.\n"
     ]
    },
    {
     "name": "stderr",
     "output_type": "stream",
     "text": [
      "100% (100 of 100) |######################| Elapsed Time: 0:00:02 Time:  0:00:02\n",
      "  0% (0 of 100) |                        | Elapsed Time: 0:00:00 ETA:  --:--:--"
     ]
    },
    {
     "name": "stdout",
     "output_type": "stream",
     "text": [
      "Current level is 1 . 5 remaining.\n"
     ]
    },
    {
     "name": "stderr",
     "output_type": "stream",
     "text": [
      "100% (100 of 100) |######################| Elapsed Time: 0:00:07 Time:  0:00:07\n",
      "  0% (0 of 100) |                        | Elapsed Time: 0:00:00 ETA:  --:--:--"
     ]
    },
    {
     "name": "stdout",
     "output_type": "stream",
     "text": [
      "Current level is 2 . 4 remaining.\n"
     ]
    },
    {
     "name": "stderr",
     "output_type": "stream",
     "text": [
      "100% (100 of 100) |######################| Elapsed Time: 0:00:14 Time:  0:00:14\n"
     ]
    },
    {
     "name": "stdout",
     "output_type": "stream",
     "text": [
      "Current level is 3 . 3 remaining.\n"
     ]
    },
    {
     "name": "stderr",
     "output_type": "stream",
     "text": [
      "100% (100 of 100) |######################| Elapsed Time: 0:00:35 Time:  0:00:35\n"
     ]
    },
    {
     "name": "stdout",
     "output_type": "stream",
     "text": [
      "Current level is 4 . 2 remaining.\n"
     ]
    },
    {
     "name": "stderr",
     "output_type": "stream",
     "text": [
      "100% (100 of 100) |######################| Elapsed Time: 0:01:53 Time:  0:01:53\n"
     ]
    },
    {
     "name": "stdout",
     "output_type": "stream",
     "text": [
      "Current level is 5 . 1 remaining.\n"
     ]
    },
    {
     "name": "stderr",
     "output_type": "stream",
     "text": [
      "100% (100 of 100) |######################| Elapsed Time: 0:16:03 Time:  0:16:03\n"
     ]
    },
    {
     "name": "stdout",
     "output_type": "stream",
     "text": [
      "Current level is 6 . 0 remaining.\n"
     ]
    },
    {
     "name": "stderr",
     "output_type": "stream",
     "text": [
      "100% (100 of 100) |######################| Elapsed Time: 4:19:13 Time:  4:19:13\n"
     ]
    }
   ],
   "source": [
    "L=6\n",
    "[MSE,levels,cost,mean_ml,tv_approx]=simulate_mse(seed_val)"
   ]
  },
  {
   "cell_type": "code",
   "execution_count": 11,
   "metadata": {},
   "outputs": [],
   "source": [
    "def fit_c1(seed_val,dim):\n",
    "    np.random.seed(seed_val_col)\n",
    "    l=3\n",
    "    collection_input = gen_model(dim)\n",
    "    np.random.seed(seed_val_obs)\n",
    "    z = gen_data(T,Lmax,collection_input)[0]\n",
    "    num_seq = np.zeros(6)\n",
    "    for i in range(6):\n",
    "        num_seq[i] = 50*2**i\n",
    "    np.random.seed(seed_val)\n",
    "    Rep=500\n",
    "    evar=np.zeros(6)\n",
    "    for numi in range(6):\n",
    "        est=np.zeros(Rep)\n",
    "        #print(\"numi=\",numi)\n",
    "        for rep in range(Rep):\n",
    "            with np.errstate(divide='ignore'):\n",
    "                mean_mat =EnKBF(T,l,Lmax,z,int(num_seq[numi]),collection_input)[0]\n",
    "                est[rep] = np.mean(mean_mat[-1,:])\n",
    "                #print(est[rep])\n",
    "        evar[numi] = np.var(est)\n",
    "    \n",
    "    x = np.log10(num_seq)\n",
    "    #x=np.array([i for i in range(6)])\n",
    "    y = np.log10(evar)\n",
    "    b = coef(x,y)\n",
    "    plt.plot(x,y)\n",
    "    plt.plot(x,b[0]+b[1]*x)\n",
    "    \n",
    "    return 10**(b)"
   ]
  },
  {
   "cell_type": "code",
   "execution_count": 17,
   "metadata": {},
   "outputs": [],
   "source": [
    "T=80\n",
    "dim=2\n",
    "Lmax=11\n",
    "seed_val_col=5\n",
    "seed_val_obs=5\n",
    "amm=10.\n",
    "bmm=20.\n",
    "cmm=10."
   ]
  },
  {
   "cell_type": "code",
   "execution_count": 18,
   "metadata": {},
   "outputs": [
    {
     "data": {
      "image/png": "[encoded data removed]",
      "text/plain": [
       "<Figure size 432x288 with 1 Axes>"
      ]
     },
     "metadata": {
      "needs_background": "light"
     },
     "output_type": "display_data"
    }
   ],
   "source": [
    "c1=fit_c1(42,dim)"
   ]
  },
  {
   "cell_type": "code",
   "execution_count": 143,
   "metadata": {},
   "outputs": [
    {
     "data": {
      "text/plain": [
       "array([0.90098574, 0.09511648])"
      ]
     },
     "execution_count": 143,
     "metadata": {},
     "output_type": "execute_result"
    }
   ],
   "source": [
    "#2\n",
    "c1"
   ]
  },
  {
   "cell_type": "code",
   "execution_count": 13,
   "metadata": {},
   "outputs": [],
   "source": [
    "def fit_c3(seed_val,dim):\n",
    "    np.random.seed(seed_val_col)\n",
    "    #dim = 10\n",
    "    #lmax=9\n",
    "    N = 100\n",
    "    collection_input = gen_model(dim)\n",
    "    np.random.seed(seed_val_obs)\n",
    "    z = gen_data(T,Lmax,collection_input)[0]\n",
    "    delta_seq = np.zeros(10)\n",
    "    for l in range(10):\n",
    "        delta_seq[l] = 2**(-l)\n",
    "    Rep=100\n",
    "    evar=np.zeros(10)\n",
    "    np.random.seed(seed_val)\n",
    "    for l in range(1,7):\n",
    "        print(\"Current level \",l,\". \",6-l,\"remaining.\" )\n",
    "        est = np.zeros(Rep)\n",
    "        with progressbar.ProgressBar(max_value=Rep) as bar:\n",
    "            for rep in range(Rep):\n",
    "                with np.errstate(divide='ignore'):\n",
    "                    [m,m1]=CEnKBF(T,l,Lmax,z,N,collection_input)\n",
    "                    est[rep] = np.mean(m[-1,:]) - np.mean(m1[-1,:])\n",
    "                    bar.update(rep)\n",
    "        evar[l] = np.var(est)\n",
    "        \n",
    "    #x = np.log10(delta_seq[4:8])\n",
    "    x=np.array(range(10))[1:7]\n",
    "    y = np.log10(evar[1:7])\n",
    "    b=coef(x,y)\n",
    "    plt.plot(x,y)\n",
    "    return N*10**(b)"
   ]
  },
  {
   "cell_type": "code",
   "execution_count": 14,
   "metadata": {},
   "outputs": [
    {
     "name": "stderr",
     "output_type": "stream",
     "text": [
      "\r",
      "  0% (0 of 100) |                        | Elapsed Time: 0:00:00 ETA:  --:--:--"
     ]
    },
    {
     "name": "stdout",
     "output_type": "stream",
     "text": [
      "Current level  1 .  5 remaining.\n"
     ]
    },
    {
     "name": "stderr",
     "output_type": "stream",
     "text": [
      "100% (100 of 100) |######################| Elapsed Time: 0:00:06 Time:  0:00:06\n",
      "  0% (0 of 100) |                        | Elapsed Time: 0:00:00 ETA:  --:--:--"
     ]
    },
    {
     "name": "stdout",
     "output_type": "stream",
     "text": [
      "Current level  2 .  4 remaining.\n"
     ]
    },
    {
     "name": "stderr",
     "output_type": "stream",
     "text": [
      "100% (100 of 100) |######################| Elapsed Time: 0:00:14 Time:  0:00:14\n"
     ]
    },
    {
     "name": "stdout",
     "output_type": "stream",
     "text": [
      "Current level  3 .  3 remaining.\n"
     ]
    },
    {
     "name": "stderr",
     "output_type": "stream",
     "text": [
      "100% (100 of 100) |######################| Elapsed Time: 0:00:28 Time:  0:00:28\n"
     ]
    },
    {
     "name": "stdout",
     "output_type": "stream",
     "text": [
      "Current level  4 .  2 remaining.\n"
     ]
    },
    {
     "name": "stderr",
     "output_type": "stream",
     "text": [
      "100% (100 of 100) |######################| Elapsed Time: 0:00:53 Time:  0:00:53\n"
     ]
    },
    {
     "name": "stdout",
     "output_type": "stream",
     "text": [
      "Current level  5 .  1 remaining.\n"
     ]
    },
    {
     "name": "stderr",
     "output_type": "stream",
     "text": [
      "  5% (5 of 100) |#                       | Elapsed Time: 0:00:05 ETA:   0:01:51\n"
     ]
    },
    {
     "ename": "KeyboardInterrupt",
     "evalue": "",
     "output_type": "error",
     "traceback": [
      "\u001b[0;31m---------------------------------------------------------------------------\u001b[0m",
      "\u001b[0;31mKeyboardInterrupt\u001b[0m                         Traceback (most recent call last)",
      "\u001b[0;32m<ipython-input-14-f972b21d355c>\u001b[0m in \u001b[0;36m<module>\u001b[0;34m\u001b[0m\n\u001b[0;32m----> 1\u001b[0;31m \u001b[0mc3\u001b[0m\u001b[0;34m=\u001b[0m\u001b[0mfit_c3\u001b[0m\u001b[0;34m(\u001b[0m\u001b[0;36m1\u001b[0m\u001b[0;34m,\u001b[0m\u001b[0mdim\u001b[0m\u001b[0;34m)\u001b[0m\u001b[0;34m\u001b[0m\u001b[0;34m\u001b[0m\u001b[0m\n\u001b[0m",
      "\u001b[0;32m<ipython-input-13-8e411ec29630>\u001b[0m in \u001b[0;36mfit_c3\u001b[0;34m(seed_val, dim)\u001b[0m\n\u001b[1;32m     19\u001b[0m             \u001b[0;32mfor\u001b[0m \u001b[0mrep\u001b[0m \u001b[0;32min\u001b[0m \u001b[0mrange\u001b[0m\u001b[0;34m(\u001b[0m\u001b[0mRep\u001b[0m\u001b[0;34m)\u001b[0m\u001b[0;34m:\u001b[0m\u001b[0;34m\u001b[0m\u001b[0;34m\u001b[0m\u001b[0m\n\u001b[1;32m     20\u001b[0m                 \u001b[0;32mwith\u001b[0m \u001b[0mnp\u001b[0m\u001b[0;34m.\u001b[0m\u001b[0merrstate\u001b[0m\u001b[0;34m(\u001b[0m\u001b[0mdivide\u001b[0m\u001b[0;34m=\u001b[0m\u001b[0;34m'ignore'\u001b[0m\u001b[0;34m)\u001b[0m\u001b[0;34m:\u001b[0m\u001b[0;34m\u001b[0m\u001b[0;34m\u001b[0m\u001b[0m\n\u001b[0;32m---> 21\u001b[0;31m                     \u001b[0;34m[\u001b[0m\u001b[0mm\u001b[0m\u001b[0;34m,\u001b[0m\u001b[0mm1\u001b[0m\u001b[0;34m]\u001b[0m\u001b[0;34m=\u001b[0m\u001b[0mCEnKBF\u001b[0m\u001b[0;34m(\u001b[0m\u001b[0mT\u001b[0m\u001b[0;34m,\u001b[0m\u001b[0ml\u001b[0m\u001b[0;34m,\u001b[0m\u001b[0mLmax\u001b[0m\u001b[0;34m,\u001b[0m\u001b[0mz\u001b[0m\u001b[0;34m,\u001b[0m\u001b[0mN\u001b[0m\u001b[0;34m,\u001b[0m\u001b[0mcollection_input\u001b[0m\u001b[0;34m)\u001b[0m\u001b[0;34m\u001b[0m\u001b[0;34m\u001b[0m\u001b[0m\n\u001b[0m\u001b[1;32m     22\u001b[0m                     \u001b[0mest\u001b[0m\u001b[0;34m[\u001b[0m\u001b[0mrep\u001b[0m\u001b[0;34m]\u001b[0m \u001b[0;34m=\u001b[0m \u001b[0mnp\u001b[0m\u001b[0;34m.\u001b[0m\u001b[0mmean\u001b[0m\u001b[0;34m(\u001b[0m\u001b[0mm\u001b[0m\u001b[0;34m[\u001b[0m\u001b[0;34m-\u001b[0m\u001b[0;36m1\u001b[0m\u001b[0;34m,\u001b[0m\u001b[0;34m:\u001b[0m\u001b[0;34m]\u001b[0m\u001b[0;34m)\u001b[0m \u001b[0;34m-\u001b[0m \u001b[0mnp\u001b[0m\u001b[0;34m.\u001b[0m\u001b[0mmean\u001b[0m\u001b[0;34m(\u001b[0m\u001b[0mm1\u001b[0m\u001b[0;34m[\u001b[0m\u001b[0;34m-\u001b[0m\u001b[0;36m1\u001b[0m\u001b[0;34m,\u001b[0m\u001b[0;34m:\u001b[0m\u001b[0;34m]\u001b[0m\u001b[0;34m)\u001b[0m\u001b[0;34m\u001b[0m\u001b[0;34m\u001b[0m\u001b[0m\n\u001b[1;32m     23\u001b[0m                     \u001b[0mbar\u001b[0m\u001b[0;34m.\u001b[0m\u001b[0mupdate\u001b[0m\u001b[0;34m(\u001b[0m\u001b[0mrep\u001b[0m\u001b[0;34m)\u001b[0m\u001b[0;34m\u001b[0m\u001b[0;34m\u001b[0m\u001b[0m\n",
      "\u001b[0;32m<ipython-input-1-785a11eb7259>\u001b[0m in \u001b[0;36mCEnKBF\u001b[0;34m(T, l, lmax, z, N, collection_input)\u001b[0m\n\u001b[1;32m    163\u001b[0m     \u001b[0;32mfor\u001b[0m \u001b[0mj\u001b[0m \u001b[0;32min\u001b[0m \u001b[0mrange\u001b[0m\u001b[0;34m(\u001b[0m\u001b[0mJ\u001b[0m\u001b[0;34m)\u001b[0m\u001b[0;34m:\u001b[0m\u001b[0;34m\u001b[0m\u001b[0;34m\u001b[0m\u001b[0m\n\u001b[1;32m    164\u001b[0m         \u001b[0;32mfor\u001b[0m \u001b[0ms\u001b[0m \u001b[0;32min\u001b[0m \u001b[0mrange\u001b[0m\u001b[0;34m(\u001b[0m\u001b[0;36m2\u001b[0m\u001b[0;34m)\u001b[0m\u001b[0;34m:\u001b[0m\u001b[0;34m\u001b[0m\u001b[0;34m\u001b[0m\u001b[0m\n\u001b[0;32m--> 165\u001b[0;31m             \u001b[0mdw\u001b[0m\u001b[0;34m[\u001b[0m\u001b[0ms\u001b[0m\u001b[0;34m]\u001b[0m \u001b[0;34m=\u001b[0m \u001b[0mnp\u001b[0m\u001b[0;34m.\u001b[0m\u001b[0mrandom\u001b[0m\u001b[0;34m.\u001b[0m\u001b[0mmultivariate_normal\u001b[0m\u001b[0;34m(\u001b[0m\u001b[0mnp\u001b[0m\u001b[0;34m.\u001b[0m\u001b[0mzeros\u001b[0m\u001b[0;34m(\u001b[0m\u001b[0mdim\u001b[0m\u001b[0;34m)\u001b[0m\u001b[0;34m,\u001b[0m\u001b[0mdt\u001b[0m\u001b[0;34m*\u001b[0m\u001b[0mI\u001b[0m\u001b[0;34m,\u001b[0m\u001b[0mN\u001b[0m\u001b[0;34m)\u001b[0m\u001b[0;34m.\u001b[0m\u001b[0mT\u001b[0m\u001b[0;34m\u001b[0m\u001b[0;34m\u001b[0m\u001b[0m\n\u001b[0m\u001b[1;32m    166\u001b[0m             \u001b[0mdv\u001b[0m\u001b[0;34m[\u001b[0m\u001b[0ms\u001b[0m\u001b[0;34m]\u001b[0m \u001b[0;34m=\u001b[0m \u001b[0mnp\u001b[0m\u001b[0;34m.\u001b[0m\u001b[0mrandom\u001b[0m\u001b[0;34m.\u001b[0m\u001b[0mmultivariate_normal\u001b[0m\u001b[0;34m(\u001b[0m\u001b[0mnp\u001b[0m\u001b[0;34m.\u001b[0m\u001b[0mzeros\u001b[0m\u001b[0;34m(\u001b[0m\u001b[0mdim_o\u001b[0m\u001b[0;34m)\u001b[0m\u001b[0;34m,\u001b[0m\u001b[0mdt\u001b[0m\u001b[0;34m*\u001b[0m\u001b[0mI1\u001b[0m\u001b[0;34m,\u001b[0m\u001b[0mN\u001b[0m\u001b[0;34m)\u001b[0m\u001b[0;34m.\u001b[0m\u001b[0mT\u001b[0m\u001b[0;34m\u001b[0m\u001b[0;34m\u001b[0m\u001b[0m\n\u001b[1;32m    167\u001b[0m                 \u001b[0;31m## A@x:dim*N R1@dw:dim*N c[j]@(H.T):dim*dim_o z[j+1]-z[j]:dim_o*1 H@x*dt:dim_o*N R2*dv:dim_o*N\u001b[0m\u001b[0;34m\u001b[0m\u001b[0;34m\u001b[0m\u001b[0;34m\u001b[0m\u001b[0m\n",
      "\u001b[0;32mmtrand.pyx\u001b[0m in \u001b[0;36mnumpy.random.mtrand.RandomState.multivariate_normal\u001b[0;34m()\u001b[0m\n",
      "\u001b[0;32m<__array_function__ internals>\u001b[0m in \u001b[0;36mallclose\u001b[0;34m(*args, **kwargs)\u001b[0m\n",
      "\u001b[0;32m/opt/anaconda3/lib/python3.8/site-packages/numpy/core/numeric.py\u001b[0m in \u001b[0;36mallclose\u001b[0;34m(a, b, rtol, atol, equal_nan)\u001b[0m\n\u001b[1;32m   2187\u001b[0m \u001b[0;34m\u001b[0m\u001b[0m\n\u001b[1;32m   2188\u001b[0m     \"\"\"\n\u001b[0;32m-> 2189\u001b[0;31m     \u001b[0mres\u001b[0m \u001b[0;34m=\u001b[0m \u001b[0mall\u001b[0m\u001b[0;34m(\u001b[0m\u001b[0misclose\u001b[0m\u001b[0;34m(\u001b[0m\u001b[0ma\u001b[0m\u001b[0;34m,\u001b[0m \u001b[0mb\u001b[0m\u001b[0;34m,\u001b[0m \u001b[0mrtol\u001b[0m\u001b[0;34m=\u001b[0m\u001b[0mrtol\u001b[0m\u001b[0;34m,\u001b[0m \u001b[0matol\u001b[0m\u001b[0;34m=\u001b[0m\u001b[0matol\u001b[0m\u001b[0;34m,\u001b[0m \u001b[0mequal_nan\u001b[0m\u001b[0;34m=\u001b[0m\u001b[0mequal_nan\u001b[0m\u001b[0;34m)\u001b[0m\u001b[0;34m)\u001b[0m\u001b[0;34m\u001b[0m\u001b[0;34m\u001b[0m\u001b[0m\n\u001b[0m\u001b[1;32m   2190\u001b[0m     \u001b[0;32mreturn\u001b[0m \u001b[0mbool\u001b[0m\u001b[0;34m(\u001b[0m\u001b[0mres\u001b[0m\u001b[0;34m)\u001b[0m\u001b[0;34m\u001b[0m\u001b[0;34m\u001b[0m\u001b[0m\n\u001b[1;32m   2191\u001b[0m \u001b[0;34m\u001b[0m\u001b[0m\n",
      "\u001b[0;32m<__array_function__ internals>\u001b[0m in \u001b[0;36misclose\u001b[0;34m(*args, **kwargs)\u001b[0m\n",
      "\u001b[0;32m/opt/anaconda3/lib/python3.8/site-packages/numpy/core/numeric.py\u001b[0m in \u001b[0;36misclose\u001b[0;34m(a, b, rtol, atol, equal_nan)\u001b[0m\n\u001b[1;32m   2288\u001b[0m     \u001b[0myfin\u001b[0m \u001b[0;34m=\u001b[0m \u001b[0misfinite\u001b[0m\u001b[0;34m(\u001b[0m\u001b[0my\u001b[0m\u001b[0;34m)\u001b[0m\u001b[0;34m\u001b[0m\u001b[0;34m\u001b[0m\u001b[0m\n\u001b[1;32m   2289\u001b[0m     \u001b[0;32mif\u001b[0m \u001b[0mall\u001b[0m\u001b[0;34m(\u001b[0m\u001b[0mxfin\u001b[0m\u001b[0;34m)\u001b[0m \u001b[0;32mand\u001b[0m \u001b[0mall\u001b[0m\u001b[0;34m(\u001b[0m\u001b[0myfin\u001b[0m\u001b[0;34m)\u001b[0m\u001b[0;34m:\u001b[0m\u001b[0;34m\u001b[0m\u001b[0;34m\u001b[0m\u001b[0m\n\u001b[0;32m-> 2290\u001b[0;31m         \u001b[0;32mreturn\u001b[0m \u001b[0mwithin_tol\u001b[0m\u001b[0;34m(\u001b[0m\u001b[0mx\u001b[0m\u001b[0;34m,\u001b[0m \u001b[0my\u001b[0m\u001b[0;34m,\u001b[0m \u001b[0matol\u001b[0m\u001b[0;34m,\u001b[0m \u001b[0mrtol\u001b[0m\u001b[0;34m)\u001b[0m\u001b[0;34m\u001b[0m\u001b[0;34m\u001b[0m\u001b[0m\n\u001b[0m\u001b[1;32m   2291\u001b[0m     \u001b[0;32melse\u001b[0m\u001b[0;34m:\u001b[0m\u001b[0;34m\u001b[0m\u001b[0;34m\u001b[0m\u001b[0m\n\u001b[1;32m   2292\u001b[0m         \u001b[0mfinite\u001b[0m \u001b[0;34m=\u001b[0m \u001b[0mxfin\u001b[0m \u001b[0;34m&\u001b[0m \u001b[0myfin\u001b[0m\u001b[0;34m\u001b[0m\u001b[0;34m\u001b[0m\u001b[0m\n",
      "\u001b[0;32m/opt/anaconda3/lib/python3.8/site-packages/numpy/core/numeric.py\u001b[0m in \u001b[0;36mwithin_tol\u001b[0;34m(x, y, atol, rtol)\u001b[0m\n\u001b[1;32m   2274\u001b[0m     \u001b[0;32mdef\u001b[0m \u001b[0mwithin_tol\u001b[0m\u001b[0;34m(\u001b[0m\u001b[0mx\u001b[0m\u001b[0;34m,\u001b[0m \u001b[0my\u001b[0m\u001b[0;34m,\u001b[0m \u001b[0matol\u001b[0m\u001b[0;34m,\u001b[0m \u001b[0mrtol\u001b[0m\u001b[0;34m)\u001b[0m\u001b[0;34m:\u001b[0m\u001b[0;34m\u001b[0m\u001b[0;34m\u001b[0m\u001b[0m\n\u001b[1;32m   2275\u001b[0m         \u001b[0;32mwith\u001b[0m \u001b[0merrstate\u001b[0m\u001b[0;34m(\u001b[0m\u001b[0minvalid\u001b[0m\u001b[0;34m=\u001b[0m\u001b[0;34m'ignore'\u001b[0m\u001b[0;34m)\u001b[0m\u001b[0;34m:\u001b[0m\u001b[0;34m\u001b[0m\u001b[0;34m\u001b[0m\u001b[0m\n\u001b[0;32m-> 2276\u001b[0;31m             \u001b[0;32mreturn\u001b[0m \u001b[0mless_equal\u001b[0m\u001b[0;34m(\u001b[0m\u001b[0mabs\u001b[0m\u001b[0;34m(\u001b[0m\u001b[0mx\u001b[0m\u001b[0;34m-\u001b[0m\u001b[0my\u001b[0m\u001b[0;34m)\u001b[0m\u001b[0;34m,\u001b[0m \u001b[0matol\u001b[0m \u001b[0;34m+\u001b[0m \u001b[0mrtol\u001b[0m \u001b[0;34m*\u001b[0m \u001b[0mabs\u001b[0m\u001b[0;34m(\u001b[0m\u001b[0my\u001b[0m\u001b[0;34m)\u001b[0m\u001b[0;34m)\u001b[0m\u001b[0;34m\u001b[0m\u001b[0;34m\u001b[0m\u001b[0m\n\u001b[0m\u001b[1;32m   2277\u001b[0m \u001b[0;34m\u001b[0m\u001b[0m\n\u001b[1;32m   2278\u001b[0m     \u001b[0mx\u001b[0m \u001b[0;34m=\u001b[0m \u001b[0masanyarray\u001b[0m\u001b[0;34m(\u001b[0m\u001b[0ma\u001b[0m\u001b[0;34m)\u001b[0m\u001b[0;34m\u001b[0m\u001b[0;34m\u001b[0m\u001b[0m\n",
      "\u001b[0;31mKeyboardInterrupt\u001b[0m: "
     ]
    }
   ],
   "source": [
    "c3=fit_c3(1,dim)"
   ]
  },
  {
   "cell_type": "code",
   "execution_count": 145,
   "metadata": {},
   "outputs": [],
   "source": [
    "c1=0.90098574\n",
    "c2=0.633350592759386\n",
    "c3=0.07894818"
   ]
  },
  {
   "cell_type": "code",
   "execution_count": 148,
   "metadata": {},
   "outputs": [
    {
     "data": {
      "text/plain": [
       "array([27603.,  7257.,  3630.,  1815.,   909.,   456.,   228.])"
      ]
     },
     "execution_count": 148,
     "metadata": {},
     "output_type": "execute_result"
    }
   ],
   "source": [
    "C=3\n",
    "Numcal(C,6,0)"
   ]
  },
  {
   "cell_type": "code",
   "execution_count": 70,
   "metadata": {},
   "outputs": [],
   "source": [
    "def simulate_mse(seed_val):\n",
    "    \n",
    "    lmax = Lmax\n",
    "    #dim = 5\n",
    "    #T=10\n",
    "    np.random.seed(seed_val_col)\n",
    "    collection_input = gen_model(dim)\n",
    "    np.random.seed(seed_val_obs)\n",
    "    z = gen_data(T,lmax,collection_input)[0]\n",
    "    N=500\n",
    "    Rep=100\n",
    "    \n",
    "    tv_rep = np.zeros((Rep,dim))\n",
    "    with progressbar.ProgressBar(max_value=Rep) as bar:\n",
    "        for rep in range(Rep):\n",
    "            tv_rep[rep] = EnKBF(T,lmax,lmax,z,N,collection_input)[0][-1,:,0]\n",
    "            bar.update(rep)\n",
    "            \n",
    "            \n",
    "    tv_approx = np.mean(tv_rep,axis=0)\n",
    "    mse_ml=np.zeros((L-l0+1,dim))\n",
    "    levels=np.array(range(l0,L+1))\n",
    "    mean_ml=np.zeros((L-l0+1,dim))\n",
    "    delt_level=np.zeros(10)\n",
    "    C=3.\n",
    "    Rep=100\n",
    "    costs=np.zeros(L-l0+1)\n",
    "    for l in range(l0,L+1):\n",
    "        est_ml=np.zeros((Rep,dim))\n",
    "        #est_en=np.zeros(Rep)\n",
    "        print(\"Current level is\",l,\".\",L-l, \"remaining.\")\n",
    "        with progressbar.ProgressBar(max_value=Rep) as bar:\n",
    "            ML_real=np.zeros((Rep,dim))\n",
    "            for rep in range(Rep):\n",
    "                with np.errstate(divide='ignore'):\n",
    "                    #mean_en = DEnKBF(T,l,lmax,z,N,collection_input)[0][-1,:]\n",
    "                    #print(T,l)\n",
    "                    ML_real[rep] = MLEnKBF(C,T,l,lmax,l0,z,collection_input)\n",
    "                    seed_j=0\n",
    "                    while  math.isnan(ML_real[rep,0]):\n",
    "                        np.random.seed(seed_j)\n",
    "                        ML_real[rep] =MLEnKBF(C,T,l,lmax,l0,z,collection_input)\n",
    "                        #print(ML_real[rep])\n",
    "                        seed_j+=1\n",
    "                    est_ml[rep] = (ML_real[rep] - tv_approx)**2\n",
    "                    #est_en[rep] = np.sum((mean_en - tv_approx)**2)\n",
    "                    bar.update(rep)\n",
    "            mean_ml[l-l0]=np.mean(ML_real,axis=0)       \n",
    "            mse_ml[l-l0]=np.mean(est_ml,axis=0)\n",
    "            costs[l-l0]=cost_mlenkbf(C,T,l,l0)\n",
    "            \n",
    "        #print(mse_ml[l-l0])\n",
    "    \n",
    "    return [mse_ml,levels,costs,mean_ml,tv_approx]"
   ]
  },
  {
   "cell_type": "code",
   "execution_count": 71,
   "metadata": {},
   "outputs": [],
   "source": [
    "def Numcal(C,L,l0):\n",
    "    Num=np.zeros(L-l0+1)\n",
    "    epsilon = np.sqrt(2)*c2 * 2**(-L)\n",
    "    Num[0] = np.ceil(2*c1 * epsilon**(-2))\n",
    "    for li in range(1,L-l0+1):\n",
    "        Num[li]=np.maximum(np.ceil(2*epsilon**(-2)*c3*(L-l0)*2**(-li)),2)\n",
    "        \n",
    "    return(np.ceil(Num*C))"
   ]
  },
  {
   "cell_type": "code",
   "execution_count": 72,
   "metadata": {},
   "outputs": [],
   "source": [
    "def MLEnKBF(C,T,L,lmax,l0,z,collection_input):\n",
    "    Num=Numcal(C,L,l0)\n",
    "    telescopic_summand=np.zeros((L-l0+1,dim))\n",
    "    [m,c]=EnKBF(T,l0,lmax,z,int(Num[0]),collection_input)\n",
    "    telescopic_summand[0]=m[-1,:,0]\n",
    "    for l in range(l0+1,L+1):\n",
    "        [m1,m2]=CEnKBF(T,l,lmax,z,int(Num[l-l0]),collection_input)\n",
    "        telescopic_summand[l-l0]=m1[-1,:,0]-m2[-1,:,0]\n",
    "    est=np.sum(telescopic_summand,axis=0)\n",
    "    return(est)"
   ]
  },
  {
   "cell_type": "code",
   "execution_count": 149,
   "metadata": {},
   "outputs": [
    {
     "name": "stdout",
     "output_type": "stream",
     "text": [
      "[-2.43830611  0.86486738]\n"
     ]
    }
   ],
   "source": [
    "C=3\n",
    "l0=0\n",
    "N=100\n",
    "lmax=6\n",
    "np.random.seed(seed_val_col)\n",
    "collection_input = gen_model(dim)\n",
    "np.random.seed(seed_val_obs)\n",
    "z = gen_data(T,Lmax,collection_input)[0]\n",
    "print(MLEnKBF(C,T,6,Lmax,l0,z,collection_input))\n",
    "#print(EnKBF(T,lmax,Lmax,z,N,collection_input)[0][-1])"
   ]
  },
  {
   "cell_type": "code",
   "execution_count": 150,
   "metadata": {
    "scrolled": true
   },
   "outputs": [
    {
     "name": "stderr",
     "output_type": "stream",
     "text": [
      "100% (100 of 100) |######################| Elapsed Time: 2:17:47 Time:  2:17:47\n",
      "  6% (6 of 100) |#                       | Elapsed Time: 0:00:00 ETA:   0:00:02"
     ]
    },
    {
     "name": "stdout",
     "output_type": "stream",
     "text": [
      "Current level is 0 . 6 remaining.\n"
     ]
    },
    {
     "name": "stderr",
     "output_type": "stream",
     "text": [
      "100% (100 of 100) |######################| Elapsed Time: 0:00:02 Time:  0:00:02\n",
      "  0% (0 of 100) |                        | Elapsed Time: 0:00:00 ETA:  --:--:--"
     ]
    },
    {
     "name": "stdout",
     "output_type": "stream",
     "text": [
      "Current level is 1 . 5 remaining.\n"
     ]
    },
    {
     "name": "stderr",
     "output_type": "stream",
     "text": [
      "100% (100 of 100) |######################| Elapsed Time: 0:00:07 Time:  0:00:07\n",
      "  0% (0 of 100) |                        | Elapsed Time: 0:00:00 ETA:  --:--:--"
     ]
    },
    {
     "name": "stdout",
     "output_type": "stream",
     "text": [
      "Current level is 2 . 4 remaining.\n"
     ]
    },
    {
     "name": "stderr",
     "output_type": "stream",
     "text": [
      "100% (100 of 100) |######################| Elapsed Time: 0:00:14 Time:  0:00:14\n"
     ]
    },
    {
     "name": "stdout",
     "output_type": "stream",
     "text": [
      "Current level is 3 . 3 remaining.\n"
     ]
    },
    {
     "name": "stderr",
     "output_type": "stream",
     "text": [
      "100% (100 of 100) |######################| Elapsed Time: 0:00:35 Time:  0:00:35\n"
     ]
    },
    {
     "name": "stdout",
     "output_type": "stream",
     "text": [
      "Current level is 4 . 2 remaining.\n"
     ]
    },
    {
     "name": "stderr",
     "output_type": "stream",
     "text": [
      "100% (100 of 100) |######################| Elapsed Time: 0:01:53 Time:  0:01:53\n"
     ]
    },
    {
     "name": "stdout",
     "output_type": "stream",
     "text": [
      "Current level is 5 . 1 remaining.\n"
     ]
    },
    {
     "name": "stderr",
     "output_type": "stream",
     "text": [
      "100% (100 of 100) |######################| Elapsed Time: 0:16:03 Time:  0:16:03\n"
     ]
    },
    {
     "name": "stdout",
     "output_type": "stream",
     "text": [
      "Current level is 6 . 0 remaining.\n"
     ]
    },
    {
     "name": "stderr",
     "output_type": "stream",
     "text": [
      "100% (100 of 100) |######################| Elapsed Time: 4:19:13 Time:  4:19:13\n"
     ]
    }
   ],
   "source": [
    "L=6\n",
    "[MSE,levels,cost,mean_ml,tv_approx]=simulate_mse(seed_val)"
   ]
  },
  {
   "cell_type": "markdown",
   "metadata": {},
   "source": [
    "T=80, dim=2 down"
   ]
  },
  {
   "cell_type": "code",
   "execution_count": 151,
   "metadata": {},
   "outputs": [
    {
     "data": {
      "text/plain": [
       "array([-2.42298987,  0.85720075])"
      ]
     },
     "execution_count": 151,
     "metadata": {},
     "output_type": "execute_result"
    }
   ],
   "source": [
    "tv_approx"
   ]
  },
  {
   "cell_type": "markdown",
   "metadata": {},
   "source": [
    "Great, the bias is well computed"
   ]
  },
  {
   "cell_type": "code",
   "execution_count": 152,
   "metadata": {},
   "outputs": [
    {
     "data": {
      "text/plain": [
       "array([8.94486038e-01, 3.54717817e-01, 1.18287233e-01, 2.14869872e-02,\n",
       "       5.77839112e-03, 1.48224773e-03, 4.52070244e-04])"
      ]
     },
     "execution_count": 152,
     "metadata": {},
     "output_type": "execute_result"
    }
   ],
   "source": [
    "MSE=np.sum(MSE,axis=1)\n",
    "MSE"
   ]
  },
  {
   "cell_type": "code",
   "execution_count": 154,
   "metadata": {},
   "outputs": [],
   "source": [
    "[MSE,cost,mean_ml,tv_approx]=[np.array([8.94486038e-01, 3.54717817e-01, 1.18287233e-01, 2.14869872e-02,\n",
    "        5.77839112e-03, 1.48224773e-03, 4.52070244e-04]),\n",
    " np.array([7.200000e+02, 8.640000e+03, 4.032000e+04, 1.944000e+05,\n",
    "        9.950400e+05, 5.112000e+06, 2.627856e+07]),\n",
    " np.array([[-2.98088845,  1.095295  ],\n",
    "        [-2.68085038,  0.9455112 ],\n",
    "        [-2.51333344,  0.85294479],\n",
    "        [-2.47227502,  0.8401886 ],\n",
    "        [-2.4572429 ,  0.85526039],\n",
    "        [-2.44248682,  0.86207628],\n",
    "        [-2.43543102,  0.85964335]]),\n",
    " np.array([-2.42298987,  0.85720075])]\n",
    "\n"
   ]
  },
  {
   "cell_type": "code",
   "execution_count": 161,
   "metadata": {
    "scrolled": true
   },
   "outputs": [
    {
     "name": "stdout",
     "output_type": "stream",
     "text": [
      "[0.89014343 1.058958  ]\n",
      "[0.69877933 0.26492017 0.07429193 0.14484015 0.25580178 0.37455687\n",
      " 0.5517903 ] 0.2777001989513704\n"
     ]
    },
    {
     "data": {
      "image/png": "[encoded data removed]",
      "text/plain": [
       "<Figure size 432x288 with 1 Axes>"
      ]
     },
     "metadata": {
      "needs_background": "light"
     },
     "output_type": "display_data"
    }
   ],
   "source": [
    "bias_squared=np.sum((mean_ml-tv_approx)**2,axis=1)\n",
    "plt.plot(np.log2(np.sum((mean_ml-tv_approx)**2,axis=1)),np.log2((c2/2**np.array(range(7)))**2))\n",
    "plt.plot(np.log2(np.sum((mean_ml-tv_approx)**2,axis=1)),np.log2(MSE-np.sum((mean_ml-tv_approx)**2,axis=1)))\n",
    "print(coef(np.log2(np.sum((mean_ml-tv_approx)**2,axis=1)),np.log2((c2/2**np.array(range(7)))**2)))\n",
    "print(bias_squared/(MSE-bias_squared),np.mean((bias_squared/(MSE-bias_squared))[1:]))"
   ]
  },
  {
   "cell_type": "code",
   "execution_count": 42,
   "metadata": {},
   "outputs": [],
   "source": [
    "#MSE=np.sum(MSE,axis=1)"
   ]
  },
  {
   "cell_type": "code",
   "execution_count": 164,
   "metadata": {},
   "outputs": [
    {
     "data": {
      "text/plain": [
       "array([8.94486038e-01, 3.54717817e-01, 1.18287233e-01, 2.14869872e-02,\n",
       "       5.77839112e-03, 1.48224773e-03, 4.52070244e-04])"
      ]
     },
     "execution_count": 164,
     "metadata": {},
     "output_type": "execute_result"
    }
   ],
   "source": [
    "MSE"
   ]
  },
  {
   "cell_type": "code",
   "execution_count": 185,
   "metadata": {},
   "outputs": [
    {
     "data": {
      "text/plain": [
       "Text(0, 0.5, 'log(Cost)')"
      ]
     },
     "execution_count": 185,
     "metadata": {},
     "output_type": "execute_result"
    },
    {
     "data": {
      "image/png": "[encoded data removed]",
      "text/plain": [
       "<Figure size 432x288 with 1 Axes>"
      ]
     },
     "metadata": {
      "needs_background": "light"
     },
     "output_type": "display_data"
    }
   ],
   "source": [
    "plt.plot(np.log(MSE)[1:],np.log(cost)[1:])\n",
    "plt.xlabel(\"log(MSE)\")\n",
    "plt.ylabel(\"log(Cost)\")"
   ]
  },
  {
   "cell_type": "markdown",
   "metadata": {},
   "source": [
    "T=80, dim=2 up"
   ]
  },
  {
   "cell_type": "markdown",
   "metadata": {},
   "source": [
    "## Parameter tunning F2"
   ]
  },
  {
   "cell_type": "code",
   "execution_count": 21,
   "metadata": {},
   "outputs": [
    {
     "data": {
      "text/plain": [
       "array([[ 3.14495008],\n",
       "       [ 1.59437168],\n",
       "       [-0.51489121],\n",
       "       [ 1.90383178],\n",
       "       [ 1.43133622],\n",
       "       [ 2.12672621],\n",
       "       [ 3.63808199],\n",
       "       [ 5.67704909],\n",
       "       [ 9.86045015],\n",
       "       [10.84539502]])"
      ]
     },
     "execution_count": 21,
     "metadata": {},
     "output_type": "execute_result"
    },
    {
     "data": {
      "image/png": "[encoded data removed]",
      "text/plain": [
       "<Figure size 432x288 with 1 Axes>"
      ]
     },
     "metadata": {
      "needs_background": "light"
     },
     "output_type": "display_data"
    }
   ],
   "source": [
    "import numpy as np\n",
    "import matplotlib.pyplot as plt \n",
    "from scipy import linalg as la\n",
    "from scipy.sparse import identity\n",
    "\n",
    "T=10\n",
    "lz=11\n",
    "l=6\n",
    "N=100\n",
    "tau=1/2**(l)\n",
    "J=T*(2**l)\n",
    "seed_val=2\n",
    "B=4\n",
    "np.random.seed(seed_val_col)\n",
    "collection_input=gen_model(dim)\n",
    "## The with numpy.errstate argument is used to avoid any stupid warning\n",
    "with np.errstate(divide='ignore'):\n",
    "    np.random.seed(seed_val_obs)\n",
    "    [z,v] = gen_data(T,lz,collection_input)\n",
    "    #[m,c] = KBF(T,l,lmax,z,collection_input)\n",
    "    ems=np.zeros((B,J+1,dim,1))\n",
    "    for i in range(B):\n",
    "        ems[i] = DEnKBF(T,l,lz,z,N,collection_input)[0]\n",
    "        \n",
    "        #[m2,c2] = DEnKBF(T,l,lmax,z,N,collection_input)\n",
    "v1=cut(T,lz,l,v)\n",
    "J=T*(2**l)\n",
    "x1 = tau*np.arange(J+1)\n",
    "#print(m1[:,2].T[0])\n",
    "#plt.plot(x1,m[:,0],label=\"KBF posterior mean estimate\")\n",
    "plt.plot(x1,v1[:,4],label=\"true value\")\n",
    "for i in range(B):\n",
    "    plt.plot(x1,ems[i,:,4,0])\n",
    "#plt.plot(x1,m2[:,0],label=\"DEnKBF posterior mean estimate\")\n",
    "plt.xlabel('time')\n",
    "plt.ylabel('value')\n",
    "plt.title('Kalman-Bucy Filter')\n",
    "plt.legend()\n",
    "plt.grid()\n",
    "EnKBF(T,l,lz,z,N,collection_input)[0][-1]"
   ]
  },
  {
   "cell_type": "code",
   "execution_count": 22,
   "metadata": {},
   "outputs": [
    {
     "data": {
      "text/plain": [
       "10"
      ]
     },
     "execution_count": 22,
     "metadata": {},
     "output_type": "execute_result"
    }
   ],
   "source": [
    "dim"
   ]
  },
  {
   "cell_type": "code",
   "execution_count": 33,
   "metadata": {},
   "outputs": [],
   "source": [
    "def Dfit_c1(seed_val,dim):\n",
    "    np.random.seed(seed_val_col)\n",
    "    l=5\n",
    "    collection_input = gen_model(dim)\n",
    "    np.random.seed(seed_val_obs)\n",
    "    z = gen_data(T,Lmax,collection_input)[0]\n",
    "    num_seq = np.zeros(6)\n",
    "    for i in range(6):\n",
    "        num_seq[i] = 50*2**i\n",
    "    np.random.seed(seed_val)\n",
    "    Rep=200\n",
    "    evar=np.zeros(6)\n",
    "    for numi in range(6):\n",
    "        est=np.zeros(Rep)\n",
    "        #print(\"numi=\",numi)\n",
    "        for rep in range(Rep):\n",
    "            with np.errstate(divide='ignore'):\n",
    "                mean_mat =DEnKBF(T,l,Lmax,z,int(num_seq[numi]),collection_input)[0]\n",
    "                est[rep] = np.mean(mean_mat[-1,:])\n",
    "                #print(est[rep])\n",
    "        evar[numi] = np.var(est)\n",
    "    \n",
    "    x = np.log10(num_seq)\n",
    "    #x=np.array([i for i in range(6)])\n",
    "    y = np.log10(evar)\n",
    "    b = coef(x,y)\n",
    "    plt.plot(x,y)\n",
    "    plt.plot(x,b[0]+b[1]*x)\n",
    "    \n",
    "    return 10**(b)"
   ]
  },
  {
   "cell_type": "code",
   "execution_count": 34,
   "metadata": {},
   "outputs": [],
   "source": [
    "Lmax=11 \n",
    "seed_val_col=5\n",
    "seed_val_obs=5\n",
    "dim=10\n",
    "T=10\n",
    "amm=4.\n",
    "bmm=5.\n",
    "cmm=30."
   ]
  },
  {
   "cell_type": "code",
   "execution_count": 38,
   "metadata": {},
   "outputs": [
    {
     "data": {
      "image/png": "[encoded data removed]",
      "text/plain": [
       "<Figure size 432x288 with 1 Axes>"
      ]
     },
     "metadata": {
      "needs_background": "light"
     },
     "output_type": "display_data"
    }
   ],
   "source": [
    "c1=Dfit_c1(6,dim)"
   ]
  },
  {
   "cell_type": "markdown",
   "metadata": {},
   "source": [
    "compare with c1=1.5, seed_val=6"
   ]
  },
  {
   "cell_type": "code",
   "execution_count": 37,
   "metadata": {},
   "outputs": [
    {
     "data": {
      "text/plain": [
       "array([1.50352216, 0.10104041])"
      ]
     },
     "execution_count": 37,
     "metadata": {},
     "output_type": "execute_result"
    }
   ],
   "source": [
    "#2\n",
    "c1"
   ]
  },
  {
   "cell_type": "code",
   "execution_count": 27,
   "metadata": {},
   "outputs": [],
   "source": [
    "def Dfit_c3(seed_val,dim):\n",
    "    np.random.seed(seed_val_col)\n",
    "    #dim = 10\n",
    "    #lmax=9\n",
    "    N = 100\n",
    "    collection_input = gen_model(dim)\n",
    "    np.random.seed(seed_val_obs)\n",
    "    z = gen_data(T,Lmax,collection_input)[0]\n",
    "    delta_seq = np.zeros(l-l0+1)\n",
    "    for ll in range(l0,l+1):\n",
    "        delta_seq[ll-l0] = 2**(-ll)\n",
    "    Rep=100\n",
    "    evar=np.zeros(l-l0+1)\n",
    "    np.random.seed(seed_val)\n",
    "    for ll in range(l0,l+1):\n",
    "        print(\"Current level \",ll,\". \",l-ll,\"remaining.\" )\n",
    "        est = np.zeros(Rep)\n",
    "        with progressbar.ProgressBar(max_value=Rep) as bar:\n",
    "            for rep in range(Rep):\n",
    "                with np.errstate(divide='ignore'):\n",
    "                    [m,m1]=DCEnKBF(T,ll,Lmax,z,N,collection_input)\n",
    "                    est[rep] = np.mean(m[-1,:]) - np.mean(m1[-1,:])\n",
    "                    bar.update(rep)\n",
    "        evar[ll-l0] = np.var(est)\n",
    "        \n",
    "    #x = np.log10(delta_seq[4:8])\n",
    "    x=np.array(range(l0,l+1))\n",
    "    y = np.log10(evar)\n",
    "    b=coef(x,y)\n",
    "    plt.plot(x,y)\n",
    "    return N*10**(b)"
   ]
  },
  {
   "cell_type": "code",
   "execution_count": 30,
   "metadata": {
    "scrolled": true
   },
   "outputs": [
    {
     "name": "stdout",
     "output_type": "stream",
     "text": [
      "Current level  5 .  4 remaining.\n"
     ]
    },
    {
     "name": "stderr",
     "output_type": "stream",
     "text": [
      "100% (100 of 100) |######################| Elapsed Time: 0:00:24 Time:  0:00:24\n"
     ]
    },
    {
     "name": "stdout",
     "output_type": "stream",
     "text": [
      "Current level  6 .  3 remaining.\n"
     ]
    },
    {
     "name": "stderr",
     "output_type": "stream",
     "text": [
      "100% (100 of 100) |######################| Elapsed Time: 0:00:45 Time:  0:00:45\n"
     ]
    },
    {
     "name": "stdout",
     "output_type": "stream",
     "text": [
      "Current level  7 .  2 remaining.\n"
     ]
    },
    {
     "name": "stderr",
     "output_type": "stream",
     "text": [
      "100% (100 of 100) |######################| Elapsed Time: 0:01:46 Time:  0:01:46\n"
     ]
    },
    {
     "name": "stdout",
     "output_type": "stream",
     "text": [
      "Current level  8 .  1 remaining.\n"
     ]
    },
    {
     "name": "stderr",
     "output_type": "stream",
     "text": [
      "100% (100 of 100) |######################| Elapsed Time: 0:03:31 Time:  0:03:31\n"
     ]
    },
    {
     "name": "stdout",
     "output_type": "stream",
     "text": [
      "Current level  9 .  0 remaining.\n"
     ]
    },
    {
     "name": "stderr",
     "output_type": "stream",
     "text": [
      "100% (100 of 100) |######################| Elapsed Time: 0:05:05 Time:  0:05:05\n"
     ]
    },
    {
     "data": {
      "image/png": "[encoded data removed]",
      "text/plain": [
       "<Figure size 432x288 with 1 Axes>"
      ]
     },
     "metadata": {
      "needs_background": "light"
     },
     "output_type": "display_data"
    }
   ],
   "source": [
    "l0=5\n",
    "l=9\n",
    "c3=Dfit_c3(5,dim)"
   ]
  },
  {
   "cell_type": "code",
   "execution_count": 36,
   "metadata": {},
   "outputs": [
    {
     "data": {
      "text/plain": [
       "array([ 7.25845495, 45.49280948])"
      ]
     },
     "execution_count": 36,
     "metadata": {},
     "output_type": "execute_result"
    }
   ],
   "source": [
    "#1\n",
    "c3"
   ]
  },
  {
   "cell_type": "markdown",
   "metadata": {},
   "source": [
    "compare this with the 8. obtained for seed_val=4"
   ]
  },
  {
   "cell_type": "code",
   "execution_count": 193,
   "metadata": {},
   "outputs": [],
   "source": [
    "c1=1.5\n",
    "c2=0.5862156896272442\n",
    "c3=8"
   ]
  },
  {
   "cell_type": "code",
   "execution_count": 196,
   "metadata": {},
   "outputs": [
    {
     "data": {
      "text/plain": [
       "array([23840.,  6112.,  3056.,  1528.,   764.,   384.,   192.])"
      ]
     },
     "execution_count": 196,
     "metadata": {},
     "output_type": "execute_result"
    }
   ],
   "source": [
    "C=4\n",
    "Numcal(C,6,0)"
   ]
  },
  {
   "cell_type": "code",
   "execution_count": 197,
   "metadata": {},
   "outputs": [],
   "source": [
    "def Numcal(C,L,l0):\n",
    "    Num=np.zeros(L-l0+1)\n",
    "    epsilon = np.sqrt(2)*c2 * 2**(-L)\n",
    "    Num[0] = np.ceil(2*c1 * epsilon**(-2))\n",
    "    for li in range(1,L-l0+1):\n",
    "        Num[li]=np.maximum(np.ceil(2*epsilon**(-2)*c3*(L-l0)*2**(-li)),2)\n",
    "        \n",
    "    return(np.ceil(Num*C))"
   ]
  },
  {
   "cell_type": "code",
   "execution_count": 198,
   "metadata": {},
   "outputs": [],
   "source": [
    "def DMLEnKBF(C,T,L,lmax,l0,z,collection_input):\n",
    "    Num=Numcal(C,L,l0)\n",
    "    telescopic_summand=np.zeros((L-l0+1,dim))\n",
    "    [m,c]=DEnKBF(T,l0,lmax,z,int(Num[0]),collection_input)\n",
    "    telescopic_summand[0]=m[-1,:,0]\n",
    "    for l in range(l0+1,L+1):\n",
    "        [m1,m2]=DCEnKBF(T,l,lmax,z,int(Num[l-l0]),collection_input)\n",
    "        telescopic_summand[l-l0]=m1[-1,:,0]-m2[-1,:,0]\n",
    "    est=np.sum(telescopic_summand,axis=0)\n",
    "    return(est)"
   ]
  },
  {
   "cell_type": "code",
   "execution_count": 200,
   "metadata": {},
   "outputs": [],
   "source": [
    "def Dsimulate_mse(seed_val):\n",
    "    lmax = Lmax\n",
    "    #dim = 5\n",
    "    #T=10\n",
    "    np.random.seed(seed_val_col)\n",
    "    collection_input = gen_model(dim)\n",
    "    np.random.seed(seed_val_obs)\n",
    "    z = gen_data(T,lmax,collection_input)[0]\n",
    "    N=500\n",
    "    Rep=100\n",
    "    \n",
    "    tv_rep = np.zeros((Rep,dim))\n",
    "    with progressbar.ProgressBar(max_value=Rep) as bar:\n",
    "        for rep in range(Rep):\n",
    "            tv_rep[rep] = DEnKBF(T,lmax,lmax,z,N,collection_input)[0][-1,:,0]\n",
    "            bar.update(rep)\n",
    "            \n",
    "            \n",
    "    tv_approx = np.mean(tv_rep,axis=0)\n",
    "    mse_ml=np.zeros((L-l0+1,dim))\n",
    "    levels=np.array(range(l0,L+1))\n",
    "    mean_ml=np.zeros((L-l0+1,dim))\n",
    "    delt_level=np.zeros(10)\n",
    "    C=5.\n",
    "    Rep=100\n",
    "    costs=np.zeros(L-l0+1)\n",
    "    for l in range(l0,L+1):\n",
    "        est_ml=np.zeros((Rep,dim))\n",
    "        #est_en=np.zeros(Rep)\n",
    "        print(\"Current level is\",l,\".\",L-l, \"remaining.\")\n",
    "        with progressbar.ProgressBar(max_value=Rep) as bar:\n",
    "            ML_real=np.zeros((Rep,dim))\n",
    "            for rep in range(Rep):\n",
    "                with np.errstate(divide='ignore'):\n",
    "                    #mean_en = DEnKBF(T,l,lmax,z,N,collection_input)[0][-1,:]\n",
    "                    #print(T,l)\n",
    "                    ML_real[rep] = DMLEnKBF(C,T,l,lmax,l0,z,collection_input)\n",
    "                    seed_j=0\n",
    "                    while  math.isnan(ML_real[rep,0]):\n",
    "                        np.random.seed(seed_j)\n",
    "                        ML_real[rep] =DMLEnKBF(C,T,l,lmax,l0,z,collection_input)\n",
    "                        #print(ML_real[rep])\n",
    "                        seed_j+=1\n",
    "                    est_ml[rep] = (ML_real[rep] - tv_approx)**2\n",
    "                    #est_en[rep] = np.sum((mean_en - tv_approx)**2)\n",
    "                    bar.update(rep)\n",
    "            mean_ml[l-l0]=np.mean(ML_real,axis=0)       \n",
    "            mse_ml[l-l0]=np.mean(est_ml,axis=0)\n",
    "            costs[l-l0]=cost_mlenkbf(C,T,l,l0)\n",
    "            \n",
    "        #print(mse_ml[l-l0])\n",
    "    \n",
    "    return [mse_ml,levels,costs,mean_ml,tv_approx]"
   ]
  },
  {
   "cell_type": "code",
   "execution_count": 203,
   "metadata": {},
   "outputs": [],
   "source": [
    "C=5\n",
    "l0=0\n",
    "N=100\n",
    "lmax=6\n",
    "np.random.seed(seed_val_col)\n",
    "collection_input = gen_model(dim)\n",
    "np.random.seed(seed_val_obs)\n",
    "z = gen_data(T,Lmax,collection_input)[0]\n",
    "#print(DMLEnKBF(C,T,6,Lmax,l0,z,collection_input))\n",
    "#print(DEnKBF(T,lmax,Lmax,z,N,collection_input)[0][-1])"
   ]
  },
  {
   "cell_type": "code",
   "execution_count": 204,
   "metadata": {
    "scrolled": true
   },
   "outputs": [
    {
     "name": "stderr",
     "output_type": "stream",
     "text": [
      "100% (100 of 100) |######################| Elapsed Time: 2:55:22 Time:  2:55:22\n",
      "  4% (4 of 100) |                        | Elapsed Time: 0:00:00 ETA:   0:00:03"
     ]
    },
    {
     "name": "stdout",
     "output_type": "stream",
     "text": [
      "Current level is 0 . 5 remaining.\n"
     ]
    },
    {
     "name": "stderr",
     "output_type": "stream",
     "text": [
      "100% (100 of 100) |######################| Elapsed Time: 0:00:02 Time:  0:00:02\n",
      "  0% (0 of 100) |                        | Elapsed Time: 0:00:00 ETA:  --:--:--"
     ]
    },
    {
     "name": "stdout",
     "output_type": "stream",
     "text": [
      "Current level is 1 . 4 remaining.\n"
     ]
    },
    {
     "name": "stderr",
     "output_type": "stream",
     "text": [
      "100% (100 of 100) |######################| Elapsed Time: 0:00:08 Time:  0:00:08\n"
     ]
    },
    {
     "name": "stdout",
     "output_type": "stream",
     "text": [
      "Current level is 2 . 3 remaining.\n"
     ]
    },
    {
     "name": "stderr",
     "output_type": "stream",
     "text": [
      "100% (100 of 100) |######################| Elapsed Time: 0:00:19 Time:  0:00:19\n"
     ]
    },
    {
     "name": "stdout",
     "output_type": "stream",
     "text": [
      "Current level is 3 . 2 remaining.\n"
     ]
    },
    {
     "name": "stderr",
     "output_type": "stream",
     "text": [
      "100% (100 of 100) |######################| Elapsed Time: 0:00:49 Time:  0:00:49\n"
     ]
    },
    {
     "name": "stdout",
     "output_type": "stream",
     "text": [
      "Current level is 4 . 1 remaining.\n"
     ]
    },
    {
     "name": "stderr",
     "output_type": "stream",
     "text": [
      "100% (100 of 100) |######################| Elapsed Time: 0:02:32 Time:  0:02:32\n"
     ]
    },
    {
     "name": "stdout",
     "output_type": "stream",
     "text": [
      "Current level is 5 . 0 remaining.\n"
     ]
    },
    {
     "name": "stderr",
     "output_type": "stream",
     "text": [
      "100% (100 of 100) |######################| Elapsed Time: 0:21:21 Time:  0:21:21\n"
     ]
    }
   ],
   "source": [
    "L=5\n",
    "[MSE,levels,cost,mean_ml,tv_approx]=Dsimulate_mse(seed_val)"
   ]
  },
  {
   "cell_type": "markdown",
   "metadata": {},
   "source": [
    "once the simulation is finished copypaste the results and go to Dunkbf and run the CS and the ST"
   ]
  },
  {
   "cell_type": "markdown",
   "metadata": {},
   "source": [
    "T=80, dim=2 down"
   ]
  },
  {
   "cell_type": "code",
   "execution_count": 205,
   "metadata": {},
   "outputs": [
    {
     "data": {
      "text/plain": [
       "array([-2.42638868,  0.85448171])"
      ]
     },
     "execution_count": 205,
     "metadata": {},
     "output_type": "execute_result"
    }
   ],
   "source": [
    "tv_approx"
   ]
  },
  {
   "cell_type": "markdown",
   "metadata": {},
   "source": [
    "Great, the bias is well computed"
   ]
  },
  {
   "cell_type": "code",
   "execution_count": 222,
   "metadata": {},
   "outputs": [],
   "source": [
    "#MSE=np.sum(MSE,axis=1)\n",
    "MSE=np.array([0.57201138, 0.1460237 , 0.05408799, 0.01369782, 0.00319383,\n",
    "       0.00077373])\n",
    "cost=np.array([8.0000e+02, 9.6000e+03, 4.3200e+04, 2.0800e+05, 1.0576e+06,\n",
    "       5.4536e+06])"
   ]
  },
  {
   "cell_type": "code",
   "execution_count": 209,
   "metadata": {},
   "outputs": [],
   "source": [
    "[MSE,cost,mean_ml,tv_approx]="
   ]
  },
  {
   "cell_type": "code",
   "execution_count": 210,
   "metadata": {
    "scrolled": true
   },
   "outputs": [
    {
     "name": "stdout",
     "output_type": "stream",
     "text": [
      "[0.66699793 1.058958  ]\n",
      "[0.69877933 0.26492017 0.07429193 0.14484015 0.25580178 0.37455687\n",
      " 0.5517903 ] 0.2777001989513704\n"
     ]
    },
    {
     "data": {
      "image/png": "[encoded data removed]",
      "text/plain": [
       "<Figure size 432x288 with 1 Axes>"
      ]
     },
     "metadata": {
      "needs_background": "light"
     },
     "output_type": "display_data"
    }
   ],
   "source": [
    "bias_squared=np.sum((mean_ml-tv_approx)**2,axis=1)\n",
    "plt.plot(np.log2(np.sum((mean_ml-tv_approx)**2,axis=1)),np.log2((c2/2**np.array(range(7)))**2))\n",
    "plt.plot(np.log2(np.sum((mean_ml-tv_approx)**2,axis=1)),np.log2(MSE-np.sum((mean_ml-tv_approx)**2,axis=1)))\n",
    "print(coef(np.log2(np.sum((mean_ml-tv_approx)**2,axis=1)),np.log2((c2/2**np.array(range(7)))**2)))\n",
    "print(bias_squared/(MSE-bias_squared),np.mean((bias_squared/(MSE-bias_squared))[1:]))"
   ]
  },
  {
   "cell_type": "code",
   "execution_count": 42,
   "metadata": {},
   "outputs": [],
   "source": [
    "#MSE=np.sum(MSE,axis=1)"
   ]
  },
  {
   "cell_type": "code",
   "execution_count": 211,
   "metadata": {},
   "outputs": [
    {
     "data": {
      "text/plain": [
       "array([8.94486038e-01, 3.54717817e-01, 1.18287233e-01, 2.14869872e-02,\n",
       "       5.77839112e-03, 1.48224773e-03, 4.52070244e-04])"
      ]
     },
     "execution_count": 211,
     "metadata": {},
     "output_type": "execute_result"
    }
   ],
   "source": [
    "MSE"
   ]
  },
  {
   "cell_type": "code",
   "execution_count": 163,
   "metadata": {},
   "outputs": [
    {
     "data": {
      "text/plain": [
       "Text(0, 0.5, 'log(Cost)')"
      ]
     },
     "execution_count": 163,
     "metadata": {},
     "output_type": "execute_result"
    },
    {
     "data": {
      "image/png": "[encoded data removed]",
      "text/plain": [
       "<Figure size 432x288 with 1 Axes>"
      ]
     },
     "metadata": {
      "needs_background": "light"
     },
     "output_type": "display_data"
    }
   ],
   "source": [
    "plt.plot(np.log(MSE)[1:],np.log(cost)[1:])\n",
    "plt.xlabel(\"log(MSE)\")\n",
    "plt.ylabel(\"log(Cost)\")"
   ]
  },
  {
   "cell_type": "code",
   "execution_count": 45,
   "metadata": {},
   "outputs": [
    {
     "data": {
      "text/plain": [
       "array([0.72016777, 1.43998275])"
      ]
     },
     "execution_count": 45,
     "metadata": {},
     "output_type": "execute_result"
    }
   ],
   "source": [
    "2**coef(np.log(MSE[1:]),np.log(c2*1/2**(np.array(range(1,6)))))T=80, dim=2 down"
   ]
  },
  {
   "cell_type": "code",
   "execution_count": 46,
   "metadata": {},
   "outputs": [
    {
     "ename": "ValueError",
     "evalue": "x and y must have same first dimension, but have shapes (5,) and (6,)",
     "output_type": "error",
     "traceback": [
      "\u001b[0;31m---------------------------------------------------------------------------\u001b[0m",
      "\u001b[0;31mValueError\u001b[0m                                Traceback (most recent call last)",
      "\u001b[0;32m<ipython-input-46-175a3bb0535c>\u001b[0m in \u001b[0;36m<module>\u001b[0;34m\u001b[0m\n\u001b[0;32m----> 1\u001b[0;31m \u001b[0mplt\u001b[0m\u001b[0;34m.\u001b[0m\u001b[0mplot\u001b[0m\u001b[0;34m(\u001b[0m\u001b[0mnp\u001b[0m\u001b[0;34m.\u001b[0m\u001b[0mlog\u001b[0m\u001b[0;34m(\u001b[0m\u001b[0mMSE\u001b[0m\u001b[0;34m[\u001b[0m\u001b[0;36m1\u001b[0m\u001b[0;34m:\u001b[0m\u001b[0;34m]\u001b[0m\u001b[0;34m)\u001b[0m\u001b[0;34m,\u001b[0m\u001b[0mnp\u001b[0m\u001b[0;34m.\u001b[0m\u001b[0mlog\u001b[0m\u001b[0;34m(\u001b[0m\u001b[0mc2\u001b[0m\u001b[0;34m*\u001b[0m\u001b[0;34m(\u001b[0m\u001b[0;36m1\u001b[0m\u001b[0;34m/\u001b[0m\u001b[0;36m2\u001b[0m\u001b[0;34m)\u001b[0m\u001b[0;34m**\u001b[0m\u001b[0;34m(\u001b[0m\u001b[0mnp\u001b[0m\u001b[0;34m.\u001b[0m\u001b[0marray\u001b[0m\u001b[0;34m(\u001b[0m\u001b[0mrange\u001b[0m\u001b[0;34m(\u001b[0m\u001b[0;36m1\u001b[0m\u001b[0;34m,\u001b[0m\u001b[0;36m7\u001b[0m\u001b[0;34m)\u001b[0m\u001b[0;34m)\u001b[0m\u001b[0;34m)\u001b[0m\u001b[0;34m)\u001b[0m\u001b[0;34m)\u001b[0m\u001b[0;34m\u001b[0m\u001b[0;34m\u001b[0m\u001b[0m\n\u001b[0m",
      "\u001b[0;32m/opt/anaconda3/lib/python3.8/site-packages/matplotlib/pyplot.py\u001b[0m in \u001b[0;36mplot\u001b[0;34m(scalex, scaley, data, *args, **kwargs)\u001b[0m\n\u001b[1;32m   2838\u001b[0m \u001b[0;34m@\u001b[0m\u001b[0m_copy_docstring_and_deprecators\u001b[0m\u001b[0;34m(\u001b[0m\u001b[0mAxes\u001b[0m\u001b[0;34m.\u001b[0m\u001b[0mplot\u001b[0m\u001b[0;34m)\u001b[0m\u001b[0;34m\u001b[0m\u001b[0;34m\u001b[0m\u001b[0m\n\u001b[1;32m   2839\u001b[0m \u001b[0;32mdef\u001b[0m \u001b[0mplot\u001b[0m\u001b[0;34m(\u001b[0m\u001b[0;34m*\u001b[0m\u001b[0margs\u001b[0m\u001b[0;34m,\u001b[0m \u001b[0mscalex\u001b[0m\u001b[0;34m=\u001b[0m\u001b[0;32mTrue\u001b[0m\u001b[0;34m,\u001b[0m \u001b[0mscaley\u001b[0m\u001b[0;34m=\u001b[0m\u001b[0;32mTrue\u001b[0m\u001b[0;34m,\u001b[0m \u001b[0mdata\u001b[0m\u001b[0;34m=\u001b[0m\u001b[0;32mNone\u001b[0m\u001b[0;34m,\u001b[0m \u001b[0;34m**\u001b[0m\u001b[0mkwargs\u001b[0m\u001b[0;34m)\u001b[0m\u001b[0;34m:\u001b[0m\u001b[0;34m\u001b[0m\u001b[0;34m\u001b[0m\u001b[0m\n\u001b[0;32m-> 2840\u001b[0;31m     return gca().plot(\n\u001b[0m\u001b[1;32m   2841\u001b[0m         \u001b[0;34m*\u001b[0m\u001b[0margs\u001b[0m\u001b[0;34m,\u001b[0m \u001b[0mscalex\u001b[0m\u001b[0;34m=\u001b[0m\u001b[0mscalex\u001b[0m\u001b[0;34m,\u001b[0m \u001b[0mscaley\u001b[0m\u001b[0;34m=\u001b[0m\u001b[0mscaley\u001b[0m\u001b[0;34m,\u001b[0m\u001b[0;34m\u001b[0m\u001b[0;34m\u001b[0m\u001b[0m\n\u001b[1;32m   2842\u001b[0m         **({\"data\": data} if data is not None else {}), **kwargs)\n",
      "\u001b[0;32m/opt/anaconda3/lib/python3.8/site-packages/matplotlib/axes/_axes.py\u001b[0m in \u001b[0;36mplot\u001b[0;34m(self, scalex, scaley, data, *args, **kwargs)\u001b[0m\n\u001b[1;32m   1741\u001b[0m         \"\"\"\n\u001b[1;32m   1742\u001b[0m         \u001b[0mkwargs\u001b[0m \u001b[0;34m=\u001b[0m \u001b[0mcbook\u001b[0m\u001b[0;34m.\u001b[0m\u001b[0mnormalize_kwargs\u001b[0m\u001b[0;34m(\u001b[0m\u001b[0mkwargs\u001b[0m\u001b[0;34m,\u001b[0m \u001b[0mmlines\u001b[0m\u001b[0;34m.\u001b[0m\u001b[0mLine2D\u001b[0m\u001b[0;34m)\u001b[0m\u001b[0;34m\u001b[0m\u001b[0;34m\u001b[0m\u001b[0m\n\u001b[0;32m-> 1743\u001b[0;31m         \u001b[0mlines\u001b[0m \u001b[0;34m=\u001b[0m \u001b[0;34m[\u001b[0m\u001b[0;34m*\u001b[0m\u001b[0mself\u001b[0m\u001b[0;34m.\u001b[0m\u001b[0m_get_lines\u001b[0m\u001b[0;34m(\u001b[0m\u001b[0;34m*\u001b[0m\u001b[0margs\u001b[0m\u001b[0;34m,\u001b[0m \u001b[0mdata\u001b[0m\u001b[0;34m=\u001b[0m\u001b[0mdata\u001b[0m\u001b[0;34m,\u001b[0m \u001b[0;34m**\u001b[0m\u001b[0mkwargs\u001b[0m\u001b[0;34m)\u001b[0m\u001b[0;34m]\u001b[0m\u001b[0;34m\u001b[0m\u001b[0;34m\u001b[0m\u001b[0m\n\u001b[0m\u001b[1;32m   1744\u001b[0m         \u001b[0;32mfor\u001b[0m \u001b[0mline\u001b[0m \u001b[0;32min\u001b[0m \u001b[0mlines\u001b[0m\u001b[0;34m:\u001b[0m\u001b[0;34m\u001b[0m\u001b[0;34m\u001b[0m\u001b[0m\n\u001b[1;32m   1745\u001b[0m             \u001b[0mself\u001b[0m\u001b[0;34m.\u001b[0m\u001b[0madd_line\u001b[0m\u001b[0;34m(\u001b[0m\u001b[0mline\u001b[0m\u001b[0;34m)\u001b[0m\u001b[0;34m\u001b[0m\u001b[0;34m\u001b[0m\u001b[0m\n",
      "\u001b[0;32m/opt/anaconda3/lib/python3.8/site-packages/matplotlib/axes/_base.py\u001b[0m in \u001b[0;36m__call__\u001b[0;34m(self, data, *args, **kwargs)\u001b[0m\n\u001b[1;32m    271\u001b[0m                 \u001b[0mthis\u001b[0m \u001b[0;34m+=\u001b[0m \u001b[0margs\u001b[0m\u001b[0;34m[\u001b[0m\u001b[0;36m0\u001b[0m\u001b[0;34m]\u001b[0m\u001b[0;34m,\u001b[0m\u001b[0;34m\u001b[0m\u001b[0;34m\u001b[0m\u001b[0m\n\u001b[1;32m    272\u001b[0m                 \u001b[0margs\u001b[0m \u001b[0;34m=\u001b[0m \u001b[0margs\u001b[0m\u001b[0;34m[\u001b[0m\u001b[0;36m1\u001b[0m\u001b[0;34m:\u001b[0m\u001b[0;34m]\u001b[0m\u001b[0;34m\u001b[0m\u001b[0;34m\u001b[0m\u001b[0m\n\u001b[0;32m--> 273\u001b[0;31m             \u001b[0;32myield\u001b[0m \u001b[0;32mfrom\u001b[0m \u001b[0mself\u001b[0m\u001b[0;34m.\u001b[0m\u001b[0m_plot_args\u001b[0m\u001b[0;34m(\u001b[0m\u001b[0mthis\u001b[0m\u001b[0;34m,\u001b[0m \u001b[0mkwargs\u001b[0m\u001b[0;34m)\u001b[0m\u001b[0;34m\u001b[0m\u001b[0;34m\u001b[0m\u001b[0m\n\u001b[0m\u001b[1;32m    274\u001b[0m \u001b[0;34m\u001b[0m\u001b[0m\n\u001b[1;32m    275\u001b[0m     \u001b[0;32mdef\u001b[0m \u001b[0mget_next_color\u001b[0m\u001b[0;34m(\u001b[0m\u001b[0mself\u001b[0m\u001b[0;34m)\u001b[0m\u001b[0;34m:\u001b[0m\u001b[0;34m\u001b[0m\u001b[0;34m\u001b[0m\u001b[0m\n",
      "\u001b[0;32m/opt/anaconda3/lib/python3.8/site-packages/matplotlib/axes/_base.py\u001b[0m in \u001b[0;36m_plot_args\u001b[0;34m(self, tup, kwargs)\u001b[0m\n\u001b[1;32m    397\u001b[0m \u001b[0;34m\u001b[0m\u001b[0m\n\u001b[1;32m    398\u001b[0m         \u001b[0;32mif\u001b[0m \u001b[0mx\u001b[0m\u001b[0;34m.\u001b[0m\u001b[0mshape\u001b[0m\u001b[0;34m[\u001b[0m\u001b[0;36m0\u001b[0m\u001b[0;34m]\u001b[0m \u001b[0;34m!=\u001b[0m \u001b[0my\u001b[0m\u001b[0;34m.\u001b[0m\u001b[0mshape\u001b[0m\u001b[0;34m[\u001b[0m\u001b[0;36m0\u001b[0m\u001b[0;34m]\u001b[0m\u001b[0;34m:\u001b[0m\u001b[0;34m\u001b[0m\u001b[0;34m\u001b[0m\u001b[0m\n\u001b[0;32m--> 399\u001b[0;31m             raise ValueError(f\"x and y must have same first dimension, but \"\n\u001b[0m\u001b[1;32m    400\u001b[0m                              f\"have shapes {x.shape} and {y.shape}\")\n\u001b[1;32m    401\u001b[0m         \u001b[0;32mif\u001b[0m \u001b[0mx\u001b[0m\u001b[0;34m.\u001b[0m\u001b[0mndim\u001b[0m \u001b[0;34m>\u001b[0m \u001b[0;36m2\u001b[0m \u001b[0;32mor\u001b[0m \u001b[0my\u001b[0m\u001b[0;34m.\u001b[0m\u001b[0mndim\u001b[0m \u001b[0;34m>\u001b[0m \u001b[0;36m2\u001b[0m\u001b[0;34m:\u001b[0m\u001b[0;34m\u001b[0m\u001b[0;34m\u001b[0m\u001b[0m\n",
      "\u001b[0;31mValueError\u001b[0m: x and y must have same first dimension, but have shapes (5,) and (6,)"
     ]
    },
    {
     "data": {
      "image/png": "[encoded data removed]",
      "text/plain": [
       "<Figure size 432x288 with 1 Axes>"
      ]
     },
     "metadata": {
      "needs_background": "light"
     },
     "output_type": "display_data"
    }
   ],
   "source": [
    "plt.plot(np.log(MSE[1:]),np.log(c2*(1/2)**(np.array(range(1,7)))))"
   ]
  },
  {
   "cell_type": "markdown",
   "metadata": {},
   "source": [
    "version 1"
   ]
  },
  {
   "cell_type": "code",
   "execution_count": 486,
   "metadata": {
    "scrolled": true
   },
   "outputs": [
    {
     "ename": "ValueError",
     "evalue": "x and y must have same first dimension, but have shapes (6,) and (7,)",
     "output_type": "error",
     "traceback": [
      "\u001b[0;31m---------------------------------------------------------------------------\u001b[0m",
      "\u001b[0;31mValueError\u001b[0m                                Traceback (most recent call last)",
      "\u001b[0;32m<ipython-input-486-baa1c550fd75>\u001b[0m in \u001b[0;36m<module>\u001b[0;34m\u001b[0m\n\u001b[1;32m      2\u001b[0m \u001b[0;34m\u001b[0m\u001b[0m\n\u001b[1;32m      3\u001b[0m \u001b[0mbias_squared\u001b[0m\u001b[0;34m=\u001b[0m\u001b[0mnp\u001b[0m\u001b[0;34m.\u001b[0m\u001b[0msum\u001b[0m\u001b[0;34m(\u001b[0m\u001b[0;34m(\u001b[0m\u001b[0mmean_ml\u001b[0m\u001b[0;34m-\u001b[0m\u001b[0mtv_approx\u001b[0m\u001b[0;34m)\u001b[0m\u001b[0;34m**\u001b[0m\u001b[0;36m2\u001b[0m\u001b[0;34m,\u001b[0m\u001b[0maxis\u001b[0m\u001b[0;34m=\u001b[0m\u001b[0;36m1\u001b[0m\u001b[0;34m)\u001b[0m\u001b[0;34m\u001b[0m\u001b[0;34m\u001b[0m\u001b[0m\n\u001b[0;32m----> 4\u001b[0;31m \u001b[0mplt\u001b[0m\u001b[0;34m.\u001b[0m\u001b[0mplot\u001b[0m\u001b[0;34m(\u001b[0m\u001b[0mnp\u001b[0m\u001b[0;34m.\u001b[0m\u001b[0mlog2\u001b[0m\u001b[0;34m(\u001b[0m\u001b[0mnp\u001b[0m\u001b[0;34m.\u001b[0m\u001b[0msum\u001b[0m\u001b[0;34m(\u001b[0m\u001b[0;34m(\u001b[0m\u001b[0mmean_ml\u001b[0m\u001b[0;34m-\u001b[0m\u001b[0mtv_approx\u001b[0m\u001b[0;34m)\u001b[0m\u001b[0;34m**\u001b[0m\u001b[0;36m2\u001b[0m\u001b[0;34m,\u001b[0m\u001b[0maxis\u001b[0m\u001b[0;34m=\u001b[0m\u001b[0;36m1\u001b[0m\u001b[0;34m)\u001b[0m\u001b[0;34m)\u001b[0m\u001b[0;34m,\u001b[0m\u001b[0mnp\u001b[0m\u001b[0;34m.\u001b[0m\u001b[0mlog2\u001b[0m\u001b[0;34m(\u001b[0m\u001b[0;34m(\u001b[0m\u001b[0mc2\u001b[0m\u001b[0;34m/\u001b[0m\u001b[0;36m2\u001b[0m\u001b[0;34m**\u001b[0m\u001b[0mnp\u001b[0m\u001b[0;34m.\u001b[0m\u001b[0marray\u001b[0m\u001b[0;34m(\u001b[0m\u001b[0mrange\u001b[0m\u001b[0;34m(\u001b[0m\u001b[0;36m7\u001b[0m\u001b[0;34m)\u001b[0m\u001b[0;34m)\u001b[0m\u001b[0;34m)\u001b[0m\u001b[0;34m**\u001b[0m\u001b[0;36m2\u001b[0m\u001b[0;34m)\u001b[0m\u001b[0;34m)\u001b[0m\u001b[0;34m\u001b[0m\u001b[0;34m\u001b[0m\u001b[0m\n\u001b[0m\u001b[1;32m      5\u001b[0m \u001b[0;34m\u001b[0m\u001b[0m\n\u001b[1;32m      6\u001b[0m \u001b[0mplt\u001b[0m\u001b[0;34m.\u001b[0m\u001b[0mplot\u001b[0m\u001b[0;34m(\u001b[0m\u001b[0mnp\u001b[0m\u001b[0;34m.\u001b[0m\u001b[0mlog2\u001b[0m\u001b[0;34m(\u001b[0m\u001b[0mMSE\u001b[0m\u001b[0;34m)\u001b[0m\u001b[0;34m,\u001b[0m\u001b[0mnp\u001b[0m\u001b[0;34m.\u001b[0m\u001b[0mlog2\u001b[0m\u001b[0;34m(\u001b[0m\u001b[0;34m(\u001b[0m\u001b[0mc2\u001b[0m\u001b[0;34m/\u001b[0m\u001b[0;36m2\u001b[0m\u001b[0;34m**\u001b[0m\u001b[0mnp\u001b[0m\u001b[0;34m.\u001b[0m\u001b[0marray\u001b[0m\u001b[0;34m(\u001b[0m\u001b[0mrange\u001b[0m\u001b[0;34m(\u001b[0m\u001b[0;36m7\u001b[0m\u001b[0;34m)\u001b[0m\u001b[0;34m)\u001b[0m\u001b[0;34m)\u001b[0m\u001b[0;34m**\u001b[0m\u001b[0;36m2\u001b[0m\u001b[0;34m)\u001b[0m\u001b[0;34m)\u001b[0m\u001b[0;34m\u001b[0m\u001b[0;34m\u001b[0m\u001b[0m\n",
      "\u001b[0;32m/opt/anaconda3/lib/python3.8/site-packages/matplotlib/pyplot.py\u001b[0m in \u001b[0;36mplot\u001b[0;34m(scalex, scaley, data, *args, **kwargs)\u001b[0m\n\u001b[1;32m   2838\u001b[0m \u001b[0;34m@\u001b[0m\u001b[0m_copy_docstring_and_deprecators\u001b[0m\u001b[0;34m(\u001b[0m\u001b[0mAxes\u001b[0m\u001b[0;34m.\u001b[0m\u001b[0mplot\u001b[0m\u001b[0;34m)\u001b[0m\u001b[0;34m\u001b[0m\u001b[0;34m\u001b[0m\u001b[0m\n\u001b[1;32m   2839\u001b[0m \u001b[0;32mdef\u001b[0m \u001b[0mplot\u001b[0m\u001b[0;34m(\u001b[0m\u001b[0;34m*\u001b[0m\u001b[0margs\u001b[0m\u001b[0;34m,\u001b[0m \u001b[0mscalex\u001b[0m\u001b[0;34m=\u001b[0m\u001b[0;32mTrue\u001b[0m\u001b[0;34m,\u001b[0m \u001b[0mscaley\u001b[0m\u001b[0;34m=\u001b[0m\u001b[0;32mTrue\u001b[0m\u001b[0;34m,\u001b[0m \u001b[0mdata\u001b[0m\u001b[0;34m=\u001b[0m\u001b[0;32mNone\u001b[0m\u001b[0;34m,\u001b[0m \u001b[0;34m**\u001b[0m\u001b[0mkwargs\u001b[0m\u001b[0;34m)\u001b[0m\u001b[0;34m:\u001b[0m\u001b[0;34m\u001b[0m\u001b[0;34m\u001b[0m\u001b[0m\n\u001b[0;32m-> 2840\u001b[0;31m     return gca().plot(\n\u001b[0m\u001b[1;32m   2841\u001b[0m         \u001b[0;34m*\u001b[0m\u001b[0margs\u001b[0m\u001b[0;34m,\u001b[0m \u001b[0mscalex\u001b[0m\u001b[0;34m=\u001b[0m\u001b[0mscalex\u001b[0m\u001b[0;34m,\u001b[0m \u001b[0mscaley\u001b[0m\u001b[0;34m=\u001b[0m\u001b[0mscaley\u001b[0m\u001b[0;34m,\u001b[0m\u001b[0;34m\u001b[0m\u001b[0;34m\u001b[0m\u001b[0m\n\u001b[1;32m   2842\u001b[0m         **({\"data\": data} if data is not None else {}), **kwargs)\n",
      "\u001b[0;32m/opt/anaconda3/lib/python3.8/site-packages/matplotlib/axes/_axes.py\u001b[0m in \u001b[0;36mplot\u001b[0;34m(self, scalex, scaley, data, *args, **kwargs)\u001b[0m\n\u001b[1;32m   1741\u001b[0m         \"\"\"\n\u001b[1;32m   1742\u001b[0m         \u001b[0mkwargs\u001b[0m \u001b[0;34m=\u001b[0m \u001b[0mcbook\u001b[0m\u001b[0;34m.\u001b[0m\u001b[0mnormalize_kwargs\u001b[0m\u001b[0;34m(\u001b[0m\u001b[0mkwargs\u001b[0m\u001b[0;34m,\u001b[0m \u001b[0mmlines\u001b[0m\u001b[0;34m.\u001b[0m\u001b[0mLine2D\u001b[0m\u001b[0;34m)\u001b[0m\u001b[0;34m\u001b[0m\u001b[0;34m\u001b[0m\u001b[0m\n\u001b[0;32m-> 1743\u001b[0;31m         \u001b[0mlines\u001b[0m \u001b[0;34m=\u001b[0m \u001b[0;34m[\u001b[0m\u001b[0;34m*\u001b[0m\u001b[0mself\u001b[0m\u001b[0;34m.\u001b[0m\u001b[0m_get_lines\u001b[0m\u001b[0;34m(\u001b[0m\u001b[0;34m*\u001b[0m\u001b[0margs\u001b[0m\u001b[0;34m,\u001b[0m \u001b[0mdata\u001b[0m\u001b[0;34m=\u001b[0m\u001b[0mdata\u001b[0m\u001b[0;34m,\u001b[0m \u001b[0;34m**\u001b[0m\u001b[0mkwargs\u001b[0m\u001b[0;34m)\u001b[0m\u001b[0;34m]\u001b[0m\u001b[0;34m\u001b[0m\u001b[0;34m\u001b[0m\u001b[0m\n\u001b[0m\u001b[1;32m   1744\u001b[0m         \u001b[0;32mfor\u001b[0m \u001b[0mline\u001b[0m \u001b[0;32min\u001b[0m \u001b[0mlines\u001b[0m\u001b[0;34m:\u001b[0m\u001b[0;34m\u001b[0m\u001b[0;34m\u001b[0m\u001b[0m\n\u001b[1;32m   1745\u001b[0m             \u001b[0mself\u001b[0m\u001b[0;34m.\u001b[0m\u001b[0madd_line\u001b[0m\u001b[0;34m(\u001b[0m\u001b[0mline\u001b[0m\u001b[0;34m)\u001b[0m\u001b[0;34m\u001b[0m\u001b[0;34m\u001b[0m\u001b[0m\n",
      "\u001b[0;32m/opt/anaconda3/lib/python3.8/site-packages/matplotlib/axes/_base.py\u001b[0m in \u001b[0;36m__call__\u001b[0;34m(self, data, *args, **kwargs)\u001b[0m\n\u001b[1;32m    271\u001b[0m                 \u001b[0mthis\u001b[0m \u001b[0;34m+=\u001b[0m \u001b[0margs\u001b[0m\u001b[0;34m[\u001b[0m\u001b[0;36m0\u001b[0m\u001b[0;34m]\u001b[0m\u001b[0;34m,\u001b[0m\u001b[0;34m\u001b[0m\u001b[0;34m\u001b[0m\u001b[0m\n\u001b[1;32m    272\u001b[0m                 \u001b[0margs\u001b[0m \u001b[0;34m=\u001b[0m \u001b[0margs\u001b[0m\u001b[0;34m[\u001b[0m\u001b[0;36m1\u001b[0m\u001b[0;34m:\u001b[0m\u001b[0;34m]\u001b[0m\u001b[0;34m\u001b[0m\u001b[0;34m\u001b[0m\u001b[0m\n\u001b[0;32m--> 273\u001b[0;31m             \u001b[0;32myield\u001b[0m \u001b[0;32mfrom\u001b[0m \u001b[0mself\u001b[0m\u001b[0;34m.\u001b[0m\u001b[0m_plot_args\u001b[0m\u001b[0;34m(\u001b[0m\u001b[0mthis\u001b[0m\u001b[0;34m,\u001b[0m \u001b[0mkwargs\u001b[0m\u001b[0;34m)\u001b[0m\u001b[0;34m\u001b[0m\u001b[0;34m\u001b[0m\u001b[0m\n\u001b[0m\u001b[1;32m    274\u001b[0m \u001b[0;34m\u001b[0m\u001b[0m\n\u001b[1;32m    275\u001b[0m     \u001b[0;32mdef\u001b[0m \u001b[0mget_next_color\u001b[0m\u001b[0;34m(\u001b[0m\u001b[0mself\u001b[0m\u001b[0;34m)\u001b[0m\u001b[0;34m:\u001b[0m\u001b[0;34m\u001b[0m\u001b[0;34m\u001b[0m\u001b[0m\n",
      "\u001b[0;32m/opt/anaconda3/lib/python3.8/site-packages/matplotlib/axes/_base.py\u001b[0m in \u001b[0;36m_plot_args\u001b[0;34m(self, tup, kwargs)\u001b[0m\n\u001b[1;32m    397\u001b[0m \u001b[0;34m\u001b[0m\u001b[0m\n\u001b[1;32m    398\u001b[0m         \u001b[0;32mif\u001b[0m \u001b[0mx\u001b[0m\u001b[0;34m.\u001b[0m\u001b[0mshape\u001b[0m\u001b[0;34m[\u001b[0m\u001b[0;36m0\u001b[0m\u001b[0;34m]\u001b[0m \u001b[0;34m!=\u001b[0m \u001b[0my\u001b[0m\u001b[0;34m.\u001b[0m\u001b[0mshape\u001b[0m\u001b[0;34m[\u001b[0m\u001b[0;36m0\u001b[0m\u001b[0;34m]\u001b[0m\u001b[0;34m:\u001b[0m\u001b[0;34m\u001b[0m\u001b[0;34m\u001b[0m\u001b[0m\n\u001b[0;32m--> 399\u001b[0;31m             raise ValueError(f\"x and y must have same first dimension, but \"\n\u001b[0m\u001b[1;32m    400\u001b[0m                              f\"have shapes {x.shape} and {y.shape}\")\n\u001b[1;32m    401\u001b[0m         \u001b[0;32mif\u001b[0m \u001b[0mx\u001b[0m\u001b[0;34m.\u001b[0m\u001b[0mndim\u001b[0m \u001b[0;34m>\u001b[0m \u001b[0;36m2\u001b[0m \u001b[0;32mor\u001b[0m \u001b[0my\u001b[0m\u001b[0;34m.\u001b[0m\u001b[0mndim\u001b[0m \u001b[0;34m>\u001b[0m \u001b[0;36m2\u001b[0m\u001b[0;34m:\u001b[0m\u001b[0;34m\u001b[0m\u001b[0;34m\u001b[0m\u001b[0m\n",
      "\u001b[0;31mValueError\u001b[0m: x and y must have same first dimension, but have shapes (6,) and (7,)"
     ]
    },
    {
     "data": {
      "image/png": "[encoded data removed]",
      "text/plain": [
       "<Figure size 432x288 with 1 Axes>"
      ]
     },
     "metadata": {
      "needs_background": "light"
     },
     "output_type": "display_data"
    }
   ],
   "source": [
    "bias_squared=np.sum((mean_ml-tv_approx)**2,axis=1)\n",
    "\n",
    "bias_squared=np.sum((mean_ml-tv_approx)**2,axis=1)\n",
    "plt.plot(np.log2(np.sum((mean_ml-tv_approx)**2,axis=1)),np.log2((c2/2**np.array(range(7)))**2))\n",
    "plt.plot(np.log2(MSE),np.log2((c2/2**np.array(range(7)))**2))\n",
    "coef(np.log2(np.sum((mean_ml-tv_approx)**2,axis=1)),np.log2((c2/2**np.array(range(7)))**2))\n",
    "print(bias_squared/(MSE-bias_squared),np.mean((bias_squared/(MSE-bias_squared))[1:]))"
   ]
  },
  {
   "cell_type": "code",
   "execution_count": 346,
   "metadata": {},
   "outputs": [],
   "source": [
    "MSE=np.sum(MSE,axis=1)"
   ]
  },
  {
   "cell_type": "code",
   "execution_count": 388,
   "metadata": {},
   "outputs": [
    {
     "data": {
      "text/plain": [
       "array([2.46279211e+00, 2.01880794e+00, 2.78695136e-01, 4.96901893e-02,\n",
       "       1.16941430e-02, 3.77292582e-03, 9.83988669e-04])"
      ]
     },
     "execution_count": 388,
     "metadata": {},
     "output_type": "execute_result"
    }
   ],
   "source": [
    "MSE"
   ]
  },
  {
   "cell_type": "code",
   "execution_count": 348,
   "metadata": {},
   "outputs": [
    {
     "data": {
      "text/plain": [
       "Text(0, 0.5, 'log(Cost)')"
      ]
     },
     "execution_count": 348,
     "metadata": {},
     "output_type": "execute_result"
    },
    {
     "data": {
      "image/png": "[encoded data removed]",
      "text/plain": [
       "<Figure size 432x288 with 1 Axes>"
      ]
     },
     "metadata": {
      "needs_background": "light"
     },
     "output_type": "display_data"
    }
   ],
   "source": [
    "plt.plot(np.log(MSE)[1:],np.log(cost)[1:])\n",
    "plt.xlabel(\"log(MSE)\")\n",
    "plt.ylabel(\"log(Cost)\")"
   ]
  },
  {
   "cell_type": "code",
   "execution_count": 484,
   "metadata": {},
   "outputs": [
    {
     "data": {
      "text/plain": [
       "array([0.74197055, 1.44841991])"
      ]
     },
     "execution_count": 484,
     "metadata": {},
     "output_type": "execute_result"
    }
   ],
   "source": [
    "2**coef(np.log(MSE),np.log(c2*1/2**(np.array(range(0,6)))))"
   ]
  },
  {
   "cell_type": "code",
   "execution_count": 485,
   "metadata": {},
   "outputs": [
    {
     "data": {
      "text/plain": [
       "[<matplotlib.lines.Line2D at 0x7ff570201be0>]"
      ]
     },
     "execution_count": 485,
     "metadata": {},
     "output_type": "execute_result"
    },
    {
     "data": {
      "image/png": "[encoded data removed]",
      "text/plain": [
       "<Figure size 432x288 with 1 Axes>"
      ]
     },
     "metadata": {
      "needs_background": "light"
     },
     "output_type": "display_data"
    }
   ],
   "source": [
    "plt.plot(np.log(MSE),np.log(c2*(1/2)**(np.array(range(6)))))"
   ]
  },
  {
   "cell_type": "code",
   "execution_count": 319,
   "metadata": {},
   "outputs": [
    {
     "data": {
      "text/plain": [
       "array([2.67154566e+00, 2.74328240e+00, 2.77022324e-01, 4.97550851e-02,\n",
       "       1.21880542e-02, 3.19852732e-03, 7.31169605e-04])"
      ]
     },
     "execution_count": 319,
     "metadata": {},
     "output_type": "execute_result"
    }
   ],
   "source": [
    "MSE"
   ]
  },
  {
   "cell_type": "code",
   "execution_count": 354,
   "metadata": {},
   "outputs": [
    {
     "data": {
      "text/plain": [
       "Text(0, 0.5, 'log(Cost)')"
      ]
     },
     "execution_count": 354,
     "metadata": {},
     "output_type": "execute_result"
    },
    {
     "data": {
      "image/png": "[encoded data removed]",
      "text/plain": [
       "<Figure size 432x288 with 1 Axes>"
      ]
     },
     "metadata": {
      "needs_background": "light"
     },
     "output_type": "display_data"
    }
   ],
   "source": [
    "plt.plot(np.log(MSE)[1:],np.log(cost)[1:])\n",
    "plt.xlabel(\"log(MSE)\")\n",
    "plt.ylabel(\"log(Cost)\")\n"
   ]
  },
  {
   "cell_type": "code",
   "execution_count": 320,
   "metadata": {},
   "outputs": [
    {
     "data": {
      "text/plain": [
       "array([-1.3774844 ,  0.42910392])"
      ]
     },
     "execution_count": 320,
     "metadata": {},
     "output_type": "execute_result"
    }
   ],
   "source": [
    "coef(np.log(MSE[1:]),np.log(c2*1/2**(np.array(range(1,7)))))"
   ]
  },
  {
   "cell_type": "code",
   "execution_count": 321,
   "metadata": {},
   "outputs": [
    {
     "data": {
      "text/plain": [
       "[<matplotlib.lines.Line2D at 0x7ff56fa91760>]"
      ]
     },
     "execution_count": 321,
     "metadata": {},
     "output_type": "execute_result"
    },
    {
     "data": {
      "image/png": "[encoded data removed]",
      "text/plain": [
       "<Figure size 432x288 with 1 Axes>"
      ]
     },
     "metadata": {
      "needs_background": "light"
     },
     "output_type": "display_data"
    }
   ],
   "source": [
    "plt.plot(np.log(MSE[1:]),np.log(c2*1/2**(np.array(range(1,7)))))"
   ]
  },
  {
   "cell_type": "code",
   "execution_count": 267,
   "metadata": {},
   "outputs": [
    {
     "data": {
      "text/plain": [
       "array([2.4500000e+02, 1.6625000e+03, 8.2250000e+03, 4.3137500e+04,\n",
       "       2.4052000e+05, 1.3140925e+06, 7.0363650e+06])"
      ]
     },
     "execution_count": 267,
     "metadata": {},
     "output_type": "execute_result"
    }
   ],
   "source": [
    "cost"
   ]
  },
  {
   "cell_type": "code",
   "execution_count": 247,
   "metadata": {},
   "outputs": [
    {
     "data": {
      "text/plain": [
       "array([1.23306697e+00, 8.53203441e-01, 1.39592273e-01, 2.95697552e-02,\n",
       "       6.13551419e-03, 1.26673315e-03, 3.43098119e-04])"
      ]
     },
     "execution_count": 247,
     "metadata": {},
     "output_type": "execute_result"
    }
   ],
   "source": [
    "MSE"
   ]
  },
  {
   "cell_type": "code",
   "execution_count": 248,
   "metadata": {},
   "outputs": [
    {
     "data": {
      "text/plain": [
       "Text(0, 0.5, 'log(Cost)')"
      ]
     },
     "execution_count": 248,
     "metadata": {},
     "output_type": "execute_result"
    },
    {
     "data": {
      "image/png": "[encoded data removed]",
      "text/plain": [
       "<Figure size 432x288 with 1 Axes>"
      ]
     },
     "metadata": {
      "needs_background": "light"
     },
     "output_type": "display_data"
    }
   ],
   "source": [
    "plt.plot(np.log(MSE)[1:],np.log(cost)[1:])\n",
    "plt.xlabel(\"log(MSE)\")\n",
    "plt.ylabel(\"log(Cost)\")\n"
   ]
  },
  {
   "cell_type": "code",
   "execution_count": 256,
   "metadata": {},
   "outputs": [
    {
     "data": {
      "text/plain": [
       "array([-0.98333938,  0.44208788])"
      ]
     },
     "execution_count": 256,
     "metadata": {},
     "output_type": "execute_result"
    }
   ],
   "source": [
    "coef(np.log(MSE[1:]),np.log(c2*1/2**(np.array(range(1,7)))))"
   ]
  },
  {
   "cell_type": "code",
   "execution_count": 253,
   "metadata": {},
   "outputs": [
    {
     "data": {
      "text/plain": [
       "[<matplotlib.lines.Line2D at 0x7ff56f47cf70>]"
      ]
     },
     "execution_count": 253,
     "metadata": {},
     "output_type": "execute_result"
    },
    {
     "data": {
      "image/png": "[encoded data removed]",
      "text/plain": [
       "<Figure size 432x288 with 1 Axes>"
      ]
     },
     "metadata": {
      "needs_background": "light"
     },
     "output_type": "display_data"
    }
   ],
   "source": [
    "plt.plot(np.log(MSE[1:]),np.log(c2*1/2**(np.array(range(1,7)))))"
   ]
  },
  {
   "cell_type": "markdown",
   "metadata": {},
   "source": [
    "## T=10, d=10"
   ]
  },
  {
   "cell_type": "markdown",
   "metadata": {},
   "source": [
    "### Parameter tuning F1"
   ]
  },
  {
   "cell_type": "code",
   "execution_count": 139,
   "metadata": {},
   "outputs": [
    {
     "data": {
      "text/plain": [
       "array([[-9.91388651],\n",
       "       [ 2.8159785 ],\n",
       "       [ 9.65210242],\n",
       "       [ 6.94528871],\n",
       "       [-2.74270938],\n",
       "       [ 4.28065243],\n",
       "       [-6.68921517],\n",
       "       [-5.22407267],\n",
       "       [-6.3985988 ],\n",
       "       [ 6.17746058]])"
      ]
     },
     "execution_count": 139,
     "metadata": {},
     "output_type": "execute_result"
    },
    {
     "data": {
      "image/png": "[encoded data removed]",
      "text/plain": [
       "<Figure size 432x288 with 1 Axes>"
      ]
     },
     "metadata": {
      "needs_background": "light"
     },
     "output_type": "display_data"
    }
   ],
   "source": [
    "import numpy as np\n",
    "import matplotlib.pyplot as plt \n",
    "from scipy import linalg as la\n",
    "from scipy.sparse import identity\n",
    "\n",
    "\n",
    "amm=2.\n",
    "bmm=2.\n",
    "cmm=50.\n",
    "b=2\n",
    "T=80\n",
    "lz=11\n",
    "l=4\n",
    "N=50\n",
    "tau=1/2**(l)\n",
    "J=T*(2**l)\n",
    "seed_val=2\n",
    "B=5\n",
    "np.random.seed(seed_val_col)\n",
    "collection_input=gen_model(dim)\n",
    "## The with numpy.errstate argument is used to avoid any stupid warning\n",
    "with np.errstate(divide='ignore'):\n",
    "    np.random.seed(seed_val_obs)\n",
    "    [z,v] = gen_data(T,lz,collection_input)\n",
    "    #[m,c] = KBF(T,l,lmax,z,collection_input)\n",
    "    ems=np.zeros((B,J+1,dim,1))\n",
    "    for i in range(B):\n",
    "        ems[i] = EnKBF(T,l,lz,z,N,collection_input)[0]\n",
    "        \n",
    "        #[m2,c2] = DEnKBF(T,l,lmax,z,N,collection_input)\n",
    "v1=cut(T,lz,l,v)\n",
    "J=T*(2**l)\n",
    "x1 = tau*np.arange(J+1)\n",
    "#print(m1[:,2].T[0])\n",
    "#plt.plot(x1,m[:,0],label=\"KBF posterior mean estimate\")\n",
    "plt.plot(x1,v1[:,0],label=\"true value\")\n",
    "for i in range(B):\n",
    "    plt.plot(x1,ems[i,:,0,0])\n",
    "#plt.plot(x1,m2[:,0],label=\"DEnKBF posterior mean estimate\")\n",
    "plt.xlabel('time')\n",
    "plt.ylabel('value')\n",
    "plt.title('Kalman-Bucy Filter')\n",
    "plt.legend()\n",
    "plt.grid()\n",
    "EnKBF(T,l,lz,z,N,collection_input)[0][-1]"
   ]
  },
  {
   "cell_type": "code",
   "execution_count": 119,
   "metadata": {},
   "outputs": [
    {
     "data": {
      "image/png": "[encoded data removed]",
      "text/plain": [
       "<Figure size 432x288 with 1 Axes>"
      ]
     },
     "metadata": {
      "needs_background": "light"
     },
     "output_type": "display_data"
    }
   ],
   "source": [
    "index=5\n",
    "plt.plot(x1,v1[:,index],label=\"true value\")\n",
    "for i in range(B):\n",
    "    plt.plot(x1,ems[i,:,index,0])\n",
    "#plt.plot(x1,m2[:,0],label=\"DEnKBF posterior mean estimate\")\n",
    "plt.xlabel('time')\n",
    "plt.ylabel('value')\n",
    "plt.title('Kalman-Bucy Filter')\n",
    "plt.legend()\n",
    "plt.grid()"
   ]
  },
  {
   "cell_type": "code",
   "execution_count": 120,
   "metadata": {},
   "outputs": [],
   "source": [
    "def fit_c1(seed_val,dim):\n",
    "    np.random.seed(seed_val_col)\n",
    "    l=4\n",
    "    collection_input = gen_model(dim)\n",
    "    np.random.seed(seed_val_obs)\n",
    "    z = gen_data(T,Lmax,collection_input)[0]\n",
    "    num_seq = np.zeros(6)\n",
    "    for i in range(6):\n",
    "        num_seq[i] = 50*2**i\n",
    "    np.random.seed(seed_val)\n",
    "    Rep=100\n",
    "    evar=np.zeros(6)\n",
    "    for numi in range(6):\n",
    "        est=np.zeros(Rep)\n",
    "        #print(\"numi=\",numi)\n",
    "        for rep in range(Rep):\n",
    "            with np.errstate(divide='ignore'):\n",
    "                mean_mat =EnKBF(T,l,Lmax,z,int(num_seq[numi]),collection_input)[0]\n",
    "                est[rep] = np.mean(mean_mat[-1,:])\n",
    "                #print(est[rep])\n",
    "        evar[numi] = np.var(est)\n",
    "    \n",
    "    x = np.log10(num_seq)\n",
    "    #x=np.array([i for i in range(6)])\n",
    "    y = np.log10(evar)\n",
    "    b = coef(x,y)\n",
    "    plt.plot(x,y)\n",
    "    plt.plot(x,b[0]+b[1]*x)\n",
    "    \n",
    "    return 10**(b)"
   ]
  },
  {
   "cell_type": "code",
   "execution_count": 135,
   "metadata": {},
   "outputs": [],
   "source": [
    "T=10\n",
    "dim=10\n",
    "Lmax=11\n",
    "seed_val_col=5\n",
    "seed_val_obs=5\n",
    "\n",
    "amm=2.\n",
    "bmm=2.\n",
    "cmm=50.\n",
    "b=2"
   ]
  },
  {
   "cell_type": "code",
   "execution_count": 122,
   "metadata": {},
   "outputs": [
    {
     "data": {
      "image/png": "[encoded data removed]",
      "text/plain": [
       "<Figure size 432x288 with 1 Axes>"
      ]
     },
     "metadata": {
      "needs_background": "light"
     },
     "output_type": "display_data"
    }
   ],
   "source": [
    "c1=fit_c1(42,dim)"
   ]
  },
  {
   "cell_type": "code",
   "execution_count": 123,
   "metadata": {},
   "outputs": [
    {
     "data": {
      "text/plain": [
       "array([7.61269071, 0.11710295])"
      ]
     },
     "execution_count": 123,
     "metadata": {},
     "output_type": "execute_result"
    }
   ],
   "source": [
    "#2\n",
    "c1"
   ]
  },
  {
   "cell_type": "code",
   "execution_count": 140,
   "metadata": {},
   "outputs": [],
   "source": [
    "def fit_c3(seed_val,dim):\n",
    "    np.random.seed(seed_val_col)\n",
    "    #dim = 10\n",
    "    #lmax=9\n",
    "    N = 50\n",
    "    collection_input = gen_model(dim)\n",
    "    np.random.seed(seed_val_obs)\n",
    "    z = gen_data(T,Lmax,collection_input)[0]\n",
    "    delta_seq = np.zeros(lmaxc3-l0+1)\n",
    "    for l in range(l0,lmaxc3+1):\n",
    "        delta_seq[l-l0] = 2**(-l)\n",
    "    Rep=100\n",
    "    evar=np.zeros(lmaxc3-l0+1)\n",
    "    np.random.seed(seed_val)\n",
    "    for l in range(l0,lmaxc3+1):\n",
    "        print(\"Current level \",l,\". \",lmaxc3-l,\"remaining.\" )\n",
    "        est = np.zeros(Rep)\n",
    "        with progressbar.ProgressBar(max_value=Rep) as bar:\n",
    "            for rep in range(Rep):\n",
    "                with np.errstate(divide='ignore'):\n",
    "                    [m,m1]=CEnKBF(T,l,Lmax,z,N,collection_input)\n",
    "                    est[rep] = np.mean(m[-1,:]) - np.mean(m1[-1,:])\n",
    "                    bar.update(rep)\n",
    "        evar[l-l0] = np.var(est)\n",
    "        \n",
    "    #x = np.log10(delta_seq[4:8])\n",
    "    x=np.array(range(l0,lmaxc3+1))\n",
    "    y = np.log10(evar)\n",
    "    b=coef(x,y)\n",
    "    plt.plot(x,y)\n",
    "    return N*10**(b)"
   ]
  },
  {
   "cell_type": "code",
   "execution_count": 142,
   "metadata": {},
   "outputs": [
    {
     "name": "stdout",
     "output_type": "stream",
     "text": [
      "Current level  5 .  3 remaining.\n"
     ]
    },
    {
     "name": "stderr",
     "output_type": "stream",
     "text": [
      "100% (100 of 100) |######################| Elapsed Time: 0:01:25 Time:  0:01:25\n"
     ]
    },
    {
     "name": "stdout",
     "output_type": "stream",
     "text": [
      "Current level  6 .  2 remaining.\n"
     ]
    },
    {
     "name": "stderr",
     "output_type": "stream",
     "text": [
      "100% (100 of 100) |######################| Elapsed Time: 0:03:04 Time:  0:03:04\n"
     ]
    },
    {
     "name": "stdout",
     "output_type": "stream",
     "text": [
      "Current level  7 .  1 remaining.\n"
     ]
    },
    {
     "name": "stderr",
     "output_type": "stream",
     "text": [
      "100% (100 of 100) |######################| Elapsed Time: 0:06:00 Time:  0:06:00\n"
     ]
    },
    {
     "name": "stdout",
     "output_type": "stream",
     "text": [
      "Current level  8 .  0 remaining.\n"
     ]
    },
    {
     "name": "stderr",
     "output_type": "stream",
     "text": [
      "100% (100 of 100) |######################| Elapsed Time: 0:11:02 Time:  0:11:02\n"
     ]
    },
    {
     "data": {
      "image/png": "[encoded data removed]",
      "text/plain": [
       "<Figure size 432x288 with 1 Axes>"
      ]
     },
     "metadata": {
      "needs_background": "light"
     },
     "output_type": "display_data"
    }
   ],
   "source": [
    "l0=5\n",
    "lmaxc3=8\n",
    "c3=fit_c3(2,dim)"
   ]
  },
  {
   "cell_type": "code",
   "execution_count": 144,
   "metadata": {},
   "outputs": [
    {
     "data": {
      "text/plain": [
       "array([ 0.07894818, 48.55283227])"
      ]
     },
     "execution_count": 144,
     "metadata": {},
     "output_type": "execute_result"
    }
   ],
   "source": [
    "#1\n",
    "c3"
   ]
  },
  {
   "cell_type": "code",
   "execution_count": 145,
   "metadata": {},
   "outputs": [],
   "source": [
    "c1=0.90098574\n",
    "c2=0.633350592759386\n",
    "c3=0.07894818"
   ]
  },
  {
   "cell_type": "code",
   "execution_count": 148,
   "metadata": {},
   "outputs": [
    {
     "data": {
      "text/plain": [
       "array([27603.,  7257.,  3630.,  1815.,   909.,   456.,   228.])"
      ]
     },
     "execution_count": 148,
     "metadata": {},
     "output_type": "execute_result"
    }
   ],
   "source": [
    "C=3\n",
    "Numcal(C,6,0)"
   ]
  },
  {
   "cell_type": "code",
   "execution_count": 70,
   "metadata": {},
   "outputs": [],
   "source": [
    "def simulate_mse(seed_val):\n",
    "    \n",
    "    lmax = Lmax\n",
    "    #dim = 5\n",
    "    #T=10\n",
    "    np.random.seed(seed_val_col)\n",
    "    collection_input = gen_model(dim)\n",
    "    np.random.seed(seed_val_obs)\n",
    "    z = gen_data(T,lmax,collection_input)[0]\n",
    "    N=500\n",
    "    Rep=100\n",
    "    \n",
    "    tv_rep = np.zeros((Rep,dim))\n",
    "    with progressbar.ProgressBar(max_value=Rep) as bar:\n",
    "        for rep in range(Rep):\n",
    "            tv_rep[rep] = EnKBF(T,lmax,lmax,z,N,collection_input)[0][-1,:,0]\n",
    "            bar.update(rep)\n",
    "            \n",
    "            \n",
    "    tv_approx = np.mean(tv_rep,axis=0)\n",
    "    mse_ml=np.zeros((L-l0+1,dim))\n",
    "    levels=np.array(range(l0,L+1))\n",
    "    mean_ml=np.zeros((L-l0+1,dim))\n",
    "    delt_level=np.zeros(10)\n",
    "    C=3.\n",
    "    Rep=100\n",
    "    costs=np.zeros(L-l0+1)\n",
    "    for l in range(l0,L+1):\n",
    "        est_ml=np.zeros((Rep,dim))\n",
    "        #est_en=np.zeros(Rep)\n",
    "        print(\"Current level is\",l,\".\",L-l, \"remaining.\")\n",
    "        with progressbar.ProgressBar(max_value=Rep) as bar:\n",
    "            ML_real=np.zeros((Rep,dim))\n",
    "            for rep in range(Rep):\n",
    "                with np.errstate(divide='ignore'):\n",
    "                    #mean_en = DEnKBF(T,l,lmax,z,N,collection_input)[0][-1,:]\n",
    "                    #print(T,l)\n",
    "                    ML_real[rep] = MLEnKBF(C,T,l,lmax,l0,z,collection_input)\n",
    "                    seed_j=0\n",
    "                    while  math.isnan(ML_real[rep,0]):\n",
    "                        np.random.seed(seed_j)\n",
    "                        ML_real[rep] =MLEnKBF(C,T,l,lmax,l0,z,collection_input)\n",
    "                        #print(ML_real[rep])\n",
    "                        seed_j+=1\n",
    "                    est_ml[rep] = (ML_real[rep] - tv_approx)**2\n",
    "                    #est_en[rep] = np.sum((mean_en - tv_approx)**2)\n",
    "                    bar.update(rep)\n",
    "            mean_ml[l-l0]=np.mean(ML_real,axis=0)       \n",
    "            mse_ml[l-l0]=np.mean(est_ml,axis=0)\n",
    "            costs[l-l0]=cost_mlenkbf(C,T,l,l0)\n",
    "            \n",
    "        #print(mse_ml[l-l0])\n",
    "    \n",
    "    return [mse_ml,levels,costs,mean_ml,tv_approx]"
   ]
  },
  {
   "cell_type": "code",
   "execution_count": 71,
   "metadata": {},
   "outputs": [],
   "source": [
    "def Numcal(C,L,l0):\n",
    "    Num=np.zeros(L-l0+1)\n",
    "    epsilon = np.sqrt(2)*c2 * 2**(-L)\n",
    "    Num[0] = np.ceil(2*c1 * epsilon**(-2))\n",
    "    for li in range(1,L-l0+1):\n",
    "        Num[li]=np.maximum(np.ceil(2*epsilon**(-2)*c3*(L-l0)*2**(-li)),2)\n",
    "        \n",
    "    return(np.ceil(Num*C))"
   ]
  },
  {
   "cell_type": "code",
   "execution_count": 72,
   "metadata": {},
   "outputs": [],
   "source": [
    "def MLEnKBF(C,T,L,lmax,l0,z,collection_input):\n",
    "    Num=Numcal(C,L,l0)\n",
    "    telescopic_summand=np.zeros((L-l0+1,dim))\n",
    "    [m,c]=EnKBF(T,l0,lmax,z,int(Num[0]),collection_input)\n",
    "    telescopic_summand[0]=m[-1,:,0]\n",
    "    for l in range(l0+1,L+1):\n",
    "        [m1,m2]=CEnKBF(T,l,lmax,z,int(Num[l-l0]),collection_input)\n",
    "        telescopic_summand[l-l0]=m1[-1,:,0]-m2[-1,:,0]\n",
    "    est=np.sum(telescopic_summand,axis=0)\n",
    "    return(est)"
   ]
  },
  {
   "cell_type": "code",
   "execution_count": 149,
   "metadata": {},
   "outputs": [
    {
     "name": "stdout",
     "output_type": "stream",
     "text": [
      "[-2.43830611  0.86486738]\n"
     ]
    }
   ],
   "source": [
    "C=3\n",
    "l0=0\n",
    "N=100\n",
    "lmax=6\n",
    "np.random.seed(seed_val_col)\n",
    "collection_input = gen_model(dim)\n",
    "np.random.seed(seed_val_obs)\n",
    "z = gen_data(T,Lmax,collection_input)[0]\n",
    "print(MLEnKBF(C,T,6,Lmax,l0,z,collection_input))\n",
    "#print(EnKBF(T,lmax,Lmax,z,N,collection_input)[0][-1])"
   ]
  },
  {
   "cell_type": "code",
   "execution_count": 150,
   "metadata": {
    "scrolled": true
   },
   "outputs": [
    {
     "name": "stderr",
     "output_type": "stream",
     "text": [
      "100% (100 of 100) |######################| Elapsed Time: 2:17:47 Time:  2:17:47\n",
      "  6% (6 of 100) |#                       | Elapsed Time: 0:00:00 ETA:   0:00:02"
     ]
    },
    {
     "name": "stdout",
     "output_type": "stream",
     "text": [
      "Current level is 0 . 6 remaining.\n"
     ]
    },
    {
     "name": "stderr",
     "output_type": "stream",
     "text": [
      "100% (100 of 100) |######################| Elapsed Time: 0:00:02 Time:  0:00:02\n",
      "  0% (0 of 100) |                        | Elapsed Time: 0:00:00 ETA:  --:--:--"
     ]
    },
    {
     "name": "stdout",
     "output_type": "stream",
     "text": [
      "Current level is 1 . 5 remaining.\n"
     ]
    },
    {
     "name": "stderr",
     "output_type": "stream",
     "text": [
      "100% (100 of 100) |######################| Elapsed Time: 0:00:07 Time:  0:00:07\n",
      "  0% (0 of 100) |                        | Elapsed Time: 0:00:00 ETA:  --:--:--"
     ]
    },
    {
     "name": "stdout",
     "output_type": "stream",
     "text": [
      "Current level is 2 . 4 remaining.\n"
     ]
    },
    {
     "name": "stderr",
     "output_type": "stream",
     "text": [
      "100% (100 of 100) |######################| Elapsed Time: 0:00:14 Time:  0:00:14\n"
     ]
    },
    {
     "name": "stdout",
     "output_type": "stream",
     "text": [
      "Current level is 3 . 3 remaining.\n"
     ]
    },
    {
     "name": "stderr",
     "output_type": "stream",
     "text": [
      "100% (100 of 100) |######################| Elapsed Time: 0:00:35 Time:  0:00:35\n"
     ]
    },
    {
     "name": "stdout",
     "output_type": "stream",
     "text": [
      "Current level is 4 . 2 remaining.\n"
     ]
    },
    {
     "name": "stderr",
     "output_type": "stream",
     "text": [
      "100% (100 of 100) |######################| Elapsed Time: 0:01:53 Time:  0:01:53\n"
     ]
    },
    {
     "name": "stdout",
     "output_type": "stream",
     "text": [
      "Current level is 5 . 1 remaining.\n"
     ]
    },
    {
     "name": "stderr",
     "output_type": "stream",
     "text": [
      "100% (100 of 100) |######################| Elapsed Time: 0:16:03 Time:  0:16:03\n"
     ]
    },
    {
     "name": "stdout",
     "output_type": "stream",
     "text": [
      "Current level is 6 . 0 remaining.\n"
     ]
    },
    {
     "name": "stderr",
     "output_type": "stream",
     "text": [
      "100% (100 of 100) |######################| Elapsed Time: 4:19:13 Time:  4:19:13\n"
     ]
    }
   ],
   "source": [
    "L=6\n",
    "[MSE,levels,cost,mean_ml,tv_approx]=simulate_mse(seed_val)"
   ]
  }
 ],
 "metadata": {
  "kernelspec": {
   "display_name": "Python 3",
   "language": "python",
   "name": "python3"
  },
  "language_info": {
   "codemirror_mode": {
    "name": "ipython",
    "version": 3
   },
   "file_extension": ".py",
   "mimetype": "text/x-python",
   "name": "python",
   "nbconvert_exporter": "python",
   "pygments_lexer": "ipython3",
   "version": "3.8.5"
  }
 },
 "nbformat": 4,
 "nbformat_minor": 4
}
